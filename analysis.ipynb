{
 "cells": [
  {
   "cell_type": "markdown",
   "metadata": {},
   "source": [
    "Unfortunately, it was not possible to directly query the API to retrieve the relevant information because the information that can be retrieved is too limited. For example, it was not possible to retrieve all papers that include topics of medicine and AI which is what this entire project is based on. \n",
    "Step 2 is done because combining all the csv files into one file would create a file of more than 20GB which is too large to be processed on my computer at once and lead to kernel crashes. "
   ]
  },
  {
   "cell_type": "markdown",
   "metadata": {},
   "source": [
    "# Preprocesing"
   ]
  },
  {
   "cell_type": "code",
   "execution_count": null,
   "metadata": {},
   "outputs": [],
   "source": [
    "import requests\n",
    "import pandas as pd\n",
    "\n",
    "url = f\"https://api.openalex.org/works?filter=from_publication_date:2019-01-01&per_page=200&cursor=*\"\n",
    "response = requests.get(url)"
   ]
  },
  {
   "cell_type": "markdown",
   "metadata": {},
   "source": [
    "## Preprocessing and saving"
   ]
  },
  {
   "cell_type": "markdown",
   "metadata": {},
   "source": [
    "Reading in all the files with pandas is not possible because all the csv files need together 20GB worth of storage which is too large to be read into memory all at once. Therefore, the dask library is used to preprocess the data. "
   ]
  },
  {
   "cell_type": "code",
   "execution_count": 36,
   "metadata": {},
   "outputs": [
    {
     "data": {
      "text/plain": [
       "Index(['title', 'id', 'doi', 'publication_date', 'language', 'type',\n",
       "       'open_access', 'authors_name', 'authors_orcid', 'authors_id',\n",
       "       'authors_positions', 'institution_names', 'institution_ids',\n",
       "       'institution_types', 'institudion_countries', 'countries', 'citations',\n",
       "       'topics', 'domains', 'fields', 'subfields', 'keywords', 'concepts',\n",
       "       'referenced_work_count', 'counts_by_years', 'references'],\n",
       "      dtype='object')"
      ]
     },
     "execution_count": 36,
     "metadata": {},
     "output_type": "execute_result"
    }
   ],
   "source": [
    "import dask.dataframe as dd\n",
    "# files have been stored in a folder on an external hard drive\n",
    "df = dd.read_csv(\"/Volumes/Festplatte/dataviz/data/openalex_*.csv\") \n",
    "df.columns"
   ]
  },
  {
   "cell_type": "code",
   "execution_count": 37,
   "metadata": {},
   "outputs": [
    {
     "data": {
      "text/plain": [
       "['/Users/lisa/Documents/DataScienceMaster/visualization/project/openalex_articles_main.csv']"
      ]
     },
     "execution_count": 37,
     "metadata": {},
     "output_type": "execute_result"
    }
   ],
   "source": [
    "# safe main info for articles\n",
    "df[df[\"type\"] == \"article\"][\n",
    "    [\"title\", \"id\", \"doi\", \"publication_date\", \"language\", \"type\", \"open_access\", \"citations\", \"referenced_work_count\"]\n",
    "].to_csv(\"openalex_articles_main.csv\", index=False, single_file=True)\n",
    "\n",
    "# save the authors data\n",
    "df[df[\"type\"] == \"article\"][\n",
    "    [\n",
    "        \"doi\",\n",
    "        \"authors_name\",\n",
    "        \"authors_orcid\",\n",
    "        \"authors_id\",\n",
    "        \"authors_positions\",\n",
    "        \"institution_names\",\n",
    "        \"institution_ids\",\n",
    "        \"institution_types\",\n",
    "        \"institudion_countries\",\n",
    "        \"countries\",\n",
    "    ]\n",
    "].to_csv(\"openalex_articles_authors_institutions.csv\", index=False, single_file=True)\n",
    "\n",
    "# save the topics data\n",
    "df[df[\"type\"] == \"article\"][[\"doi\", \"topics\"]].to_csv(\"openalex_articles_topics.csv\", index=False, single_file=True)\n",
    "\n",
    "# save the domain data\n",
    "df[df[\"type\"] == \"article\"][[\"doi\", \"domains\"]].to_csv(\"openalex_articles_domains.csv\", index=False, single_file=True)\n",
    "\n",
    "# save the fields data\n",
    "df[df[\"type\"] == \"article\"][[\"doi\", \"fields\"]].to_csv(\"openalex_articles_fields.csv\", index=False, single_file=True)\n",
    "\n",
    "# save the subfields data\n",
    "df[df[\"type\"] == \"article\"][[\"doi\", \"subfields\"]].to_csv(\n",
    "    \"openalex_articles_subfields.csv\", index=False, single_file=True\n",
    ")\n",
    "\n",
    "# save concepts data\n",
    "df[df[\"type\"] == \"article\"][[\"doi\", \"concepts\"]].to_csv(\"openalex_articles_concepts.csv\", index=False, single_file=True)\n",
    "\n",
    "# save authors data\n",
    "df[df[\"type\"] == \"article\"][\n",
    "    [\n",
    "        \"doi\",\n",
    "        \"authors_id\",\n",
    "        \"authors_positions\",\n",
    "        \"institution_ids\",\n",
    "        \"institution_types\",\n",
    "        \"institudion_countries\",\n",
    "        \"countries\",\n",
    "    ]\n",
    "].to_csv(\"openalex_articles_authors_institutions.csv\", index=False, single_file=True)\n",
    "\n",
    "# save the counts by years data\n",
    "df[df[\"type\"] == \"article\"][[\"doi\", \"counts_by_years\"]].to_csv(\n",
    "    \"openalex_articles_citation_counts_by_year.csv\", index=False, single_file=True\n",
    ")"
   ]
  },
  {
   "cell_type": "code",
   "execution_count": 38,
   "metadata": {},
   "outputs": [
    {
     "data": {
      "text/plain": [
       "['/Users/lisa/Documents/DataScienceMaster/visualization/project/openalex_articles_keywords.csv']"
      ]
     },
     "execution_count": 38,
     "metadata": {},
     "output_type": "execute_result"
    }
   ],
   "source": [
    "# save the keywords data\n",
    "df[df[\"type\"] == \"article\"][[\"doi\", \"keywords\"]].to_csv(\"openalex_articles_keywords.csv\", index=False, single_file=True)"
   ]
  },
  {
   "cell_type": "code",
   "execution_count": 6,
   "metadata": {},
   "outputs": [],
   "source": [
    "import sqlite3\n",
    "import time\n",
    "\n",
    "path_to_csv = \"/Volumes/Festplatte/dataviz/\"\n",
    "db_path = \"openalex.db\"\n",
    "\n",
    "# Connect to the database\n",
    "conn = sqlite3.connect(db_path)\n",
    "\n",
    "\n",
    "def write_to_sql_with_retry(df, table_name, conn, chunksize=1000, max_retries=3):\n",
    "    for attempt in range(max_retries):\n",
    "        try:\n",
    "            df.to_sql(name=table_name, con=conn, if_exists=\"replace\", chunksize=chunksize)\n",
    "            print(\"Data written to SQL successfully.\")\n",
    "            break\n",
    "        except Exception as e:\n",
    "            print(f\"Attempt {attempt + 1} failed: {e}\")\n",
    "            if attempt < max_retries - 1:\n",
    "                time.sleep(5)  # Wait for 5 seconds before retrying\n",
    "            else:\n",
    "                print(\"Max retries reached. Failed to write data to SQL.\")\n",
    "                raise"
   ]
  },
  {
   "cell_type": "code",
   "execution_count": 7,
   "metadata": {},
   "outputs": [
    {
     "name": "stdout",
     "output_type": "stream",
     "text": [
      "Data written to SQL successfully.\n"
     ]
    }
   ],
   "source": [
    "df = pd.read_csv(f\"{path_to_csv}openalex_articles_main.csv\")\n",
    "write_to_sql_with_retry(df, \"main\", conn)"
   ]
  },
  {
   "cell_type": "code",
   "execution_count": 8,
   "metadata": {},
   "outputs": [
    {
     "name": "stdout",
     "output_type": "stream",
     "text": [
      "Data written to SQL successfully.\n"
     ]
    }
   ],
   "source": [
    "df = pd.read_csv(f\"{path_to_csv}openalex_articles_keywords.csv\")\n",
    "df[\"num_keywords\"] = df[\"keywords\"].apply(lambda x: len(x.split(\",\")))\n",
    "df.keywords = df.keywords.transform(lambda x: x[2:-2].split(\"', '\"))\n",
    "df = df.explode(\"keywords\")\n",
    "write_to_sql_with_retry(df, \"keywords\", conn)"
   ]
  },
  {
   "cell_type": "code",
   "execution_count": 1,
   "metadata": {},
   "outputs": [],
   "source": [
    "df = pd.read_csv(\"openalex_articles_authors_institutions.csv\")"
   ]
  },
  {
   "cell_type": "code",
   "execution_count": 2,
   "metadata": {},
   "outputs": [
    {
     "data": {
      "text/html": [
       "<div>\n",
       "<style scoped>\n",
       "    .dataframe tbody tr th:only-of-type {\n",
       "        vertical-align: middle;\n",
       "    }\n",
       "\n",
       "    .dataframe tbody tr th {\n",
       "        vertical-align: top;\n",
       "    }\n",
       "\n",
       "    .dataframe thead th {\n",
       "        text-align: right;\n",
       "    }\n",
       "</style>\n",
       "<table border=\"1\" class=\"dataframe\">\n",
       "  <thead>\n",
       "    <tr style=\"text-align: right;\">\n",
       "      <th></th>\n",
       "      <th>doi</th>\n",
       "      <th>authors_id</th>\n",
       "      <th>authors_positions</th>\n",
       "      <th>institution_ids</th>\n",
       "      <th>institution_types</th>\n",
       "      <th>institudion_countries</th>\n",
       "      <th>countries</th>\n",
       "    </tr>\n",
       "  </thead>\n",
       "  <tbody>\n",
       "    <tr>\n",
       "      <th>0</th>\n",
       "      <td>https://doi.org/10.3322/caac.21660</td>\n",
       "      <td>['https://openalex.org/A5082191284', 'https://...</td>\n",
       "      <td>['first', 'middle', 'middle', 'middle', 'middl...</td>\n",
       "      <td>['https://openalex.org/I1288198617', 'https://...</td>\n",
       "      <td>['nonprofit', 'government', 'nonprofit', 'gove...</td>\n",
       "      <td>['US', 'FR', 'US', 'FR', 'FR', 'US', 'FR']</td>\n",
       "      <td>[['US'], ['FR'], ['US'], ['FR'], ['FR'], ['US'...</td>\n",
       "    </tr>\n",
       "    <tr>\n",
       "      <th>1</th>\n",
       "      <td>https://doi.org/10.1016/s0140-6736(20)30183-5</td>\n",
       "      <td>['https://openalex.org/A5101545030', 'https://...</td>\n",
       "      <td>['first', 'middle', 'middle', 'middle', 'middl...</td>\n",
       "      <td>['https://openalex.org/I200296433', 'https://o...</td>\n",
       "      <td>['education', 'healthcare', 'education', 'heal...</td>\n",
       "      <td>['CN', 'CN', 'CN', 'CN', 'CN', 'CN', 'CN', 'CN...</td>\n",
       "      <td>[['CN'], ['CN'], ['CN'], ['CN'], ['CN'], ['CN'...</td>\n",
       "    </tr>\n",
       "    <tr>\n",
       "      <th>2</th>\n",
       "      <td>https://doi.org/10.1136/bmj.n71</td>\n",
       "      <td>['https://openalex.org/A5089979303', 'https://...</td>\n",
       "      <td>['first', 'middle', 'middle', 'middle', 'middl...</td>\n",
       "      <td>['https://openalex.org/I56590836', 'https://op...</td>\n",
       "      <td>['education', 'education', 'education', 'gover...</td>\n",
       "      <td>['AU', 'AU', 'NL', 'FR', 'FR', None, 'AU', 'SG...</td>\n",
       "      <td>[['AU'], ['AU'], ['NL'], ['FR'], ['AU'], ['SG'...</td>\n",
       "    </tr>\n",
       "    <tr>\n",
       "      <th>3</th>\n",
       "      <td>https://doi.org/10.18653/v1/n19-1423</td>\n",
       "      <td>['https://openalex.org/A5057457287', 'https://...</td>\n",
       "      <td>['first', 'middle', 'middle', 'last']</td>\n",
       "      <td>[]</td>\n",
       "      <td>[]</td>\n",
       "      <td>[]</td>\n",
       "      <td>[[], [], [], []]</td>\n",
       "    </tr>\n",
       "    <tr>\n",
       "      <th>4</th>\n",
       "      <td>https://doi.org/10.1056/nejmoa2002032</td>\n",
       "      <td>['https://openalex.org/A5101633572', 'https://...</td>\n",
       "      <td>['first', 'middle', 'middle', 'middle', 'middl...</td>\n",
       "      <td>['https://openalex.org/I58200834', 'https://op...</td>\n",
       "      <td>['education', 'education', 'healthcare', 'heal...</td>\n",
       "      <td>['CN', 'CN', 'CN', 'CN', 'CN', 'CN', 'CN', 'CN...</td>\n",
       "      <td>[['CN'], ['CN'], ['CN'], ['CN'], ['CN'], ['CN'...</td>\n",
       "    </tr>\n",
       "  </tbody>\n",
       "</table>\n",
       "</div>"
      ],
      "text/plain": [
       "                                             doi  \\\n",
       "0             https://doi.org/10.3322/caac.21660   \n",
       "1  https://doi.org/10.1016/s0140-6736(20)30183-5   \n",
       "2                https://doi.org/10.1136/bmj.n71   \n",
       "3           https://doi.org/10.18653/v1/n19-1423   \n",
       "4          https://doi.org/10.1056/nejmoa2002032   \n",
       "\n",
       "                                          authors_id  \\\n",
       "0  ['https://openalex.org/A5082191284', 'https://...   \n",
       "1  ['https://openalex.org/A5101545030', 'https://...   \n",
       "2  ['https://openalex.org/A5089979303', 'https://...   \n",
       "3  ['https://openalex.org/A5057457287', 'https://...   \n",
       "4  ['https://openalex.org/A5101633572', 'https://...   \n",
       "\n",
       "                                   authors_positions  \\\n",
       "0  ['first', 'middle', 'middle', 'middle', 'middl...   \n",
       "1  ['first', 'middle', 'middle', 'middle', 'middl...   \n",
       "2  ['first', 'middle', 'middle', 'middle', 'middl...   \n",
       "3              ['first', 'middle', 'middle', 'last']   \n",
       "4  ['first', 'middle', 'middle', 'middle', 'middl...   \n",
       "\n",
       "                                     institution_ids  \\\n",
       "0  ['https://openalex.org/I1288198617', 'https://...   \n",
       "1  ['https://openalex.org/I200296433', 'https://o...   \n",
       "2  ['https://openalex.org/I56590836', 'https://op...   \n",
       "3                                                 []   \n",
       "4  ['https://openalex.org/I58200834', 'https://op...   \n",
       "\n",
       "                                   institution_types  \\\n",
       "0  ['nonprofit', 'government', 'nonprofit', 'gove...   \n",
       "1  ['education', 'healthcare', 'education', 'heal...   \n",
       "2  ['education', 'education', 'education', 'gover...   \n",
       "3                                                 []   \n",
       "4  ['education', 'education', 'healthcare', 'heal...   \n",
       "\n",
       "                               institudion_countries  \\\n",
       "0         ['US', 'FR', 'US', 'FR', 'FR', 'US', 'FR']   \n",
       "1  ['CN', 'CN', 'CN', 'CN', 'CN', 'CN', 'CN', 'CN...   \n",
       "2  ['AU', 'AU', 'NL', 'FR', 'FR', None, 'AU', 'SG...   \n",
       "3                                                 []   \n",
       "4  ['CN', 'CN', 'CN', 'CN', 'CN', 'CN', 'CN', 'CN...   \n",
       "\n",
       "                                           countries  \n",
       "0  [['US'], ['FR'], ['US'], ['FR'], ['FR'], ['US'...  \n",
       "1  [['CN'], ['CN'], ['CN'], ['CN'], ['CN'], ['CN'...  \n",
       "2  [['AU'], ['AU'], ['NL'], ['FR'], ['AU'], ['SG'...  \n",
       "3                                   [[], [], [], []]  \n",
       "4  [['CN'], ['CN'], ['CN'], ['CN'], ['CN'], ['CN'...  "
      ]
     },
     "execution_count": 2,
     "metadata": {},
     "output_type": "execute_result"
    }
   ],
   "source": [
    "df.head()"
   ]
  },
  {
   "cell_type": "markdown",
   "metadata": {},
   "source": [
    "## Save csv files in Database"
   ]
  },
  {
   "cell_type": "code",
   "execution_count": 9,
   "metadata": {},
   "outputs": [],
   "source": [
    "df = pd.read_csv(f\"{path_to_csv}openalex_articles_authors_institutions.csv\")\n",
    "df[\"num_authors\"] = df[\"authors_id\"].apply(lambda x: len(x.split(\",\")))\n",
    "\n",
    "df[\"num_countries\"] = df[\"countries\"].apply(lambda x: len(x.split(\",\")))\n",
    "\n",
    "df.authors_id = df.authors_id.transform(lambda x: x[2:-2].split(\"', '\"))\n",
    "df.authors_positions = df.authors_positions.transform(lambda x: x[2:-2].split(\"', '\"))\n",
    "\n",
    "df.countries = df.countries.transform(lambda x: x[2:-2].split(\"', '\"))\n",
    "\n",
    "df = df[\n",
    "    [\n",
    "        \"doi\",\n",
    "        \"authors_id\",\n",
    "        \"authors_positions\",\n",
    "        \"num_authors\",\n",
    "    ]\n",
    "].explode([\"authors_id\", \"authors_positions\"])"
   ]
  },
  {
   "cell_type": "code",
   "execution_count": 10,
   "metadata": {},
   "outputs": [
    {
     "name": "stdout",
     "output_type": "stream",
     "text": [
      "Data written to SQL successfully.\n"
     ]
    }
   ],
   "source": [
    "write_to_sql_with_retry(df, \"authors\", conn)"
   ]
  },
  {
   "cell_type": "code",
   "execution_count": 11,
   "metadata": {},
   "outputs": [
    {
     "name": "stdout",
     "output_type": "stream",
     "text": [
      "Data written to SQL successfully.\n"
     ]
    }
   ],
   "source": [
    "# safe institutions data\n",
    "df = pd.read_csv(f\"{path_to_csv}openalex_articles_authors_institutions.csv\")\n",
    "df.institution_ids = df.institution_ids.transform(lambda x: x[2:-2].split(\"', '\"))\n",
    "df.institution_types = df.institution_types.transform(lambda x: x[2:-2].split(\"', '\"))\n",
    "df.institudion_countries = df.institudion_countries.transform(lambda x: x[2:-2].split(\"', '\"))\n",
    "# only include rows where the number of institutions is equal to the number of institution types and countries\n",
    "df[\"num_institutions\"] = df[\"institution_ids\"].apply(lambda x: len(x))\n",
    "df[\"num_institution_types\"] = df[\"institution_types\"].apply(lambda x: len(x))\n",
    "df[\"num_institudion_countries\"] = df[\"institudion_countries\"].apply(lambda x: len(x))\n",
    "df = df[df[\"num_institutions\"] == df[\"num_institution_types\"]]\n",
    "df = df[df[\"num_institutions\"] == df[\"num_institudion_countries\"]]\n",
    "\n",
    "df = df[[\"doi\", \"institution_ids\", \"institution_types\", \"institudion_countries\", \"num_institutions\"]].explode(\n",
    "    [\"institution_ids\", \"institution_types\", \"institudion_countries\"]\n",
    ")\n",
    "\n",
    "# safe institutions data\n",
    "write_to_sql_with_retry(df, \"institutions\", conn)"
   ]
  },
  {
   "cell_type": "code",
   "execution_count": 12,
   "metadata": {},
   "outputs": [
    {
     "name": "stdout",
     "output_type": "stream",
     "text": [
      "Data written to SQL successfully.\n"
     ]
    }
   ],
   "source": [
    "df = pd.read_csv(f\"{path_to_csv}openalex_articles_authors_institutions.csv\")\n",
    "df[\"num_countries\"] = df[\"countries\"].apply(lambda x: len(x.split(\",\")))\n",
    "df.countries = df.countries.transform(lambda x: x[2:-2].split(\"', '\"))\n",
    "df = df[[\"doi\", \"countries\", \"num_countries\"]].explode(\"countries\")\n",
    "write_to_sql_with_retry(df, \"countries\", conn)"
   ]
  },
  {
   "cell_type": "code",
   "execution_count": 13,
   "metadata": {},
   "outputs": [
    {
     "name": "stdout",
     "output_type": "stream",
     "text": [
      "Data written to SQL successfully.\n"
     ]
    }
   ],
   "source": [
    "df = pd.read_csv(f\"{path_to_csv}openalex_articles_concepts.csv\")\n",
    "df.concepts = df.concepts.transform(lambda x: x[2:-2].split(\"', '\"))\n",
    "df[\"num_concepts\"] = df[\"concepts\"].apply(lambda x: len(x))\n",
    "df = df.explode(\"concepts\")\n",
    "write_to_sql_with_retry(df, \"concepts\", conn)"
   ]
  },
  {
   "cell_type": "code",
   "execution_count": 14,
   "metadata": {},
   "outputs": [
    {
     "name": "stdout",
     "output_type": "stream",
     "text": [
      "Data written to SQL successfully.\n"
     ]
    }
   ],
   "source": [
    "df = pd.read_csv(f\"{path_to_csv}openalex_articles_domains.csv\")\n",
    "df.domains = df.domains.transform(lambda x: x[2:-2].split(\"', '\"))\n",
    "df = df.explode(\"domains\")\n",
    "write_to_sql_with_retry(df, \"domains\", conn)"
   ]
  },
  {
   "cell_type": "code",
   "execution_count": 15,
   "metadata": {},
   "outputs": [
    {
     "name": "stdout",
     "output_type": "stream",
     "text": [
      "Data written to SQL successfully.\n"
     ]
    }
   ],
   "source": [
    "df = pd.read_csv(f\"{path_to_csv}openalex_articles_fields.csv\")\n",
    "df.fields = df.fields.transform(lambda x: x[2:-2].split(\"', '\"))\n",
    "df = df.explode(\"fields\")\n",
    "write_to_sql_with_retry(df, \"fields\", conn)"
   ]
  },
  {
   "cell_type": "code",
   "execution_count": 16,
   "metadata": {},
   "outputs": [
    {
     "name": "stdout",
     "output_type": "stream",
     "text": [
      "Data written to SQL successfully.\n"
     ]
    }
   ],
   "source": [
    "df = pd.read_csv(f\"{path_to_csv}openalex_articles_subfields.csv\")\n",
    "df.subfields = df.subfields.transform(lambda x: x[2:-2].split(\"', '\"))\n",
    "df = df.explode(\"subfields\")\n",
    "write_to_sql_with_retry(df, \"subfields\", conn)"
   ]
  },
  {
   "cell_type": "code",
   "execution_count": 17,
   "metadata": {},
   "outputs": [
    {
     "name": "stdout",
     "output_type": "stream",
     "text": [
      "Data written to SQL successfully.\n"
     ]
    }
   ],
   "source": [
    "df = pd.read_csv(f\"{path_to_csv}openalex_articles_topics.csv\")\n",
    "df.topics = df.topics.transform(lambda x: x[2:-2].split(\"', '\"))\n",
    "df = df.explode(\"topics\")\n",
    "write_to_sql_with_retry(df, \"topics\", conn)"
   ]
  },
  {
   "cell_type": "code",
   "execution_count": 18,
   "metadata": {},
   "outputs": [],
   "source": [
    "df = pd.read_csv(f\"{path_to_csv}openalex_articles_citation_counts_by_year.csv\")"
   ]
  },
  {
   "cell_type": "code",
   "execution_count": 19,
   "metadata": {},
   "outputs": [
    {
     "data": {
      "text/html": [
       "<div>\n",
       "<style scoped>\n",
       "    .dataframe tbody tr th:only-of-type {\n",
       "        vertical-align: middle;\n",
       "    }\n",
       "\n",
       "    .dataframe tbody tr th {\n",
       "        vertical-align: top;\n",
       "    }\n",
       "\n",
       "    .dataframe thead th {\n",
       "        text-align: right;\n",
       "    }\n",
       "</style>\n",
       "<table border=\"1\" class=\"dataframe\">\n",
       "  <thead>\n",
       "    <tr style=\"text-align: right;\">\n",
       "      <th></th>\n",
       "      <th>doi</th>\n",
       "      <th>counts_by_years</th>\n",
       "    </tr>\n",
       "  </thead>\n",
       "  <tbody>\n",
       "    <tr>\n",
       "      <th>0</th>\n",
       "      <td>https://doi.org/10.3322/caac.21660</td>\n",
       "      <td>[{'year': 2024, 'cited_by_count': 21589}, {'ye...</td>\n",
       "    </tr>\n",
       "    <tr>\n",
       "      <th>1</th>\n",
       "      <td>https://doi.org/10.1016/s0140-6736(20)30183-5</td>\n",
       "      <td>[{'year': 2024, 'cited_by_count': 2113}, {'yea...</td>\n",
       "    </tr>\n",
       "    <tr>\n",
       "      <th>2</th>\n",
       "      <td>https://doi.org/10.1136/bmj.n71</td>\n",
       "      <td>[{'year': 2024, 'cited_by_count': 13280}, {'ye...</td>\n",
       "    </tr>\n",
       "    <tr>\n",
       "      <th>3</th>\n",
       "      <td>https://doi.org/10.18653/v1/n19-1423</td>\n",
       "      <td>[{'year': 2024, 'cited_by_count': 799}, {'year...</td>\n",
       "    </tr>\n",
       "    <tr>\n",
       "      <th>4</th>\n",
       "      <td>https://doi.org/10.1056/nejmoa2002032</td>\n",
       "      <td>[{'year': 2024, 'cited_by_count': 1100}, {'yea...</td>\n",
       "    </tr>\n",
       "  </tbody>\n",
       "</table>\n",
       "</div>"
      ],
      "text/plain": [
       "                                             doi  \\\n",
       "0             https://doi.org/10.3322/caac.21660   \n",
       "1  https://doi.org/10.1016/s0140-6736(20)30183-5   \n",
       "2                https://doi.org/10.1136/bmj.n71   \n",
       "3           https://doi.org/10.18653/v1/n19-1423   \n",
       "4          https://doi.org/10.1056/nejmoa2002032   \n",
       "\n",
       "                                     counts_by_years  \n",
       "0  [{'year': 2024, 'cited_by_count': 21589}, {'ye...  \n",
       "1  [{'year': 2024, 'cited_by_count': 2113}, {'yea...  \n",
       "2  [{'year': 2024, 'cited_by_count': 13280}, {'ye...  \n",
       "3  [{'year': 2024, 'cited_by_count': 799}, {'year...  \n",
       "4  [{'year': 2024, 'cited_by_count': 1100}, {'yea...  "
      ]
     },
     "execution_count": 19,
     "metadata": {},
     "output_type": "execute_result"
    }
   ],
   "source": [
    "df.head()"
   ]
  },
  {
   "cell_type": "code",
   "execution_count": 20,
   "metadata": {},
   "outputs": [
    {
     "data": {
      "text/html": [
       "<div>\n",
       "<style scoped>\n",
       "    .dataframe tbody tr th:only-of-type {\n",
       "        vertical-align: middle;\n",
       "    }\n",
       "\n",
       "    .dataframe tbody tr th {\n",
       "        vertical-align: top;\n",
       "    }\n",
       "\n",
       "    .dataframe thead th {\n",
       "        text-align: right;\n",
       "    }\n",
       "</style>\n",
       "<table border=\"1\" class=\"dataframe\">\n",
       "  <thead>\n",
       "    <tr style=\"text-align: right;\">\n",
       "      <th></th>\n",
       "      <th>doi</th>\n",
       "      <th>2010</th>\n",
       "      <th>2011</th>\n",
       "      <th>2012</th>\n",
       "      <th>2013</th>\n",
       "      <th>2014</th>\n",
       "      <th>2015</th>\n",
       "      <th>2016</th>\n",
       "      <th>2017</th>\n",
       "      <th>2018</th>\n",
       "      <th>2019</th>\n",
       "      <th>2020</th>\n",
       "      <th>2021</th>\n",
       "      <th>2022</th>\n",
       "      <th>2023</th>\n",
       "      <th>2024</th>\n",
       "    </tr>\n",
       "  </thead>\n",
       "  <tbody>\n",
       "    <tr>\n",
       "      <th>0</th>\n",
       "      <td>https://doi.org/10.3322/caac.21660</td>\n",
       "      <td>0</td>\n",
       "      <td>0</td>\n",
       "      <td>0</td>\n",
       "      <td>0</td>\n",
       "      <td>0</td>\n",
       "      <td>1</td>\n",
       "      <td>0</td>\n",
       "      <td>1</td>\n",
       "      <td>0</td>\n",
       "      <td>6</td>\n",
       "      <td>11</td>\n",
       "      <td>24</td>\n",
       "      <td>6055</td>\n",
       "      <td>20928</td>\n",
       "      <td>26485</td>\n",
       "    </tr>\n",
       "    <tr>\n",
       "      <th>1</th>\n",
       "      <td>https://doi.org/10.1016/s0140-6736(20)30183-5</td>\n",
       "      <td>0</td>\n",
       "      <td>0</td>\n",
       "      <td>0</td>\n",
       "      <td>0</td>\n",
       "      <td>1</td>\n",
       "      <td>0</td>\n",
       "      <td>3</td>\n",
       "      <td>1</td>\n",
       "      <td>2</td>\n",
       "      <td>4</td>\n",
       "      <td>37</td>\n",
       "      <td>19047</td>\n",
       "      <td>13601</td>\n",
       "      <td>8034</td>\n",
       "      <td>4829</td>\n",
       "    </tr>\n",
       "    <tr>\n",
       "      <th>2</th>\n",
       "      <td>https://doi.org/10.1136/bmj.n71</td>\n",
       "      <td>0</td>\n",
       "      <td>0</td>\n",
       "      <td>0</td>\n",
       "      <td>0</td>\n",
       "      <td>0</td>\n",
       "      <td>0</td>\n",
       "      <td>0</td>\n",
       "      <td>0</td>\n",
       "      <td>0</td>\n",
       "      <td>0</td>\n",
       "      <td>0</td>\n",
       "      <td>9</td>\n",
       "      <td>2470</td>\n",
       "      <td>9447</td>\n",
       "      <td>13925</td>\n",
       "    </tr>\n",
       "    <tr>\n",
       "      <th>3</th>\n",
       "      <td>https://doi.org/10.18653/v1/n19-1423</td>\n",
       "      <td>0</td>\n",
       "      <td>0</td>\n",
       "      <td>0</td>\n",
       "      <td>0</td>\n",
       "      <td>1</td>\n",
       "      <td>0</td>\n",
       "      <td>0</td>\n",
       "      <td>0</td>\n",
       "      <td>6</td>\n",
       "      <td>85</td>\n",
       "      <td>3475</td>\n",
       "      <td>9007</td>\n",
       "      <td>11548</td>\n",
       "      <td>2753</td>\n",
       "      <td>2769</td>\n",
       "    </tr>\n",
       "    <tr>\n",
       "      <th>4</th>\n",
       "      <td>https://doi.org/10.1056/nejmoa2002032</td>\n",
       "      <td>0</td>\n",
       "      <td>0</td>\n",
       "      <td>0</td>\n",
       "      <td>2</td>\n",
       "      <td>1</td>\n",
       "      <td>0</td>\n",
       "      <td>2</td>\n",
       "      <td>0</td>\n",
       "      <td>0</td>\n",
       "      <td>1</td>\n",
       "      <td>28</td>\n",
       "      <td>12234</td>\n",
       "      <td>8245</td>\n",
       "      <td>4494</td>\n",
       "      <td>2515</td>\n",
       "    </tr>\n",
       "  </tbody>\n",
       "</table>\n",
       "</div>"
      ],
      "text/plain": [
       "                                             doi  2010  2011  2012  2013  \\\n",
       "0             https://doi.org/10.3322/caac.21660     0     0     0     0   \n",
       "1  https://doi.org/10.1016/s0140-6736(20)30183-5     0     0     0     0   \n",
       "2                https://doi.org/10.1136/bmj.n71     0     0     0     0   \n",
       "3           https://doi.org/10.18653/v1/n19-1423     0     0     0     0   \n",
       "4          https://doi.org/10.1056/nejmoa2002032     0     0     0     2   \n",
       "\n",
       "   2014  2015  2016  2017  2018  2019  2020   2021   2022   2023   2024  \n",
       "0     0     1     0     1     0     6    11     24   6055  20928  26485  \n",
       "1     1     0     3     1     2     4    37  19047  13601   8034   4829  \n",
       "2     0     0     0     0     0     0     0      9   2470   9447  13925  \n",
       "3     1     0     0     0     6    85  3475   9007  11548   2753   2769  \n",
       "4     1     0     2     0     0     1    28  12234   8245   4494   2515  "
      ]
     },
     "execution_count": 20,
     "metadata": {},
     "output_type": "execute_result"
    }
   ],
   "source": [
    "import json\n",
    "import re\n",
    "import ast\n",
    "\n",
    "values = []\n",
    "for doi, article in zip(df.doi, df[\"counts_by_years\"]):\n",
    "    row = []\n",
    "    article = article.replace(\"'\", '\"')\n",
    "    article = ast.literal_eval(article)\n",
    "    row.append(doi)\n",
    "    for year in range(2009, 2024):\n",
    "        found_year = False\n",
    "        for x in article:\n",
    "            if x[\"year\"] == year:\n",
    "                found_year = True\n",
    "                row.append(x[\"cited_by_count\"])\n",
    "        if not found_year:\n",
    "            row.append(0)\n",
    "    values.append(row)\n",
    "\n",
    "df = pd.DataFrame(\n",
    "    values,\n",
    "    columns=[\n",
    "        \"doi\",\n",
    "        \"2010\",\n",
    "        \"2011\",\n",
    "        \"2012\",\n",
    "        \"2013\",\n",
    "        \"2014\",\n",
    "        \"2015\",\n",
    "        \"2016\",\n",
    "        \"2017\",\n",
    "        \"2018\",\n",
    "        \"2019\",\n",
    "        \"2020\",\n",
    "        \"2021\",\n",
    "        \"2022\",\n",
    "        \"2023\",\n",
    "        \"2024\",\n",
    "    ],\n",
    ")\n",
    "\n",
    "df.head()"
   ]
  },
  {
   "cell_type": "code",
   "execution_count": 21,
   "metadata": {},
   "outputs": [
    {
     "name": "stdout",
     "output_type": "stream",
     "text": [
      "Data written to SQL successfully.\n"
     ]
    }
   ],
   "source": [
    "write_to_sql_with_retry(df, \"citations\", conn)"
   ]
  },
  {
   "cell_type": "markdown",
   "metadata": {},
   "source": [
    "# Data Analysis"
   ]
  },
  {
   "cell_type": "code",
   "execution_count": 4,
   "metadata": {},
   "outputs": [
    {
     "data": {
      "text/plain": [
       "[('main',),\n",
       " ('keywords',),\n",
       " ('authors',),\n",
       " ('institutions',),\n",
       " ('countries',),\n",
       " ('concepts',),\n",
       " ('domains',),\n",
       " ('fields',),\n",
       " ('subfields',),\n",
       " ('topics',),\n",
       " ('citations',)]"
      ]
     },
     "execution_count": 4,
     "metadata": {},
     "output_type": "execute_result"
    }
   ],
   "source": [
    "import sqlite3\n",
    "\n",
    "db_path = \"openalex.db\"\n",
    "\n",
    "# Connect to the database\n",
    "conn = sqlite3.connect(db_path)\n",
    "\n",
    "cursor = conn.cursor()\n",
    "# Get the table names and column names from the database\n",
    "cursor.execute(\n",
    "    \"\"\"\n",
    "    SELECT name FROM sqlite_master WHERE type='table';\n",
    "    \"\"\"\n",
    ")\n",
    "cursor.fetchall()"
   ]
  },
  {
   "cell_type": "code",
   "execution_count": 2,
   "metadata": {},
   "outputs": [
    {
     "data": {
      "text/plain": [
       "[('Medicine',),\n",
       " ('Decision Sciences',),\n",
       " ('Social Sciences',),\n",
       " ('Computer Science',),\n",
       " ('Biochemistry, Genetics and Molecular Biology',),\n",
       " ('Materials Science',),\n",
       " ('Agricultural and Biological Sciences',),\n",
       " ('Economics, Econometrics and Finance',),\n",
       " ('Environmental Science',),\n",
       " ('Earth and Planetary Sciences',),\n",
       " ('Mathematics',),\n",
       " ('Psychology',),\n",
       " ('',),\n",
       " ('Health Professions',),\n",
       " ('Physics and Astronomy',),\n",
       " ('Immunology and Microbiology',),\n",
       " ('Engineering',),\n",
       " ('Chemistry',),\n",
       " ('Arts and Humanities',),\n",
       " ('Business, Management and Accounting',),\n",
       " ('Pharmacology, Toxicology and Pharmaceutics',),\n",
       " ('Neuroscience',),\n",
       " ('Energy',),\n",
       " ('Chemical Engineering',),\n",
       " ('Dentistry',),\n",
       " ('Nursing',),\n",
       " ('Veterinary',)]"
      ]
     },
     "execution_count": 2,
     "metadata": {},
     "output_type": "execute_result"
    }
   ],
   "source": [
    "cursor = conn.cursor()\n",
    "cursor.execute(\n",
    "    \"\"\"\n",
    "    SELECT DISTINCT fields FROM fields;\n",
    "    \"\"\"\n",
    ")\n",
    "cursor.fetchall()"
   ]
  },
  {
   "cell_type": "code",
   "execution_count": 3,
   "metadata": {},
   "outputs": [
    {
     "data": {
      "text/plain": [
       "[('Oncology',),\n",
       " ('Epidemiology',),\n",
       " ('Infectious Diseases',),\n",
       " ('Statistics, Probability and Uncertainty',),\n",
       " ('Sociology and Political Science',),\n",
       " ('Artificial Intelligence',),\n",
       " ('General Social Sciences',),\n",
       " ('Neurology',),\n",
       " ('Molecular Biology',),\n",
       " ('Materials Chemistry',),\n",
       " ('Animal Science and Zoology',),\n",
       " ('Radiology, Nuclear Medicine and Imaging',),\n",
       " ('Economics and Econometrics',),\n",
       " ('Global and Planetary Change',),\n",
       " ('Atmospheric Science',),\n",
       " ('Cancer Research',),\n",
       " ('Modeling and Simulation',),\n",
       " ('Clinical Psychology',),\n",
       " ('',),\n",
       " ('Computer Vision and Pattern Recognition',),\n",
       " ('Information Systems and Management',),\n",
       " ('Information Systems',),\n",
       " ('Management Science and Operations Research',),\n",
       " ('Cardiology and Cardiovascular Medicine',),\n",
       " ('Genetics',),\n",
       " ('Biophysics',),\n",
       " ('Health, Toxicology and Mutagenesis',),\n",
       " ('Health',),\n",
       " ('General Health Professions',),\n",
       " ('Atomic and Molecular Physics, and Optics',),\n",
       " ('Pulmonary and Respiratory Medicine',),\n",
       " ('Experimental and Cognitive Psychology',),\n",
       " ('Hematology',),\n",
       " ('Immunology',),\n",
       " ('Surgery',),\n",
       " ('Safety, Risk, Reliability and Quality',),\n",
       " ('Ocean Engineering',),\n",
       " ('Plant Science',),\n",
       " ('Astronomy and Astrophysics',),\n",
       " ('Hardware and Architecture',),\n",
       " ('Paleontology',),\n",
       " ('Biomedical Engineering',),\n",
       " ('Endocrinology, Diabetes and Metabolism',),\n",
       " ('Rehabilitation',),\n",
       " ('Orthopedics and Sports Medicine',),\n",
       " ('Dermatology',),\n",
       " ('Ecology, Evolution, Behavior and Systematics',),\n",
       " ('Transplantation',),\n",
       " ('Structural Biology',),\n",
       " ('Computational Theory and Mathematics',),\n",
       " ('Physiology',),\n",
       " ('Public Health, Environmental and Occupational Health',),\n",
       " ('Spectroscopy',),\n",
       " ('Philosophy',),\n",
       " ('Education',),\n",
       " ('Computer Networks and Communications',),\n",
       " ('Pharmacology',),\n",
       " ('Surfaces, Coatings and Films',),\n",
       " ('Health Informatics',),\n",
       " ('Anthropology',),\n",
       " ('Signal Processing',),\n",
       " ('Nuclear and High Energy Physics',),\n",
       " ('Electrical and Electronic Engineering',),\n",
       " ('Marketing',),\n",
       " ('Instrumentation',),\n",
       " ('Communication',),\n",
       " ('Emergency Medical Services',),\n",
       " ('Management Information Systems',),\n",
       " ('Applied Psychology',),\n",
       " ('Computational Mechanics',),\n",
       " ('Biotechnology',),\n",
       " ('Food Science',),\n",
       " ('Building and Construction',),\n",
       " ('Transportation',),\n",
       " ('Clinical Biochemistry',),\n",
       " ('Social Psychology',),\n",
       " ('Strategy and Management',),\n",
       " ('General Economics, Econometrics and Finance',),\n",
       " ('Finance',),\n",
       " ('Pathology and Forensic Medicine',),\n",
       " ('Pharmacy',),\n",
       " ('Industrial and Manufacturing Engineering',),\n",
       " ('Mechanical Engineering',),\n",
       " ('Control and Systems Engineering',),\n",
       " ('Microbiology',),\n",
       " ('Physical and Theoretical Chemistry',),\n",
       " ('Nature and Landscape Conservation',),\n",
       " ('Ecological Modeling',),\n",
       " ('Polymers and Plastics',),\n",
       " ('Human-Computer Interaction',),\n",
       " ('Obstetrics and Gynecology',),\n",
       " ('Ecology',),\n",
       " ('Environmental Engineering',),\n",
       " ('Pediatrics, Perinatology and Child Health',),\n",
       " ('Accounting',),\n",
       " ('Nephrology',),\n",
       " ('Cognitive Neuroscience',),\n",
       " ('Automotive Engineering',),\n",
       " ('Computer Science Applications',),\n",
       " ('Aerospace Engineering',),\n",
       " ('Analytical Chemistry',),\n",
       " ('Renewable Energy, Sustainability and the Environment',),\n",
       " ('Pollution',),\n",
       " ('Aging',),\n",
       " ('Media Technology',),\n",
       " ('Management of Technology and Innovation',),\n",
       " ('Geochemistry and Petrology',),\n",
       " ('Water Science and Technology',),\n",
       " ('Inorganic Chemistry',),\n",
       " ('Organic Chemistry',),\n",
       " ('Geology',),\n",
       " ('Organizational Behavior and Human Resource Management',),\n",
       " ('Cellular and Molecular Neuroscience',),\n",
       " ('Psychiatry and Mental health',),\n",
       " ('Mechanics of Materials',),\n",
       " ('Metals and Alloys',),\n",
       " ('Radiological and Ultrasound Technology',),\n",
       " ('Civil and Structural Engineering',),\n",
       " ('Law',),\n",
       " ('Safety Research',),\n",
       " ('Geriatrics and Gerontology',),\n",
       " ('Electronic, Optical and Magnetic Materials',),\n",
       " ('Management, Monitoring, Policy and Law',),\n",
       " ('Political Science and International Relations',),\n",
       " ('Biomaterials',),\n",
       " ('Statistics and Probability',),\n",
       " ('Catalysis',),\n",
       " ('Oceanography',),\n",
       " ('Statistical and Nonlinear Physics',),\n",
       " ('Acoustics and Ultrasonics',),\n",
       " ('Process Chemistry and Technology',),\n",
       " ('Occupational Therapy',),\n",
       " ('Demography',),\n",
       " ('Medical Laboratory Technology',),\n",
       " ('Energy Engineering and Power Technology',),\n",
       " ('Environmental Chemistry',),\n",
       " ('Horticulture',),\n",
       " ('Developmental and Educational Psychology',),\n",
       " ('Mathematical Physics',),\n",
       " ('Rheumatology',),\n",
       " ('Agronomy and Crop Science',),\n",
       " ('Condensed Matter Physics',),\n",
       " ('General Materials Science',),\n",
       " ('Hepatology',),\n",
       " ('Radiation',),\n",
       " ('Soil Science',),\n",
       " ('Critical Care and Intensive Care Medicine',),\n",
       " ('Bioengineering',),\n",
       " ('Speech and Hearing',),\n",
       " ('Development',),\n",
       " ('Geophysics',),\n",
       " ('Emergency Medicine',),\n",
       " ('Cell Biology',),\n",
       " ('Endocrinology',),\n",
       " ('Insect Science',),\n",
       " ('Health Information Management',),\n",
       " ('Periodontics',),\n",
       " ('Sensory Systems',),\n",
       " ('Behavioral Neuroscience',),\n",
       " ('Biological Psychiatry',),\n",
       " ('Earth-Surface Processes',),\n",
       " ('Nutrition and Dietetics',),\n",
       " ('Molecular Medicine',),\n",
       " ('Applied Microbiology and Biotechnology',),\n",
       " ('Ceramics and Composites',),\n",
       " ('Geography, Planning and Development',),\n",
       " ('Archeology',),\n",
       " ('Linguistics and Language',),\n",
       " ('Literature and Literary Theory',),\n",
       " ('Language and Linguistics',),\n",
       " ('Developmental Neuroscience',),\n",
       " ('Toxicology',),\n",
       " ('Developmental Biology',),\n",
       " ('Neuropsychology and Physiological Psychology',),\n",
       " ('Complementary and alternative medicine',),\n",
       " ('General Agricultural and Biological Sciences',),\n",
       " ('Numerical Analysis',),\n",
       " ('Gender Studies',),\n",
       " ('Reproductive Medicine',),\n",
       " ('Fluid Flow and Transfer Processes',),\n",
       " ('Gastroenterology',),\n",
       " ('Applied Mathematics',),\n",
       " ('Ophthalmology',),\n",
       " ('Oral Surgery',),\n",
       " ('Urology',),\n",
       " ('Biochemistry',),\n",
       " ('Forestry',),\n",
       " ('Virology',),\n",
       " ('Pharmaceutical Science',),\n",
       " ('Conservation',),\n",
       " ('Otorhinolaryngology',),\n",
       " ('Aquatic Science',),\n",
       " ('Parasitology',),\n",
       " ('Internal Medicine',),\n",
       " ('Orthodontics',),\n",
       " ('General Dentistry',),\n",
       " ('Filtration and Separation',),\n",
       " ('Electrochemistry',),\n",
       " ('Immunology and Allergy',),\n",
       " ('Physical Therapy, Sports Therapy and Rehabilitation',),\n",
       " ('Family Practice',),\n",
       " ('Geometry and Topology',),\n",
       " ('Endocrine and Autonomic Systems',),\n",
       " ('Computer Graphics and Computer-Aided Design',),\n",
       " ('Religious studies',),\n",
       " ('General Energy',),\n",
       " ('Human Factors and Ergonomics',),\n",
       " ('History and Philosophy of Science',),\n",
       " ('Anatomy',),\n",
       " ('Small Animals',),\n",
       " ('Visual Arts and Performing Arts',),\n",
       " ('History',),\n",
       " ('Business and International Management',),\n",
       " ('Software',),\n",
       " ('Urban Studies',),\n",
       " ('Anesthesiology and Pain Medicine',),\n",
       " ('Museology',),\n",
       " ('Complementary and Manual Therapy',),\n",
       " ('General Engineering',),\n",
       " ('Cultural Studies',),\n",
       " ('Public Administration',),\n",
       " ('Music',),\n",
       " ('Discrete Mathematics and Combinatorics',),\n",
       " ('Issues, ethics and legal aspects',),\n",
       " ('Algebra and Number Theory',),\n",
       " ('Computational Mathematics',),\n",
       " ('General Decision Sciences',),\n",
       " ('Fuel Technology',),\n",
       " ('Leadership and Management',),\n",
       " ('Equine',),\n",
       " ('Space and Planetary Science',),\n",
       " ('Tourism, Leisure and Hospitality Management',),\n",
       " ('Nuclear Energy and Engineering',),\n",
       " ('Drug Discovery',),\n",
       " ('Library and Information Sciences',),\n",
       " ('General Psychology',),\n",
       " ('Architecture',),\n",
       " ('Chemical Health and Safety',),\n",
       " ('Medical Terminology',),\n",
       " ('Life-span and Life-course Studies',),\n",
       " ('Theoretical Computer Science',),\n",
       " ('Research and Theory',),\n",
       " ('Classics',),\n",
       " ('General Arts and Humanities',),\n",
       " ('Industrial relations',)]"
      ]
     },
     "execution_count": 3,
     "metadata": {},
     "output_type": "execute_result"
    }
   ],
   "source": [
    "cursor.execute(\n",
    "    \"\"\"\n",
    "    SELECT DISTINCT subfields FROM subfields;\n",
    "    \"\"\"\n",
    ")\n",
    "cursor.fetchall()"
   ]
  },
  {
   "cell_type": "code",
   "execution_count": 4,
   "metadata": {},
   "outputs": [
    {
     "data": {
      "text/html": [
       "<div>\n",
       "<style scoped>\n",
       "    .dataframe tbody tr th:only-of-type {\n",
       "        vertical-align: middle;\n",
       "    }\n",
       "\n",
       "    .dataframe tbody tr th {\n",
       "        vertical-align: top;\n",
       "    }\n",
       "\n",
       "    .dataframe thead th {\n",
       "        text-align: right;\n",
       "    }\n",
       "</style>\n",
       "<table border=\"1\" class=\"dataframe\">\n",
       "  <thead>\n",
       "    <tr style=\"text-align: right;\">\n",
       "      <th></th>\n",
       "      <th>doi</th>\n",
       "      <th>keywords</th>\n",
       "      <th>2019</th>\n",
       "      <th>2020</th>\n",
       "      <th>2021</th>\n",
       "      <th>2022</th>\n",
       "      <th>2023</th>\n",
       "      <th>2024</th>\n",
       "    </tr>\n",
       "  </thead>\n",
       "  <tbody>\n",
       "    <tr>\n",
       "      <th>0</th>\n",
       "      <td>https://doi.org/10.3322/caac.21660</td>\n",
       "      <td>Cancer Incidence</td>\n",
       "      <td>6.0</td>\n",
       "      <td>11.0</td>\n",
       "      <td>24.0</td>\n",
       "      <td>6055.0</td>\n",
       "      <td>20928.0</td>\n",
       "      <td>26485.0</td>\n",
       "    </tr>\n",
       "    <tr>\n",
       "      <th>1</th>\n",
       "      <td>https://doi.org/10.3322/caac.21660</td>\n",
       "      <td>Cancer Registry Data</td>\n",
       "      <td>6.0</td>\n",
       "      <td>11.0</td>\n",
       "      <td>24.0</td>\n",
       "      <td>6055.0</td>\n",
       "      <td>20928.0</td>\n",
       "      <td>26485.0</td>\n",
       "    </tr>\n",
       "    <tr>\n",
       "      <th>2</th>\n",
       "      <td>https://doi.org/10.3322/caac.21660</td>\n",
       "      <td>Stomach cancer</td>\n",
       "      <td>6.0</td>\n",
       "      <td>11.0</td>\n",
       "      <td>24.0</td>\n",
       "      <td>6055.0</td>\n",
       "      <td>20928.0</td>\n",
       "      <td>26485.0</td>\n",
       "    </tr>\n",
       "    <tr>\n",
       "      <th>3</th>\n",
       "      <td>https://doi.org/10.1016/s0140-6736(20)30183-5</td>\n",
       "      <td>myalgia</td>\n",
       "      <td>4.0</td>\n",
       "      <td>37.0</td>\n",
       "      <td>19047.0</td>\n",
       "      <td>13601.0</td>\n",
       "      <td>8034.0</td>\n",
       "      <td>4829.0</td>\n",
       "    </tr>\n",
       "    <tr>\n",
       "      <th>4</th>\n",
       "      <td>https://doi.org/10.1016/s0140-6736(20)30183-5</td>\n",
       "      <td>Corona Virus</td>\n",
       "      <td>4.0</td>\n",
       "      <td>37.0</td>\n",
       "      <td>19047.0</td>\n",
       "      <td>13601.0</td>\n",
       "      <td>8034.0</td>\n",
       "      <td>4829.0</td>\n",
       "    </tr>\n",
       "  </tbody>\n",
       "</table>\n",
       "</div>"
      ],
      "text/plain": [
       "                                             doi              keywords  2019  \\\n",
       "0             https://doi.org/10.3322/caac.21660      Cancer Incidence   6.0   \n",
       "1             https://doi.org/10.3322/caac.21660  Cancer Registry Data   6.0   \n",
       "2             https://doi.org/10.3322/caac.21660        Stomach cancer   6.0   \n",
       "3  https://doi.org/10.1016/s0140-6736(20)30183-5               myalgia   4.0   \n",
       "4  https://doi.org/10.1016/s0140-6736(20)30183-5          Corona Virus   4.0   \n",
       "\n",
       "   2020     2021     2022     2023     2024  \n",
       "0  11.0     24.0   6055.0  20928.0  26485.0  \n",
       "1  11.0     24.0   6055.0  20928.0  26485.0  \n",
       "2  11.0     24.0   6055.0  20928.0  26485.0  \n",
       "3  37.0  19047.0  13601.0   8034.0   4829.0  \n",
       "4  37.0  19047.0  13601.0   8034.0   4829.0  "
      ]
     },
     "execution_count": 4,
     "metadata": {},
     "output_type": "execute_result"
    }
   ],
   "source": [
    "query = \"\"\"\n",
    "    SELECT \n",
    "    keywords.doi,\n",
    "    keywords, \n",
    "    [2019], [2020], [2021], [2022], [2023], [2024]\n",
    "    FROM \n",
    "        keywords\n",
    "    LEFT JOIN \n",
    "        citations \n",
    "        ON keywords.doi = citations.doi\n",
    "    \"\"\"\n",
    "\n",
    "df_keywords = pd.read_sql_query(query, conn)\n",
    "df_keywords.head()"
   ]
  },
  {
   "cell_type": "markdown",
   "metadata": {},
   "source": [
    "## AI in Medicine\n",
    "**Which papers are considered to be at the intersection of AI in medicine?**\n",
    "\n",
    "Each paper has three domains, three fields, three subfields, and three topics in this hierarchical order. Papers are considered to be in the intersection of AI in medicine if they have a field in medicine and a subfield in either 'Artificial Intelligence' or 'Computer Vision and Pattern Recognition', which in this case is also considered to be AI. In this way, not all papers with topics in both fields will be considered, but at least the vast majority should be."
   ]
  },
  {
   "cell_type": "markdown",
   "metadata": {},
   "source": [
    "Blue to purple colors are chosen for relations to medicine. Therefore, the other areas have a grey color, but for all considerations related to medicine, the blue to purple colors are chosen. This choice also takes into account different forms of color blindness."
   ]
  },
  {
   "cell_type": "code",
   "execution_count": 2,
   "metadata": {},
   "outputs": [],
   "source": [
    "color_medicine = \"#4063FF\"\n",
    "color_other_fields = \"grey\"\n",
    "\n",
    "image_color = [\"#9940FF\"]\n",
    "nlp_color = [\"#5A40FF\"]\n",
    "explainable_color = [\"#409FFF\"]\n",
    "color_rest = [\"#CBD2FF\"]\n",
    "\n",
    "top_color = \"#29D7FF\"\n",
    "bottom_color = \"#BA2EDF\""
   ]
  },
  {
   "cell_type": "markdown",
   "metadata": {},
   "source": [
    "### Plot 1"
   ]
  },
  {
   "cell_type": "code",
   "execution_count": 5,
   "metadata": {},
   "outputs": [],
   "source": [
    "# get subfields from the subfield of AI and Computer Vision\n",
    "query = \"\"\"\n",
    "    SELECT subfields, fields, topics, main.doi, publication_date, COUNT(main.doi) as count\n",
    "    FROM \n",
    "        subfields\n",
    "    LEFT JOIN\n",
    "        fields\n",
    "        ON subfields.doi = fields.doi \n",
    "    LEFT JOIN\n",
    "        topics\n",
    "        ON subfields.doi = topics.doi\n",
    "    LEFT JOIN\n",
    "        main\n",
    "        ON subfields.doi = main.doi\n",
    "    WHERE \n",
    "        subfields = 'Artificial Intelligence' OR subfields = 'Computer Vision and Pattern Recognition'\n",
    "    GROUP BY subfields, fields, topics, main.doi, publication_date;\n",
    "    \"\"\"\n",
    "df = pd.read_sql_query(query, conn)"
   ]
  },
  {
   "cell_type": "code",
   "execution_count": 6,
   "metadata": {},
   "outputs": [],
   "source": [
    "# get all the papers with subfield AI and Computer Vision\n",
    "query = \"\"\"\n",
    "    SELECT subfields, publication_date, COUNT(main.doi) as count\n",
    "    FROM \n",
    "        subfields\n",
    "    LEFT JOIN\n",
    "        main\n",
    "        ON subfields.doi = main.doi\n",
    "    WHERE \n",
    "        subfields = 'Artificial Intelligence' OR subfields = 'Computer Vision and Pattern Recognition'\n",
    "    GROUP BY subfields, main.doi, publication_date;\n",
    "    \"\"\"\n",
    "df_ai = pd.read_sql_query(query, conn)\n",
    "\n",
    "df_ai.dropna(inplace=True)\n",
    "df_ai[\"year\"] = df_ai[\"publication_date\"].apply(lambda x: x[:4])\n",
    "df_ai = df_ai.groupby(\"year\").sum().reset_index()"
   ]
  },
  {
   "cell_type": "code",
   "execution_count": 43,
   "metadata": {},
   "outputs": [
    {
     "data": {
      "application/vnd.plotly.v1+json": {
       "config": {
        "plotlyServerURL": "https://plot.ly"
       },
       "data": [
        {
         "line": {
          "color": "#4063FF"
         },
         "mode": "lines+markers",
         "name": "Medicine",
         "type": "scatter",
         "x": [
          2019,
          2020,
          2021,
          2022,
          2023
         ],
         "xaxis": "x",
         "y": [
          7621,
          10491,
          12584,
          12537,
          15315
         ],
         "yaxis": "y"
        },
        {
         "line": {
          "color": "grey"
         },
         "mode": "lines+markers",
         "name": "Other Fields",
         "type": "scatter",
         "x": [
          "2019",
          "2020",
          "2021",
          "2022",
          "2023"
         ],
         "xaxis": "x",
         "y": [
          7879.68,
          8386.56,
          8820.36,
          8876.92,
          9340.68
         ],
         "yaxis": "y"
        }
       ],
       "layout": {
        "annotations": [
         {
          "ax": 0,
          "ay": 0,
          "font": {
           "color": "#4063FF",
           "size": 16,
           "weight": "bold"
          },
          "text": " Medicine",
          "x": 2023,
          "xanchor": "left",
          "y": 15300
         },
         {
          "ax": 0,
          "ay": 0,
          "font": {
           "color": "grey",
           "size": 16,
           "weight": "bold"
          },
          "text": " Other Fields",
          "x": 2023,
          "xanchor": "left",
          "y": 9300
         },
         {
          "ax": 0,
          "ay": 0,
          "text": "The number of papers published in association with AI shows a <b>larger increase</b> compared to the average of the other fields. <br> In medicine, the number of papers has <b>almost doubled</b> since 2019.",
          "x": 0,
          "xanchor": "left",
          "xref": "paper",
          "y": -0.15,
          "yanchor": "top",
          "yref": "paper"
         },
         {
          "ax": 0,
          "ay": 20,
          "font": {
           "color": "#4063FF",
           "size": 12,
           "weight": "bold"
          },
          "text": "7621",
          "x": 2019,
          "xanchor": "center",
          "y": 7621
         },
         {
          "ax": -40,
          "ay": -10,
          "font": {
           "color": "#4063FF",
           "size": 12,
           "weight": "bold"
          },
          "text": "15315",
          "x": 2023,
          "xanchor": "center",
          "y": 15315
         }
        ],
        "height": 600,
        "margin": {
         "b": 120,
         "l": 110
        },
        "paper_bgcolor": "white",
        "plot_bgcolor": "white",
        "showlegend": false,
        "template": {
         "data": {
          "bar": [
           {
            "error_x": {
             "color": "rgb(36,36,36)"
            },
            "error_y": {
             "color": "rgb(36,36,36)"
            },
            "marker": {
             "line": {
              "color": "white",
              "width": 0.5
             },
             "pattern": {
              "fillmode": "overlay",
              "size": 10,
              "solidity": 0.2
             }
            },
            "type": "bar"
           }
          ],
          "barpolar": [
           {
            "marker": {
             "line": {
              "color": "white",
              "width": 0.5
             },
             "pattern": {
              "fillmode": "overlay",
              "size": 10,
              "solidity": 0.2
             }
            },
            "type": "barpolar"
           }
          ],
          "carpet": [
           {
            "aaxis": {
             "endlinecolor": "rgb(36,36,36)",
             "gridcolor": "white",
             "linecolor": "white",
             "minorgridcolor": "white",
             "startlinecolor": "rgb(36,36,36)"
            },
            "baxis": {
             "endlinecolor": "rgb(36,36,36)",
             "gridcolor": "white",
             "linecolor": "white",
             "minorgridcolor": "white",
             "startlinecolor": "rgb(36,36,36)"
            },
            "type": "carpet"
           }
          ],
          "choropleth": [
           {
            "colorbar": {
             "outlinewidth": 1,
             "tickcolor": "rgb(36,36,36)",
             "ticks": "outside"
            },
            "type": "choropleth"
           }
          ],
          "contour": [
           {
            "colorbar": {
             "outlinewidth": 1,
             "tickcolor": "rgb(36,36,36)",
             "ticks": "outside"
            },
            "colorscale": [
             [
              0,
              "#440154"
             ],
             [
              0.1111111111111111,
              "#482878"
             ],
             [
              0.2222222222222222,
              "#3e4989"
             ],
             [
              0.3333333333333333,
              "#31688e"
             ],
             [
              0.4444444444444444,
              "#26828e"
             ],
             [
              0.5555555555555556,
              "#1f9e89"
             ],
             [
              0.6666666666666666,
              "#35b779"
             ],
             [
              0.7777777777777778,
              "#6ece58"
             ],
             [
              0.8888888888888888,
              "#b5de2b"
             ],
             [
              1,
              "#fde725"
             ]
            ],
            "type": "contour"
           }
          ],
          "contourcarpet": [
           {
            "colorbar": {
             "outlinewidth": 1,
             "tickcolor": "rgb(36,36,36)",
             "ticks": "outside"
            },
            "type": "contourcarpet"
           }
          ],
          "heatmap": [
           {
            "colorbar": {
             "outlinewidth": 1,
             "tickcolor": "rgb(36,36,36)",
             "ticks": "outside"
            },
            "colorscale": [
             [
              0,
              "#440154"
             ],
             [
              0.1111111111111111,
              "#482878"
             ],
             [
              0.2222222222222222,
              "#3e4989"
             ],
             [
              0.3333333333333333,
              "#31688e"
             ],
             [
              0.4444444444444444,
              "#26828e"
             ],
             [
              0.5555555555555556,
              "#1f9e89"
             ],
             [
              0.6666666666666666,
              "#35b779"
             ],
             [
              0.7777777777777778,
              "#6ece58"
             ],
             [
              0.8888888888888888,
              "#b5de2b"
             ],
             [
              1,
              "#fde725"
             ]
            ],
            "type": "heatmap"
           }
          ],
          "heatmapgl": [
           {
            "colorbar": {
             "outlinewidth": 1,
             "tickcolor": "rgb(36,36,36)",
             "ticks": "outside"
            },
            "colorscale": [
             [
              0,
              "#440154"
             ],
             [
              0.1111111111111111,
              "#482878"
             ],
             [
              0.2222222222222222,
              "#3e4989"
             ],
             [
              0.3333333333333333,
              "#31688e"
             ],
             [
              0.4444444444444444,
              "#26828e"
             ],
             [
              0.5555555555555556,
              "#1f9e89"
             ],
             [
              0.6666666666666666,
              "#35b779"
             ],
             [
              0.7777777777777778,
              "#6ece58"
             ],
             [
              0.8888888888888888,
              "#b5de2b"
             ],
             [
              1,
              "#fde725"
             ]
            ],
            "type": "heatmapgl"
           }
          ],
          "histogram": [
           {
            "marker": {
             "line": {
              "color": "white",
              "width": 0.6
             }
            },
            "type": "histogram"
           }
          ],
          "histogram2d": [
           {
            "colorbar": {
             "outlinewidth": 1,
             "tickcolor": "rgb(36,36,36)",
             "ticks": "outside"
            },
            "colorscale": [
             [
              0,
              "#440154"
             ],
             [
              0.1111111111111111,
              "#482878"
             ],
             [
              0.2222222222222222,
              "#3e4989"
             ],
             [
              0.3333333333333333,
              "#31688e"
             ],
             [
              0.4444444444444444,
              "#26828e"
             ],
             [
              0.5555555555555556,
              "#1f9e89"
             ],
             [
              0.6666666666666666,
              "#35b779"
             ],
             [
              0.7777777777777778,
              "#6ece58"
             ],
             [
              0.8888888888888888,
              "#b5de2b"
             ],
             [
              1,
              "#fde725"
             ]
            ],
            "type": "histogram2d"
           }
          ],
          "histogram2dcontour": [
           {
            "colorbar": {
             "outlinewidth": 1,
             "tickcolor": "rgb(36,36,36)",
             "ticks": "outside"
            },
            "colorscale": [
             [
              0,
              "#440154"
             ],
             [
              0.1111111111111111,
              "#482878"
             ],
             [
              0.2222222222222222,
              "#3e4989"
             ],
             [
              0.3333333333333333,
              "#31688e"
             ],
             [
              0.4444444444444444,
              "#26828e"
             ],
             [
              0.5555555555555556,
              "#1f9e89"
             ],
             [
              0.6666666666666666,
              "#35b779"
             ],
             [
              0.7777777777777778,
              "#6ece58"
             ],
             [
              0.8888888888888888,
              "#b5de2b"
             ],
             [
              1,
              "#fde725"
             ]
            ],
            "type": "histogram2dcontour"
           }
          ],
          "mesh3d": [
           {
            "colorbar": {
             "outlinewidth": 1,
             "tickcolor": "rgb(36,36,36)",
             "ticks": "outside"
            },
            "type": "mesh3d"
           }
          ],
          "parcoords": [
           {
            "line": {
             "colorbar": {
              "outlinewidth": 1,
              "tickcolor": "rgb(36,36,36)",
              "ticks": "outside"
             }
            },
            "type": "parcoords"
           }
          ],
          "pie": [
           {
            "automargin": true,
            "type": "pie"
           }
          ],
          "scatter": [
           {
            "fillpattern": {
             "fillmode": "overlay",
             "size": 10,
             "solidity": 0.2
            },
            "type": "scatter"
           }
          ],
          "scatter3d": [
           {
            "line": {
             "colorbar": {
              "outlinewidth": 1,
              "tickcolor": "rgb(36,36,36)",
              "ticks": "outside"
             }
            },
            "marker": {
             "colorbar": {
              "outlinewidth": 1,
              "tickcolor": "rgb(36,36,36)",
              "ticks": "outside"
             }
            },
            "type": "scatter3d"
           }
          ],
          "scattercarpet": [
           {
            "marker": {
             "colorbar": {
              "outlinewidth": 1,
              "tickcolor": "rgb(36,36,36)",
              "ticks": "outside"
             }
            },
            "type": "scattercarpet"
           }
          ],
          "scattergeo": [
           {
            "marker": {
             "colorbar": {
              "outlinewidth": 1,
              "tickcolor": "rgb(36,36,36)",
              "ticks": "outside"
             }
            },
            "type": "scattergeo"
           }
          ],
          "scattergl": [
           {
            "marker": {
             "colorbar": {
              "outlinewidth": 1,
              "tickcolor": "rgb(36,36,36)",
              "ticks": "outside"
             }
            },
            "type": "scattergl"
           }
          ],
          "scattermapbox": [
           {
            "marker": {
             "colorbar": {
              "outlinewidth": 1,
              "tickcolor": "rgb(36,36,36)",
              "ticks": "outside"
             }
            },
            "type": "scattermapbox"
           }
          ],
          "scatterpolar": [
           {
            "marker": {
             "colorbar": {
              "outlinewidth": 1,
              "tickcolor": "rgb(36,36,36)",
              "ticks": "outside"
             }
            },
            "type": "scatterpolar"
           }
          ],
          "scatterpolargl": [
           {
            "marker": {
             "colorbar": {
              "outlinewidth": 1,
              "tickcolor": "rgb(36,36,36)",
              "ticks": "outside"
             }
            },
            "type": "scatterpolargl"
           }
          ],
          "scatterternary": [
           {
            "marker": {
             "colorbar": {
              "outlinewidth": 1,
              "tickcolor": "rgb(36,36,36)",
              "ticks": "outside"
             }
            },
            "type": "scatterternary"
           }
          ],
          "surface": [
           {
            "colorbar": {
             "outlinewidth": 1,
             "tickcolor": "rgb(36,36,36)",
             "ticks": "outside"
            },
            "colorscale": [
             [
              0,
              "#440154"
             ],
             [
              0.1111111111111111,
              "#482878"
             ],
             [
              0.2222222222222222,
              "#3e4989"
             ],
             [
              0.3333333333333333,
              "#31688e"
             ],
             [
              0.4444444444444444,
              "#26828e"
             ],
             [
              0.5555555555555556,
              "#1f9e89"
             ],
             [
              0.6666666666666666,
              "#35b779"
             ],
             [
              0.7777777777777778,
              "#6ece58"
             ],
             [
              0.8888888888888888,
              "#b5de2b"
             ],
             [
              1,
              "#fde725"
             ]
            ],
            "type": "surface"
           }
          ],
          "table": [
           {
            "cells": {
             "fill": {
              "color": "rgb(237,237,237)"
             },
             "line": {
              "color": "white"
             }
            },
            "header": {
             "fill": {
              "color": "rgb(217,217,217)"
             },
             "line": {
              "color": "white"
             }
            },
            "type": "table"
           }
          ]
         },
         "layout": {
          "annotationdefaults": {
           "arrowhead": 0,
           "arrowwidth": 1
          },
          "autotypenumbers": "strict",
          "coloraxis": {
           "colorbar": {
            "outlinewidth": 1,
            "tickcolor": "rgb(36,36,36)",
            "ticks": "outside"
           }
          },
          "colorscale": {
           "diverging": [
            [
             0,
             "rgb(103,0,31)"
            ],
            [
             0.1,
             "rgb(178,24,43)"
            ],
            [
             0.2,
             "rgb(214,96,77)"
            ],
            [
             0.3,
             "rgb(244,165,130)"
            ],
            [
             0.4,
             "rgb(253,219,199)"
            ],
            [
             0.5,
             "rgb(247,247,247)"
            ],
            [
             0.6,
             "rgb(209,229,240)"
            ],
            [
             0.7,
             "rgb(146,197,222)"
            ],
            [
             0.8,
             "rgb(67,147,195)"
            ],
            [
             0.9,
             "rgb(33,102,172)"
            ],
            [
             1,
             "rgb(5,48,97)"
            ]
           ],
           "sequential": [
            [
             0,
             "#440154"
            ],
            [
             0.1111111111111111,
             "#482878"
            ],
            [
             0.2222222222222222,
             "#3e4989"
            ],
            [
             0.3333333333333333,
             "#31688e"
            ],
            [
             0.4444444444444444,
             "#26828e"
            ],
            [
             0.5555555555555556,
             "#1f9e89"
            ],
            [
             0.6666666666666666,
             "#35b779"
            ],
            [
             0.7777777777777778,
             "#6ece58"
            ],
            [
             0.8888888888888888,
             "#b5de2b"
            ],
            [
             1,
             "#fde725"
            ]
           ],
           "sequentialminus": [
            [
             0,
             "#440154"
            ],
            [
             0.1111111111111111,
             "#482878"
            ],
            [
             0.2222222222222222,
             "#3e4989"
            ],
            [
             0.3333333333333333,
             "#31688e"
            ],
            [
             0.4444444444444444,
             "#26828e"
            ],
            [
             0.5555555555555556,
             "#1f9e89"
            ],
            [
             0.6666666666666666,
             "#35b779"
            ],
            [
             0.7777777777777778,
             "#6ece58"
            ],
            [
             0.8888888888888888,
             "#b5de2b"
            ],
            [
             1,
             "#fde725"
            ]
           ]
          },
          "colorway": [
           "#1F77B4",
           "#FF7F0E",
           "#2CA02C",
           "#D62728",
           "#9467BD",
           "#8C564B",
           "#E377C2",
           "#7F7F7F",
           "#BCBD22",
           "#17BECF"
          ],
          "font": {
           "color": "rgb(36,36,36)"
          },
          "geo": {
           "bgcolor": "white",
           "lakecolor": "white",
           "landcolor": "white",
           "showlakes": true,
           "showland": true,
           "subunitcolor": "white"
          },
          "hoverlabel": {
           "align": "left"
          },
          "hovermode": "closest",
          "mapbox": {
           "style": "light"
          },
          "paper_bgcolor": "white",
          "plot_bgcolor": "white",
          "polar": {
           "angularaxis": {
            "gridcolor": "rgb(232,232,232)",
            "linecolor": "rgb(36,36,36)",
            "showgrid": false,
            "showline": true,
            "ticks": "outside"
           },
           "bgcolor": "white",
           "radialaxis": {
            "gridcolor": "rgb(232,232,232)",
            "linecolor": "rgb(36,36,36)",
            "showgrid": false,
            "showline": true,
            "ticks": "outside"
           }
          },
          "scene": {
           "xaxis": {
            "backgroundcolor": "white",
            "gridcolor": "rgb(232,232,232)",
            "gridwidth": 2,
            "linecolor": "rgb(36,36,36)",
            "showbackground": true,
            "showgrid": false,
            "showline": true,
            "ticks": "outside",
            "zeroline": false,
            "zerolinecolor": "rgb(36,36,36)"
           },
           "yaxis": {
            "backgroundcolor": "white",
            "gridcolor": "rgb(232,232,232)",
            "gridwidth": 2,
            "linecolor": "rgb(36,36,36)",
            "showbackground": true,
            "showgrid": false,
            "showline": true,
            "ticks": "outside",
            "zeroline": false,
            "zerolinecolor": "rgb(36,36,36)"
           },
           "zaxis": {
            "backgroundcolor": "white",
            "gridcolor": "rgb(232,232,232)",
            "gridwidth": 2,
            "linecolor": "rgb(36,36,36)",
            "showbackground": true,
            "showgrid": false,
            "showline": true,
            "ticks": "outside",
            "zeroline": false,
            "zerolinecolor": "rgb(36,36,36)"
           }
          },
          "shapedefaults": {
           "fillcolor": "black",
           "line": {
            "width": 0
           },
           "opacity": 0.3
          },
          "ternary": {
           "aaxis": {
            "gridcolor": "rgb(232,232,232)",
            "linecolor": "rgb(36,36,36)",
            "showgrid": false,
            "showline": true,
            "ticks": "outside"
           },
           "baxis": {
            "gridcolor": "rgb(232,232,232)",
            "linecolor": "rgb(36,36,36)",
            "showgrid": false,
            "showline": true,
            "ticks": "outside"
           },
           "bgcolor": "white",
           "caxis": {
            "gridcolor": "rgb(232,232,232)",
            "linecolor": "rgb(36,36,36)",
            "showgrid": false,
            "showline": true,
            "ticks": "outside"
           }
          },
          "title": {
           "x": 0.05
          },
          "xaxis": {
           "automargin": true,
           "gridcolor": "rgb(232,232,232)",
           "linecolor": "rgb(36,36,36)",
           "showgrid": false,
           "showline": true,
           "ticks": "outside",
           "title": {
            "standoff": 15
           },
           "zeroline": false,
           "zerolinecolor": "rgb(36,36,36)"
          },
          "yaxis": {
           "automargin": true,
           "gridcolor": "rgb(232,232,232)",
           "linecolor": "rgb(36,36,36)",
           "showgrid": false,
           "showline": true,
           "ticks": "outside",
           "title": {
            "standoff": 15
           },
           "zeroline": false,
           "zerolinecolor": "rgb(36,36,36)"
          }
         }
        },
        "title": {
         "text": "The Number of Papers Published With <B><span style=\"color: #4063FF;\">AI in Medicine</span></B> Is Increasing <B>Stronger</B> Than in <span style=\"color: grey;\">Other Fields</span>"
        },
        "width": 1000,
        "xaxis": {
         "anchor": "y",
         "domain": [
          0,
          1
         ],
         "dtick": 1,
         "tick0": 2019,
         "tickmode": "linear",
         "title": {
          "text": ""
         }
        },
        "yaxis": {
         "anchor": "x",
         "domain": [
          0,
          1
         ],
         "gridcolor": "lightgray",
         "range": [
          0,
          16000
         ],
         "showgrid": true,
         "title": {
          "text": "Number of Papers"
         }
        }
       }
      }
     },
     "metadata": {},
     "output_type": "display_data"
    }
   ],
   "source": [
    "# create subplots\n",
    "import plotly.graph_objects as go\n",
    "from plotly.subplots import make_subplots\n",
    "\n",
    "df_med = df.copy()[df[\"fields\"] == \"Medicine\"]\n",
    "df_other = df.copy()[df[\"fields\"] != \"Medicine\"]\n",
    "df_med[\"year\"] = df_med[\"publication_date\"].apply(lambda x: int(x[:4]))\n",
    "df_med = df_med[df_med[\"year\"] != 2024]  # 2024 not complete\n",
    "df_med = df_med.groupby(\"year\").size().reset_index()\n",
    "df_med.columns = [\"year\", \"count\"]\n",
    "\n",
    "df_other.dropna(inplace=True)\n",
    "num_fields = df_other[\"fields\"].nunique()\n",
    "df_other[\"year\"] = df_other[\"publication_date\"].apply(lambda x: x[:4])\n",
    "df_other = df_other[df_other[\"year\"] != \"2024\"]  # 2024 is not complete\n",
    "df_other = df_other.groupby(\"year\").size().reset_index()\n",
    "df_other.columns = [\"year\", \"count\"]\n",
    "df_other[\"count\"] = df_other[\"count\"] / num_fields\n",
    "\n",
    "fig = make_subplots(rows=1, cols=1)\n",
    "fig.add_trace(\n",
    "    go.Scatter(\n",
    "        x=df_med[\"year\"], y=df_med[\"count\"], mode=\"lines+markers\", name=\"Medicine\", line=dict(color=color_medicine)\n",
    "    ),\n",
    "    row=1,\n",
    "    col=1,\n",
    ")\n",
    "fig.add_trace(\n",
    "    go.Scatter(\n",
    "        x=df_other[\"year\"],\n",
    "        y=df_other[\"count\"],\n",
    "        mode=\"lines+markers\",\n",
    "        name=\"Other Fields\",\n",
    "        line=dict(color=color_other_fields),\n",
    "    ),\n",
    "    row=1,\n",
    "    col=1,\n",
    ")\n",
    "# remove background and gridlines\n",
    "fig.update_layout(\n",
    "    paper_bgcolor=\"white\",\n",
    "    plot_bgcolor=\"white\",\n",
    "    yaxis=dict(\n",
    "        showgrid=True,\n",
    "        gridcolor=\"lightgray\",\n",
    "        range=[0, 16000],\n",
    "    ),\n",
    ")\n",
    "fig.add_annotation(\n",
    "    x=2023,\n",
    "    y=15300,\n",
    "    text=\" Medicine\",\n",
    "    ax=0,\n",
    "    ay=0,\n",
    "    xanchor=\"left\",\n",
    "    font=dict(size=16, color=color_medicine, weight=\"bold\"),\n",
    ")\n",
    "\n",
    "fig.add_annotation(\n",
    "    x=2023,\n",
    "    y=9300,\n",
    "    text=\" Other Fields\",\n",
    "    ax=0,\n",
    "    ay=0,\n",
    "    xanchor=\"left\",\n",
    "    font=dict(size=16, color=color_other_fields, weight=\"bold\"),\n",
    ")\n",
    "\n",
    "fig.add_annotation(\n",
    "    xref=\"paper\",\n",
    "    yref=\"paper\",\n",
    "    x=0,\n",
    "    y=-0.15,\n",
    "    text=\"The number of papers published in association with AI shows a <b>larger increase</b> compared to the average of the other fields. <br> In medicine, the number of papers has <b>almost doubled</b> since 2019.\",\n",
    "    ax=0,\n",
    "    ay=0,\n",
    "    xanchor=\"left\",\n",
    "    yanchor=\"top\",\n",
    ")\n",
    "\n",
    "fig.add_annotation(\n",
    "    x=2019,\n",
    "    y=df_med[df_med[\"year\"] == 2019][\"count\"].values[0],\n",
    "    text=str(df_med[df_med[\"year\"] == 2019][\"count\"].values[0]),\n",
    "    ax=0,\n",
    "    ay=20,\n",
    "    xanchor=\"center\",\n",
    "    font=dict(size=12, color=color_medicine, weight=\"bold\"),\n",
    ")\n",
    "\n",
    "fig.add_annotation(\n",
    "    x=2023,\n",
    "    y=df_med[df_med[\"year\"] == 2023][\"count\"].values[0],\n",
    "    text=str(df_med[df_med[\"year\"] == 2023][\"count\"].values[0]),\n",
    "    ax=-40,\n",
    "    ay=-10,\n",
    "    xanchor=\"center\",\n",
    "    font=dict(size=12, color=color_medicine, weight=\"bold\"),\n",
    ")\n",
    "\n",
    "# add title\n",
    "fig.update_layout(\n",
    "    title_text=f'The Number of Papers Published With <B><span style=\"color: {color_medicine};\">AI in Medicine</span></B> Is Increasing <B>Stronger</B> Than in <span style=\"color: {color_other_fields};\">Other Fields</span>',\n",
    "    xaxis_title=\"\",\n",
    "    yaxis_title=\"Number of Papers\",\n",
    "    xaxis=dict(\n",
    "        tickmode=\"linear\",\n",
    "        tick0=2019,\n",
    "        dtick=1,\n",
    "    ),\n",
    "    width=1000,\n",
    "    height=600,\n",
    "    margin=dict(b=120),\n",
    ")\n",
    "# set template\n",
    "fig.update_layout(\n",
    "    template=\"simple_white\",\n",
    "    showlegend=False,\n",
    "    margin=dict(\n",
    "        l=110,\n",
    "    ),\n",
    ")\n",
    "fig.write_image(\"relevance_plot.png\", scale=10)\n",
    "fig.write_image(\"relevance_plot.svg\", scale=10)\n",
    "fig.show()"
   ]
  },
  {
   "cell_type": "markdown",
   "metadata": {},
   "source": [
    "The plot uses a simple_white template with only very thin and light horizontal grid lines to avoid clutter. When trying different options, it seemed that the grid lines were very helpful to better see the upward trend because otherwise the other fields line is used as a reference. The medicine line is still increasing more than the other fields line, but using the horizontal lines as a reference makes it much more visible. \n",
    "The year 2024 is not considered in this visualization because at the time of download (November 2024) the year was not yet complete, which would have distorted the graph. \n",
    "\n",
    "**Assumptions:** The papers that have medical and artificial intelligence concepts. Have topics in both, medicine and AI. If this is not the case, then they are not included in this. "
   ]
  },
  {
   "cell_type": "markdown",
   "metadata": {},
   "source": [
    "### Plot 2"
   ]
  },
  {
   "cell_type": "code",
   "execution_count": 41,
   "metadata": {},
   "outputs": [
    {
     "data": {
      "application/vnd.plotly.v1+json": {
       "config": {
        "plotlyServerURL": "https://plot.ly"
       },
       "data": [
        {
         "marker": {
          "color": [
           "#CBD2FF",
           "#CBD2FF",
           "#5A40FF",
           "#9940FF",
           "#CBD2FF",
           "#409FFF",
           "#CBD2FF",
           "#CBD2FF",
           "#CBD2FF",
           "#9940FF",
           "#CBD2FF",
           "#CBD2FF",
           "#CBD2FF",
           "#9940FF",
           "#CBD2FF",
           "#9940FF",
           "#CBD2FF",
           "#9940FF",
           "#9940FF",
           "#9940FF"
          ]
         },
         "opacity": 1,
         "orientation": "h",
         "type": "bar",
         "x": [
          595,
          636,
          727,
          731,
          786,
          918,
          963,
          1152,
          1173,
          1373,
          1546,
          1640,
          1717,
          2272,
          2896,
          3215,
          3588,
          6097,
          6491,
          9334
         ],
         "y": [
          "Surgical Simulation and Training Techniques",
          "Artificial Intelligence in Service Industry",
          "<span style=\"color: #5A40FF;\"><b>Natural Language Processing</b></span>",
          "Visual Question Answering in <span style=\"color: #9940FF;\"><b>Images</b></span> and Videos",
          "Global Trends in Colorectal Cancer Research",
          "<span style=\"color: #409FFF;\"><b>Explainable</b></span> Artificial Intelligence",
          "Classification of Brain Tumor Type and Grade",
          "Melanoma",
          "Machine Learning in Healthcare and Medicine",
          "<span style=\"color: #9940FF;\"><b>Image</b></span> Segmentation Techniques",
          "Detection and Management of Retinal Diseases",
          "Anomaly Detection in High-Dimensional Data",
          "Advances in Transfer Learning and Domain Adaptation",
          "Deep Learning in Computer Vision and <span style=\"color: #9940FF;\"><b>Image</b></span> Recognition",
          "Deep Learning Applications in Healthcare",
          "Automated Analysis of Blood Cell <span style=\"color: #9940FF;\"><b>Images</b></span>",
          "Artificial Intelligence in Medicine",
          "Radiomics in Medical <span style=\"color: #9940FF;\"><b>Imaging</b></span> Analysis",
          "Applications of Deep Learning in Medical <span style=\"color: #9940FF;\"><b>Imaging</b></span>",
          "Deep Learning in Medical <span style=\"color: #9940FF;\"><b>Image</b></span> Analysis"
         ]
        }
       ],
       "layout": {
        "annotations": [
         {
          "align": "left",
          "ax": 0,
          "ay": 0,
          "font": {
           "color": "black",
           "size": 10
          },
          "text": "The <b>top 20 topics</b> in terms of number of papers<br>published in AI in Medicine over the last 5 years<br>show that <b><span style=\"color: #9940FF;\">Computer Vision</span></b>, <b><span style=\"color: #409FFF;\">Explainable AI</span></b> and<br><b><span style=\"color: #5A40FF;\">NLP</span></b> are very relevant topics. ",
          "x": 0.8,
          "xref": "paper",
          "y": 0.1,
          "yref": "paper"
         }
        ],
        "height": 1000,
        "template": {
         "data": {
          "bar": [
           {
            "error_x": {
             "color": "rgb(36,36,36)"
            },
            "error_y": {
             "color": "rgb(36,36,36)"
            },
            "marker": {
             "line": {
              "color": "white",
              "width": 0.5
             },
             "pattern": {
              "fillmode": "overlay",
              "size": 10,
              "solidity": 0.2
             }
            },
            "type": "bar"
           }
          ],
          "barpolar": [
           {
            "marker": {
             "line": {
              "color": "white",
              "width": 0.5
             },
             "pattern": {
              "fillmode": "overlay",
              "size": 10,
              "solidity": 0.2
             }
            },
            "type": "barpolar"
           }
          ],
          "carpet": [
           {
            "aaxis": {
             "endlinecolor": "rgb(36,36,36)",
             "gridcolor": "white",
             "linecolor": "white",
             "minorgridcolor": "white",
             "startlinecolor": "rgb(36,36,36)"
            },
            "baxis": {
             "endlinecolor": "rgb(36,36,36)",
             "gridcolor": "white",
             "linecolor": "white",
             "minorgridcolor": "white",
             "startlinecolor": "rgb(36,36,36)"
            },
            "type": "carpet"
           }
          ],
          "choropleth": [
           {
            "colorbar": {
             "outlinewidth": 1,
             "tickcolor": "rgb(36,36,36)",
             "ticks": "outside"
            },
            "type": "choropleth"
           }
          ],
          "contour": [
           {
            "colorbar": {
             "outlinewidth": 1,
             "tickcolor": "rgb(36,36,36)",
             "ticks": "outside"
            },
            "colorscale": [
             [
              0,
              "#440154"
             ],
             [
              0.1111111111111111,
              "#482878"
             ],
             [
              0.2222222222222222,
              "#3e4989"
             ],
             [
              0.3333333333333333,
              "#31688e"
             ],
             [
              0.4444444444444444,
              "#26828e"
             ],
             [
              0.5555555555555556,
              "#1f9e89"
             ],
             [
              0.6666666666666666,
              "#35b779"
             ],
             [
              0.7777777777777778,
              "#6ece58"
             ],
             [
              0.8888888888888888,
              "#b5de2b"
             ],
             [
              1,
              "#fde725"
             ]
            ],
            "type": "contour"
           }
          ],
          "contourcarpet": [
           {
            "colorbar": {
             "outlinewidth": 1,
             "tickcolor": "rgb(36,36,36)",
             "ticks": "outside"
            },
            "type": "contourcarpet"
           }
          ],
          "heatmap": [
           {
            "colorbar": {
             "outlinewidth": 1,
             "tickcolor": "rgb(36,36,36)",
             "ticks": "outside"
            },
            "colorscale": [
             [
              0,
              "#440154"
             ],
             [
              0.1111111111111111,
              "#482878"
             ],
             [
              0.2222222222222222,
              "#3e4989"
             ],
             [
              0.3333333333333333,
              "#31688e"
             ],
             [
              0.4444444444444444,
              "#26828e"
             ],
             [
              0.5555555555555556,
              "#1f9e89"
             ],
             [
              0.6666666666666666,
              "#35b779"
             ],
             [
              0.7777777777777778,
              "#6ece58"
             ],
             [
              0.8888888888888888,
              "#b5de2b"
             ],
             [
              1,
              "#fde725"
             ]
            ],
            "type": "heatmap"
           }
          ],
          "heatmapgl": [
           {
            "colorbar": {
             "outlinewidth": 1,
             "tickcolor": "rgb(36,36,36)",
             "ticks": "outside"
            },
            "colorscale": [
             [
              0,
              "#440154"
             ],
             [
              0.1111111111111111,
              "#482878"
             ],
             [
              0.2222222222222222,
              "#3e4989"
             ],
             [
              0.3333333333333333,
              "#31688e"
             ],
             [
              0.4444444444444444,
              "#26828e"
             ],
             [
              0.5555555555555556,
              "#1f9e89"
             ],
             [
              0.6666666666666666,
              "#35b779"
             ],
             [
              0.7777777777777778,
              "#6ece58"
             ],
             [
              0.8888888888888888,
              "#b5de2b"
             ],
             [
              1,
              "#fde725"
             ]
            ],
            "type": "heatmapgl"
           }
          ],
          "histogram": [
           {
            "marker": {
             "line": {
              "color": "white",
              "width": 0.6
             }
            },
            "type": "histogram"
           }
          ],
          "histogram2d": [
           {
            "colorbar": {
             "outlinewidth": 1,
             "tickcolor": "rgb(36,36,36)",
             "ticks": "outside"
            },
            "colorscale": [
             [
              0,
              "#440154"
             ],
             [
              0.1111111111111111,
              "#482878"
             ],
             [
              0.2222222222222222,
              "#3e4989"
             ],
             [
              0.3333333333333333,
              "#31688e"
             ],
             [
              0.4444444444444444,
              "#26828e"
             ],
             [
              0.5555555555555556,
              "#1f9e89"
             ],
             [
              0.6666666666666666,
              "#35b779"
             ],
             [
              0.7777777777777778,
              "#6ece58"
             ],
             [
              0.8888888888888888,
              "#b5de2b"
             ],
             [
              1,
              "#fde725"
             ]
            ],
            "type": "histogram2d"
           }
          ],
          "histogram2dcontour": [
           {
            "colorbar": {
             "outlinewidth": 1,
             "tickcolor": "rgb(36,36,36)",
             "ticks": "outside"
            },
            "colorscale": [
             [
              0,
              "#440154"
             ],
             [
              0.1111111111111111,
              "#482878"
             ],
             [
              0.2222222222222222,
              "#3e4989"
             ],
             [
              0.3333333333333333,
              "#31688e"
             ],
             [
              0.4444444444444444,
              "#26828e"
             ],
             [
              0.5555555555555556,
              "#1f9e89"
             ],
             [
              0.6666666666666666,
              "#35b779"
             ],
             [
              0.7777777777777778,
              "#6ece58"
             ],
             [
              0.8888888888888888,
              "#b5de2b"
             ],
             [
              1,
              "#fde725"
             ]
            ],
            "type": "histogram2dcontour"
           }
          ],
          "mesh3d": [
           {
            "colorbar": {
             "outlinewidth": 1,
             "tickcolor": "rgb(36,36,36)",
             "ticks": "outside"
            },
            "type": "mesh3d"
           }
          ],
          "parcoords": [
           {
            "line": {
             "colorbar": {
              "outlinewidth": 1,
              "tickcolor": "rgb(36,36,36)",
              "ticks": "outside"
             }
            },
            "type": "parcoords"
           }
          ],
          "pie": [
           {
            "automargin": true,
            "type": "pie"
           }
          ],
          "scatter": [
           {
            "fillpattern": {
             "fillmode": "overlay",
             "size": 10,
             "solidity": 0.2
            },
            "type": "scatter"
           }
          ],
          "scatter3d": [
           {
            "line": {
             "colorbar": {
              "outlinewidth": 1,
              "tickcolor": "rgb(36,36,36)",
              "ticks": "outside"
             }
            },
            "marker": {
             "colorbar": {
              "outlinewidth": 1,
              "tickcolor": "rgb(36,36,36)",
              "ticks": "outside"
             }
            },
            "type": "scatter3d"
           }
          ],
          "scattercarpet": [
           {
            "marker": {
             "colorbar": {
              "outlinewidth": 1,
              "tickcolor": "rgb(36,36,36)",
              "ticks": "outside"
             }
            },
            "type": "scattercarpet"
           }
          ],
          "scattergeo": [
           {
            "marker": {
             "colorbar": {
              "outlinewidth": 1,
              "tickcolor": "rgb(36,36,36)",
              "ticks": "outside"
             }
            },
            "type": "scattergeo"
           }
          ],
          "scattergl": [
           {
            "marker": {
             "colorbar": {
              "outlinewidth": 1,
              "tickcolor": "rgb(36,36,36)",
              "ticks": "outside"
             }
            },
            "type": "scattergl"
           }
          ],
          "scattermapbox": [
           {
            "marker": {
             "colorbar": {
              "outlinewidth": 1,
              "tickcolor": "rgb(36,36,36)",
              "ticks": "outside"
             }
            },
            "type": "scattermapbox"
           }
          ],
          "scatterpolar": [
           {
            "marker": {
             "colorbar": {
              "outlinewidth": 1,
              "tickcolor": "rgb(36,36,36)",
              "ticks": "outside"
             }
            },
            "type": "scatterpolar"
           }
          ],
          "scatterpolargl": [
           {
            "marker": {
             "colorbar": {
              "outlinewidth": 1,
              "tickcolor": "rgb(36,36,36)",
              "ticks": "outside"
             }
            },
            "type": "scatterpolargl"
           }
          ],
          "scatterternary": [
           {
            "marker": {
             "colorbar": {
              "outlinewidth": 1,
              "tickcolor": "rgb(36,36,36)",
              "ticks": "outside"
             }
            },
            "type": "scatterternary"
           }
          ],
          "surface": [
           {
            "colorbar": {
             "outlinewidth": 1,
             "tickcolor": "rgb(36,36,36)",
             "ticks": "outside"
            },
            "colorscale": [
             [
              0,
              "#440154"
             ],
             [
              0.1111111111111111,
              "#482878"
             ],
             [
              0.2222222222222222,
              "#3e4989"
             ],
             [
              0.3333333333333333,
              "#31688e"
             ],
             [
              0.4444444444444444,
              "#26828e"
             ],
             [
              0.5555555555555556,
              "#1f9e89"
             ],
             [
              0.6666666666666666,
              "#35b779"
             ],
             [
              0.7777777777777778,
              "#6ece58"
             ],
             [
              0.8888888888888888,
              "#b5de2b"
             ],
             [
              1,
              "#fde725"
             ]
            ],
            "type": "surface"
           }
          ],
          "table": [
           {
            "cells": {
             "fill": {
              "color": "rgb(237,237,237)"
             },
             "line": {
              "color": "white"
             }
            },
            "header": {
             "fill": {
              "color": "rgb(217,217,217)"
             },
             "line": {
              "color": "white"
             }
            },
            "type": "table"
           }
          ]
         },
         "layout": {
          "annotationdefaults": {
           "arrowhead": 0,
           "arrowwidth": 1
          },
          "autotypenumbers": "strict",
          "coloraxis": {
           "colorbar": {
            "outlinewidth": 1,
            "tickcolor": "rgb(36,36,36)",
            "ticks": "outside"
           }
          },
          "colorscale": {
           "diverging": [
            [
             0,
             "rgb(103,0,31)"
            ],
            [
             0.1,
             "rgb(178,24,43)"
            ],
            [
             0.2,
             "rgb(214,96,77)"
            ],
            [
             0.3,
             "rgb(244,165,130)"
            ],
            [
             0.4,
             "rgb(253,219,199)"
            ],
            [
             0.5,
             "rgb(247,247,247)"
            ],
            [
             0.6,
             "rgb(209,229,240)"
            ],
            [
             0.7,
             "rgb(146,197,222)"
            ],
            [
             0.8,
             "rgb(67,147,195)"
            ],
            [
             0.9,
             "rgb(33,102,172)"
            ],
            [
             1,
             "rgb(5,48,97)"
            ]
           ],
           "sequential": [
            [
             0,
             "#440154"
            ],
            [
             0.1111111111111111,
             "#482878"
            ],
            [
             0.2222222222222222,
             "#3e4989"
            ],
            [
             0.3333333333333333,
             "#31688e"
            ],
            [
             0.4444444444444444,
             "#26828e"
            ],
            [
             0.5555555555555556,
             "#1f9e89"
            ],
            [
             0.6666666666666666,
             "#35b779"
            ],
            [
             0.7777777777777778,
             "#6ece58"
            ],
            [
             0.8888888888888888,
             "#b5de2b"
            ],
            [
             1,
             "#fde725"
            ]
           ],
           "sequentialminus": [
            [
             0,
             "#440154"
            ],
            [
             0.1111111111111111,
             "#482878"
            ],
            [
             0.2222222222222222,
             "#3e4989"
            ],
            [
             0.3333333333333333,
             "#31688e"
            ],
            [
             0.4444444444444444,
             "#26828e"
            ],
            [
             0.5555555555555556,
             "#1f9e89"
            ],
            [
             0.6666666666666666,
             "#35b779"
            ],
            [
             0.7777777777777778,
             "#6ece58"
            ],
            [
             0.8888888888888888,
             "#b5de2b"
            ],
            [
             1,
             "#fde725"
            ]
           ]
          },
          "colorway": [
           "#1F77B4",
           "#FF7F0E",
           "#2CA02C",
           "#D62728",
           "#9467BD",
           "#8C564B",
           "#E377C2",
           "#7F7F7F",
           "#BCBD22",
           "#17BECF"
          ],
          "font": {
           "color": "rgb(36,36,36)"
          },
          "geo": {
           "bgcolor": "white",
           "lakecolor": "white",
           "landcolor": "white",
           "showlakes": true,
           "showland": true,
           "subunitcolor": "white"
          },
          "hoverlabel": {
           "align": "left"
          },
          "hovermode": "closest",
          "mapbox": {
           "style": "light"
          },
          "paper_bgcolor": "white",
          "plot_bgcolor": "white",
          "polar": {
           "angularaxis": {
            "gridcolor": "rgb(232,232,232)",
            "linecolor": "rgb(36,36,36)",
            "showgrid": false,
            "showline": true,
            "ticks": "outside"
           },
           "bgcolor": "white",
           "radialaxis": {
            "gridcolor": "rgb(232,232,232)",
            "linecolor": "rgb(36,36,36)",
            "showgrid": false,
            "showline": true,
            "ticks": "outside"
           }
          },
          "scene": {
           "xaxis": {
            "backgroundcolor": "white",
            "gridcolor": "rgb(232,232,232)",
            "gridwidth": 2,
            "linecolor": "rgb(36,36,36)",
            "showbackground": true,
            "showgrid": false,
            "showline": true,
            "ticks": "outside",
            "zeroline": false,
            "zerolinecolor": "rgb(36,36,36)"
           },
           "yaxis": {
            "backgroundcolor": "white",
            "gridcolor": "rgb(232,232,232)",
            "gridwidth": 2,
            "linecolor": "rgb(36,36,36)",
            "showbackground": true,
            "showgrid": false,
            "showline": true,
            "ticks": "outside",
            "zeroline": false,
            "zerolinecolor": "rgb(36,36,36)"
           },
           "zaxis": {
            "backgroundcolor": "white",
            "gridcolor": "rgb(232,232,232)",
            "gridwidth": 2,
            "linecolor": "rgb(36,36,36)",
            "showbackground": true,
            "showgrid": false,
            "showline": true,
            "ticks": "outside",
            "zeroline": false,
            "zerolinecolor": "rgb(36,36,36)"
           }
          },
          "shapedefaults": {
           "fillcolor": "black",
           "line": {
            "width": 0
           },
           "opacity": 0.3
          },
          "ternary": {
           "aaxis": {
            "gridcolor": "rgb(232,232,232)",
            "linecolor": "rgb(36,36,36)",
            "showgrid": false,
            "showline": true,
            "ticks": "outside"
           },
           "baxis": {
            "gridcolor": "rgb(232,232,232)",
            "linecolor": "rgb(36,36,36)",
            "showgrid": false,
            "showline": true,
            "ticks": "outside"
           },
           "bgcolor": "white",
           "caxis": {
            "gridcolor": "rgb(232,232,232)",
            "linecolor": "rgb(36,36,36)",
            "showgrid": false,
            "showline": true,
            "ticks": "outside"
           }
          },
          "title": {
           "x": 0.05
          },
          "xaxis": {
           "automargin": true,
           "gridcolor": "rgb(232,232,232)",
           "linecolor": "rgb(36,36,36)",
           "showgrid": false,
           "showline": true,
           "ticks": "outside",
           "title": {
            "standoff": 15
           },
           "zeroline": false,
           "zerolinecolor": "rgb(36,36,36)"
          },
          "yaxis": {
           "automargin": true,
           "gridcolor": "rgb(232,232,232)",
           "linecolor": "rgb(36,36,36)",
           "showgrid": false,
           "showline": true,
           "ticks": "outside",
           "title": {
            "standoff": 15
           },
           "zeroline": false,
           "zerolinecolor": "rgb(36,36,36)"
          }
         }
        },
        "title": {
         "text": "<b><span style=\"color: #9940FF;\">Computer Vision</span></b>, <b><span style=\"color: #409FFF;\">Explainable AI</span></b> and <b><span style=\"color: #5A40FF;\">NLP</span></b> - The Most Relevant Topics"
        },
        "width": 800,
        "xaxis": {
         "tickformat": ",",
         "title": {
          "text": "Number of Papers"
         }
        }
       }
      }
     },
     "metadata": {},
     "output_type": "display_data"
    }
   ],
   "source": [
    "# get trending topics in medicine with ai\n",
    "import pandas as pd\n",
    "\n",
    "df_med = df.copy()[df[\"fields\"] == \"Medicine\"]\n",
    "df_med[\"year\"] = df_med[\"publication_date\"].apply(lambda x: x[:4])\n",
    "\n",
    "df_meds = df_med.groupby([\"topics\"]).count().reset_index().sort_values(by=\"doi\", ascending=True).tail(20)\n",
    "\n",
    "# color label words\n",
    "edited_labels = []\n",
    "for label in df_meds[\"topics\"]:\n",
    "    if \"Images\" in label:\n",
    "        edited_labels.append(label.replace(\"Images\", f'<span style=\"color: {image_color[0]};\"><b>Images</b></span>'))\n",
    "    elif \"Image\" in label:\n",
    "        edited_labels.append(label.replace(\"Image\", f'<span style=\"color: {image_color[0]};\"><b>Image</b></span>'))\n",
    "    elif \"Imaging\" in label:\n",
    "        edited_labels.append(label.replace(\"Imaging\", f'<span style=\"color: {image_color[0]};\"><b>Imaging</b></span>'))\n",
    "    elif \"Natural Language Processing\" in label:\n",
    "        edited_labels.append(\n",
    "            label.replace(\n",
    "                \"Natural Language Processing\",\n",
    "                f'<span style=\"color: {nlp_color[0]};\"><b>Natural Language Processing</b></span>',\n",
    "            )\n",
    "        )\n",
    "    elif \"Explainable\" in label:\n",
    "        edited_labels.append(\n",
    "            label.replace(\"Explainable\", f'<span style=\"color: {explainable_color[0]};\"><b>Explainable</b></span>')\n",
    "        )\n",
    "    else:\n",
    "        edited_labels.append(label)\n",
    "\n",
    "\n",
    "fig = go.Figure(\n",
    "    data=[\n",
    "        go.Bar(x=df_meds[\"doi\"], y=edited_labels, orientation=\"h\"),\n",
    "    ]\n",
    ")\n",
    "fig.update_layout(\n",
    "    title=f'<b><span style=\"color: {image_color[0]};\">Computer Vision</span></b>, <b><span style=\"color: {explainable_color[0]};\">Explainable AI</span></b> and <b><span style=\"color: {nlp_color[0]};\">NLP</span></b> - The Most Relevant Topics',\n",
    "    width=800,\n",
    "    height=1000,\n",
    "    xaxis=dict(\n",
    "        tickformat=\",\",\n",
    "    ),\n",
    ")\n",
    "\n",
    "# color certain bars\n",
    "num_bars = len(df_meds[\"doi\"])\n",
    "\n",
    "colors = (\n",
    "    (color_rest * 2)\n",
    "    + nlp_color\n",
    "    + image_color\n",
    "    + color_rest\n",
    "    + explainable_color\n",
    "    + (color_rest * 3)\n",
    "    + image_color\n",
    "    + (color_rest * 3)\n",
    "    + image_color\n",
    "    + color_rest\n",
    "    + image_color\n",
    "    + color_rest\n",
    "    + (image_color * 3)\n",
    ")\n",
    "fig.update_traces(\n",
    "    marker=dict(\n",
    "        color=colors\n",
    "        # line=dict(color='rgb(8,48,107)', width=1.5)\n",
    "    ),\n",
    "    opacity=1.0,\n",
    ")\n",
    "fig.add_annotation(\n",
    "    xref=\"paper\",\n",
    "    yref=\"paper\",\n",
    "    x=0.8,\n",
    "    y=0.1,\n",
    "    text=f'The <b>top 20 topics</b> in terms of number of papers<br>published in AI in Medicine over the last 5 years<br>show that <b><span style=\"color: {image_color[0]};\">Computer Vision</span></b>, <b><span style=\"color: {explainable_color[0]};\">Explainable AI</span></b> and<br><b><span style=\"color: {nlp_color[0]};\">NLP</span></b> are very relevant topics. ',\n",
    "    ax=0,\n",
    "    ay=0,\n",
    "    align=\"left\",\n",
    "    font=dict(\n",
    "        size=10,\n",
    "        color=\"black\",\n",
    "    ),\n",
    ")\n",
    "\n",
    "# add annotations for the colors\n",
    "fig.update_layout(template=\"simple_white\", xaxis=dict(title=\"Number of Papers\"))\n",
    "fig.write_image(\"topics_plot.png\", scale=10)\n",
    "fig.write_image(\"topics_plot.svg\", scale=10)\n",
    "fig.show()"
   ]
  },
  {
   "cell_type": "markdown",
   "metadata": {},
   "source": [
    "Grid lines and other clutter are removed and attention is drawn to stronger colors, color highlights, and bold text. The caption is used to better explain the plot and highlight the main takeaway, which is also stated in the heading. A vertical bar graph is used to avoid rotated labels. "
   ]
  },
  {
   "cell_type": "markdown",
   "metadata": {},
   "source": [
    "### Plot 3"
   ]
  },
  {
   "cell_type": "code",
   "execution_count": 9,
   "metadata": {},
   "outputs": [],
   "source": [
    "# get all the subfields of the field medicine form openalex api\n",
    "response = requests.get(\n",
    "    \"https://api.openalex.org/works?group_by=primary_topic.subfield.id&per_page=200&filter=primary_topic.field.id:fields/27\"\n",
    ")\n",
    "response.json()\n",
    "\n",
    "# get list of subfields\n",
    "subfields_medicine = []\n",
    "for i in range(len(response.json()[\"group_by\"])):\n",
    "    subfields_medicine.append(response.json()[\"group_by\"][i][\"key_display_name\"])"
   ]
  },
  {
   "cell_type": "code",
   "execution_count": 10,
   "metadata": {},
   "outputs": [],
   "source": [
    "# get all the subfields of the field computer science form openalex api\n",
    "response = requests.get(\n",
    "    \"https://api.openalex.org/works?group_by=primary_topic.subfield.id&per_page=200&filter=primary_topic.field.id:fields/17\"\n",
    ")\n",
    "response.json()\n",
    "\n",
    "# get list of subfields\n",
    "subfields_computer_science = []\n",
    "for i in range(len(response.json()[\"group_by\"])):\n",
    "    subfields_computer_science.append(response.json()[\"group_by\"][i][\"key_display_name\"])"
   ]
  },
  {
   "cell_type": "code",
   "execution_count": 11,
   "metadata": {},
   "outputs": [
    {
     "data": {
      "text/html": [
       "<div>\n",
       "<style scoped>\n",
       "    .dataframe tbody tr th:only-of-type {\n",
       "        vertical-align: middle;\n",
       "    }\n",
       "\n",
       "    .dataframe tbody tr th {\n",
       "        vertical-align: top;\n",
       "    }\n",
       "\n",
       "    .dataframe thead th {\n",
       "        text-align: right;\n",
       "    }\n",
       "</style>\n",
       "<table border=\"1\" class=\"dataframe\">\n",
       "  <thead>\n",
       "    <tr style=\"text-align: right;\">\n",
       "      <th></th>\n",
       "      <th>subfields</th>\n",
       "      <th>doi</th>\n",
       "      <th>publication_date</th>\n",
       "    </tr>\n",
       "  </thead>\n",
       "  <tbody>\n",
       "    <tr>\n",
       "      <th>0</th>\n",
       "      <td>Artificial Intelligence</td>\n",
       "      <td>https://doi.org/10.1001/amajethics.2019.167</td>\n",
       "      <td>2019-02-01</td>\n",
       "    </tr>\n",
       "    <tr>\n",
       "      <th>1</th>\n",
       "      <td>General Health Professions</td>\n",
       "      <td>https://doi.org/10.1001/amajethics.2019.167</td>\n",
       "      <td>2019-02-01</td>\n",
       "    </tr>\n",
       "    <tr>\n",
       "      <th>2</th>\n",
       "      <td>Epidemiology</td>\n",
       "      <td>https://doi.org/10.1001/amajethics.2019.167</td>\n",
       "      <td>2019-02-01</td>\n",
       "    </tr>\n",
       "    <tr>\n",
       "      <th>3</th>\n",
       "      <td>Health Informatics</td>\n",
       "      <td>https://doi.org/10.1001/amajethics.2019.180</td>\n",
       "      <td>2019-02-01</td>\n",
       "    </tr>\n",
       "    <tr>\n",
       "      <th>4</th>\n",
       "      <td>Public Health, Environmental and Occupational ...</td>\n",
       "      <td>https://doi.org/10.1001/amajethics.2019.180</td>\n",
       "      <td>2019-02-01</td>\n",
       "    </tr>\n",
       "  </tbody>\n",
       "</table>\n",
       "</div>"
      ],
      "text/plain": [
       "                                           subfields  \\\n",
       "0                            Artificial Intelligence   \n",
       "1                         General Health Professions   \n",
       "2                                       Epidemiology   \n",
       "3                                 Health Informatics   \n",
       "4  Public Health, Environmental and Occupational ...   \n",
       "\n",
       "                                           doi publication_date  \n",
       "0  https://doi.org/10.1001/amajethics.2019.167       2019-02-01  \n",
       "1  https://doi.org/10.1001/amajethics.2019.167       2019-02-01  \n",
       "2  https://doi.org/10.1001/amajethics.2019.167       2019-02-01  \n",
       "3  https://doi.org/10.1001/amajethics.2019.180       2019-02-01  \n",
       "4  https://doi.org/10.1001/amajethics.2019.180       2019-02-01  "
      ]
     },
     "execution_count": 11,
     "metadata": {},
     "output_type": "execute_result"
    }
   ],
   "source": [
    "# get the paper subfields for the given dios\n",
    "dios_med_ai = df_med[\"doi\"].unique()\n",
    "dios_med_ai = tuple(dios_med_ai)\n",
    "query = f\"\"\"\n",
    "    SELECT subfields, subfields.doi, publication_date\n",
    "    FROM\n",
    "        subfields\n",
    "    JOIN main\n",
    "    ON subfields.doi = main.doi\n",
    "    WHERE \n",
    "        subfields.doi IN {dios_med_ai};\n",
    "    \"\"\"\n",
    "\n",
    "subfields_medicine_ai = pd.read_sql_query(query, conn)\n",
    "subfields_medicine_ai.head()"
   ]
  },
  {
   "cell_type": "code",
   "execution_count": 12,
   "metadata": {},
   "outputs": [],
   "source": [
    "query = f\"\"\"\n",
    "    SELECT subfields, topics, subfields.doi, publication_date\n",
    "    FROM subfields\n",
    "    JOIN topics\n",
    "    ON subfields.doi = topics.doi\n",
    "    JOIN main\n",
    "    ON subfields.doi = main.doi\n",
    "    WHERE subfields.subfields IN {tuple(subfields_medicine)};\n",
    "    \"\"\"\n",
    "\n",
    "df_all_medicine = pd.read_sql_query(query, conn)"
   ]
  },
  {
   "cell_type": "code",
   "execution_count": 13,
   "metadata": {},
   "outputs": [
    {
     "data": {
      "text/html": [
       "<div>\n",
       "<style scoped>\n",
       "    .dataframe tbody tr th:only-of-type {\n",
       "        vertical-align: middle;\n",
       "    }\n",
       "\n",
       "    .dataframe tbody tr th {\n",
       "        vertical-align: top;\n",
       "    }\n",
       "\n",
       "    .dataframe thead th {\n",
       "        text-align: right;\n",
       "    }\n",
       "</style>\n",
       "<table border=\"1\" class=\"dataframe\">\n",
       "  <thead>\n",
       "    <tr style=\"text-align: right;\">\n",
       "      <th></th>\n",
       "      <th>topics</th>\n",
       "      <th>doi</th>\n",
       "      <th>publication_date</th>\n",
       "    </tr>\n",
       "    <tr>\n",
       "      <th>subfields</th>\n",
       "      <th></th>\n",
       "      <th></th>\n",
       "      <th></th>\n",
       "    </tr>\n",
       "  </thead>\n",
       "  <tbody>\n",
       "    <tr>\n",
       "      <th>Anatomy</th>\n",
       "      <td>782</td>\n",
       "      <td>782</td>\n",
       "      <td>782</td>\n",
       "    </tr>\n",
       "    <tr>\n",
       "      <th>Anesthesiology and Pain Medicine</th>\n",
       "      <td>17309</td>\n",
       "      <td>17309</td>\n",
       "      <td>17309</td>\n",
       "    </tr>\n",
       "    <tr>\n",
       "      <th>Biochemistry</th>\n",
       "      <td>97397</td>\n",
       "      <td>97397</td>\n",
       "      <td>97397</td>\n",
       "    </tr>\n",
       "    <tr>\n",
       "      <th>Cardiology and Cardiovascular Medicine</th>\n",
       "      <td>251568</td>\n",
       "      <td>251568</td>\n",
       "      <td>251568</td>\n",
       "    </tr>\n",
       "    <tr>\n",
       "      <th>Complementary and alternative medicine</th>\n",
       "      <td>56134</td>\n",
       "      <td>56134</td>\n",
       "      <td>56134</td>\n",
       "    </tr>\n",
       "  </tbody>\n",
       "</table>\n",
       "</div>"
      ],
      "text/plain": [
       "                                        topics     doi  publication_date\n",
       "subfields                                                               \n",
       "Anatomy                                    782     782               782\n",
       "Anesthesiology and Pain Medicine         17309   17309             17309\n",
       "Biochemistry                             97397   97397             97397\n",
       "Cardiology and Cardiovascular Medicine  251568  251568            251568\n",
       "Complementary and alternative medicine   56134   56134             56134"
      ]
     },
     "execution_count": 13,
     "metadata": {},
     "output_type": "execute_result"
    }
   ],
   "source": [
    "subfields_total = df_all_medicine.groupby(\"subfields\").count()\n",
    "subfields_total.head()"
   ]
  },
  {
   "cell_type": "code",
   "execution_count": 14,
   "metadata": {},
   "outputs": [
    {
     "data": {
      "text/html": [
       "<div>\n",
       "<style scoped>\n",
       "    .dataframe tbody tr th:only-of-type {\n",
       "        vertical-align: middle;\n",
       "    }\n",
       "\n",
       "    .dataframe tbody tr th {\n",
       "        vertical-align: top;\n",
       "    }\n",
       "\n",
       "    .dataframe thead th {\n",
       "        text-align: right;\n",
       "    }\n",
       "</style>\n",
       "<table border=\"1\" class=\"dataframe\">\n",
       "  <thead>\n",
       "    <tr style=\"text-align: right;\">\n",
       "      <th></th>\n",
       "      <th>subfields</th>\n",
       "      <th>doi</th>\n",
       "      <th>publication_date</th>\n",
       "    </tr>\n",
       "  </thead>\n",
       "  <tbody>\n",
       "    <tr>\n",
       "      <th>0</th>\n",
       "      <td>Artificial Intelligence</td>\n",
       "      <td>https://doi.org/10.1001/amajethics.2019.167</td>\n",
       "      <td>2019-02-01</td>\n",
       "    </tr>\n",
       "    <tr>\n",
       "      <th>1</th>\n",
       "      <td>General Health Professions</td>\n",
       "      <td>https://doi.org/10.1001/amajethics.2019.167</td>\n",
       "      <td>2019-02-01</td>\n",
       "    </tr>\n",
       "    <tr>\n",
       "      <th>2</th>\n",
       "      <td>Epidemiology</td>\n",
       "      <td>https://doi.org/10.1001/amajethics.2019.167</td>\n",
       "      <td>2019-02-01</td>\n",
       "    </tr>\n",
       "    <tr>\n",
       "      <th>3</th>\n",
       "      <td>Health Informatics</td>\n",
       "      <td>https://doi.org/10.1001/amajethics.2019.180</td>\n",
       "      <td>2019-02-01</td>\n",
       "    </tr>\n",
       "    <tr>\n",
       "      <th>4</th>\n",
       "      <td>Public Health, Environmental and Occupational ...</td>\n",
       "      <td>https://doi.org/10.1001/amajethics.2019.180</td>\n",
       "      <td>2019-02-01</td>\n",
       "    </tr>\n",
       "    <tr>\n",
       "      <th>...</th>\n",
       "      <td>...</td>\n",
       "      <td>...</td>\n",
       "      <td>...</td>\n",
       "    </tr>\n",
       "    <tr>\n",
       "      <th>66634</th>\n",
       "      <td>Health Informatics</td>\n",
       "      <td>https://doi.org/10.9781/ijimai.2024.02.008</td>\n",
       "      <td>2024-01-01</td>\n",
       "    </tr>\n",
       "    <tr>\n",
       "      <th>66635</th>\n",
       "      <td>Artificial Intelligence</td>\n",
       "      <td>https://doi.org/10.9781/ijimai.2024.02.008</td>\n",
       "      <td>2024-01-01</td>\n",
       "    </tr>\n",
       "    <tr>\n",
       "      <th>66636</th>\n",
       "      <td>Safety Research</td>\n",
       "      <td>https://doi.org/10.9785/cri-2019-200402</td>\n",
       "      <td>2019-08-01</td>\n",
       "    </tr>\n",
       "    <tr>\n",
       "      <th>66637</th>\n",
       "      <td>Health Informatics</td>\n",
       "      <td>https://doi.org/10.9785/cri-2019-200402</td>\n",
       "      <td>2019-08-01</td>\n",
       "    </tr>\n",
       "    <tr>\n",
       "      <th>66638</th>\n",
       "      <td>Artificial Intelligence</td>\n",
       "      <td>https://doi.org/10.9785/cri-2019-200402</td>\n",
       "      <td>2019-08-01</td>\n",
       "    </tr>\n",
       "  </tbody>\n",
       "</table>\n",
       "<p>66639 rows × 3 columns</p>\n",
       "</div>"
      ],
      "text/plain": [
       "                                               subfields  \\\n",
       "0                                Artificial Intelligence   \n",
       "1                             General Health Professions   \n",
       "2                                           Epidemiology   \n",
       "3                                     Health Informatics   \n",
       "4      Public Health, Environmental and Occupational ...   \n",
       "...                                                  ...   \n",
       "66634                                 Health Informatics   \n",
       "66635                            Artificial Intelligence   \n",
       "66636                                    Safety Research   \n",
       "66637                                 Health Informatics   \n",
       "66638                            Artificial Intelligence   \n",
       "\n",
       "                                               doi publication_date  \n",
       "0      https://doi.org/10.1001/amajethics.2019.167       2019-02-01  \n",
       "1      https://doi.org/10.1001/amajethics.2019.167       2019-02-01  \n",
       "2      https://doi.org/10.1001/amajethics.2019.167       2019-02-01  \n",
       "3      https://doi.org/10.1001/amajethics.2019.180       2019-02-01  \n",
       "4      https://doi.org/10.1001/amajethics.2019.180       2019-02-01  \n",
       "...                                            ...              ...  \n",
       "66634   https://doi.org/10.9781/ijimai.2024.02.008       2024-01-01  \n",
       "66635   https://doi.org/10.9781/ijimai.2024.02.008       2024-01-01  \n",
       "66636      https://doi.org/10.9785/cri-2019-200402       2019-08-01  \n",
       "66637      https://doi.org/10.9785/cri-2019-200402       2019-08-01  \n",
       "66638      https://doi.org/10.9785/cri-2019-200402       2019-08-01  \n",
       "\n",
       "[66639 rows x 3 columns]"
      ]
     },
     "execution_count": 14,
     "metadata": {},
     "output_type": "execute_result"
    }
   ],
   "source": [
    "subfields_medicine_ai"
   ]
  },
  {
   "cell_type": "code",
   "execution_count": 15,
   "metadata": {},
   "outputs": [],
   "source": [
    "subfields_medicine_ai = subfields_medicine_ai[subfields_medicine_ai.subfields.isin(subfields_total.index)]\n",
    "df_group = subfields_medicine_ai.copy().groupby(\"subfields\").size().reset_index().sort_values(by=0, ascending=True)\n",
    "df_group = pd.merge(df_group, subfields_total.reset_index(), on=\"subfields\")\n",
    "df_group[\"AI_percentage\"] = (df_group[0] / df_group[\"doi\"]) * 100\n",
    "df_group = df_group[df_group[\"subfields\"] != \"Health Informatics\"]\n",
    "df_group_top = df_group.sort_values(by=\"AI_percentage\", ascending=True).tail(11)\n",
    "df_group_bottom = df_group.sort_values(by=\"AI_percentage\", ascending=True).head(11)\n",
    "\n",
    "df_group = df_group.sort_values(\n",
    "    by=\"AI_percentage\",\n",
    "    ascending=True,\n",
    ")"
   ]
  },
  {
   "cell_type": "code",
   "execution_count": 16,
   "metadata": {},
   "outputs": [
    {
     "data": {
      "text/html": [
       "<div>\n",
       "<style scoped>\n",
       "    .dataframe tbody tr th:only-of-type {\n",
       "        vertical-align: middle;\n",
       "    }\n",
       "\n",
       "    .dataframe tbody tr th {\n",
       "        vertical-align: top;\n",
       "    }\n",
       "\n",
       "    .dataframe thead th {\n",
       "        text-align: right;\n",
       "    }\n",
       "</style>\n",
       "<table border=\"1\" class=\"dataframe\">\n",
       "  <thead>\n",
       "    <tr style=\"text-align: right;\">\n",
       "      <th></th>\n",
       "      <th>subfields</th>\n",
       "      <th>0</th>\n",
       "      <th>topics</th>\n",
       "      <th>doi</th>\n",
       "      <th>publication_date</th>\n",
       "      <th>AI_percentage</th>\n",
       "    </tr>\n",
       "  </thead>\n",
       "  <tbody>\n",
       "    <tr>\n",
       "      <th>5</th>\n",
       "      <td>Anatomy</td>\n",
       "      <td>3</td>\n",
       "      <td>782</td>\n",
       "      <td>782</td>\n",
       "      <td>782</td>\n",
       "      <td>0.383632</td>\n",
       "    </tr>\n",
       "    <tr>\n",
       "      <th>30</th>\n",
       "      <td>Endocrinology, Diabetes and Metabolism</td>\n",
       "      <td>498</td>\n",
       "      <td>122717</td>\n",
       "      <td>122717</td>\n",
       "      <td>122717</td>\n",
       "      <td>0.405812</td>\n",
       "    </tr>\n",
       "    <tr>\n",
       "      <th>26</th>\n",
       "      <td>Complementary and alternative medicine</td>\n",
       "      <td>229</td>\n",
       "      <td>56134</td>\n",
       "      <td>56134</td>\n",
       "      <td>56134</td>\n",
       "      <td>0.407952</td>\n",
       "    </tr>\n",
       "    <tr>\n",
       "      <th>29</th>\n",
       "      <td>Psychiatry and Mental health</td>\n",
       "      <td>457</td>\n",
       "      <td>108574</td>\n",
       "      <td>108574</td>\n",
       "      <td>108574</td>\n",
       "      <td>0.420911</td>\n",
       "    </tr>\n",
       "    <tr>\n",
       "      <th>38</th>\n",
       "      <td>Epidemiology</td>\n",
       "      <td>2099</td>\n",
       "      <td>387163</td>\n",
       "      <td>387163</td>\n",
       "      <td>387163</td>\n",
       "      <td>0.542149</td>\n",
       "    </tr>\n",
       "    <tr>\n",
       "      <th>36</th>\n",
       "      <td>Neurology</td>\n",
       "      <td>1306</td>\n",
       "      <td>226894</td>\n",
       "      <td>226894</td>\n",
       "      <td>226894</td>\n",
       "      <td>0.575599</td>\n",
       "    </tr>\n",
       "    <tr>\n",
       "      <th>39</th>\n",
       "      <td>Oncology</td>\n",
       "      <td>2210</td>\n",
       "      <td>373993</td>\n",
       "      <td>373993</td>\n",
       "      <td>373993</td>\n",
       "      <td>0.590920</td>\n",
       "    </tr>\n",
       "    <tr>\n",
       "      <th>19</th>\n",
       "      <td>Otorhinolaryngology</td>\n",
       "      <td>100</td>\n",
       "      <td>15181</td>\n",
       "      <td>15181</td>\n",
       "      <td>15181</td>\n",
       "      <td>0.658718</td>\n",
       "    </tr>\n",
       "    <tr>\n",
       "      <th>34</th>\n",
       "      <td>Ophthalmology</td>\n",
       "      <td>718</td>\n",
       "      <td>64667</td>\n",
       "      <td>64667</td>\n",
       "      <td>64667</td>\n",
       "      <td>1.110304</td>\n",
       "    </tr>\n",
       "    <tr>\n",
       "      <th>25</th>\n",
       "      <td>Family Practice</td>\n",
       "      <td>171</td>\n",
       "      <td>9959</td>\n",
       "      <td>9959</td>\n",
       "      <td>9959</td>\n",
       "      <td>1.717040</td>\n",
       "    </tr>\n",
       "    <tr>\n",
       "      <th>41</th>\n",
       "      <td>Radiology, Nuclear Medicine and Imaging</td>\n",
       "      <td>13717</td>\n",
       "      <td>276168</td>\n",
       "      <td>276168</td>\n",
       "      <td>276168</td>\n",
       "      <td>4.966904</td>\n",
       "    </tr>\n",
       "  </tbody>\n",
       "</table>\n",
       "</div>"
      ],
      "text/plain": [
       "                                  subfields      0  topics     doi  \\\n",
       "5                                   Anatomy      3     782     782   \n",
       "30   Endocrinology, Diabetes and Metabolism    498  122717  122717   \n",
       "26   Complementary and alternative medicine    229   56134   56134   \n",
       "29             Psychiatry and Mental health    457  108574  108574   \n",
       "38                             Epidemiology   2099  387163  387163   \n",
       "36                                Neurology   1306  226894  226894   \n",
       "39                                 Oncology   2210  373993  373993   \n",
       "19                      Otorhinolaryngology    100   15181   15181   \n",
       "34                            Ophthalmology    718   64667   64667   \n",
       "25                          Family Practice    171    9959    9959   \n",
       "41  Radiology, Nuclear Medicine and Imaging  13717  276168  276168   \n",
       "\n",
       "    publication_date  AI_percentage  \n",
       "5                782       0.383632  \n",
       "30            122717       0.405812  \n",
       "26             56134       0.407952  \n",
       "29            108574       0.420911  \n",
       "38            387163       0.542149  \n",
       "36            226894       0.575599  \n",
       "39            373993       0.590920  \n",
       "19             15181       0.658718  \n",
       "34             64667       1.110304  \n",
       "25              9959       1.717040  \n",
       "41            276168       4.966904  "
      ]
     },
     "execution_count": 16,
     "metadata": {},
     "output_type": "execute_result"
    }
   ],
   "source": [
    "df_group_top"
   ]
  },
  {
   "cell_type": "code",
   "execution_count": 36,
   "metadata": {},
   "outputs": [
    {
     "data": {
      "application/vnd.plotly.v1+json": {
       "config": {
        "plotlyServerURL": "https://plot.ly"
       },
       "data": [
        {
         "marker": {
          "color": "#29D7FF",
          "opacity": [
           0.5,
           0.5,
           0.5,
           0.5,
           0.5,
           0.5,
           0.5,
           0.5,
           0.5,
           0.5,
           1
          ]
         },
         "name": "Top 10",
         "orientation": "h",
         "type": "bar",
         "x": [
          0.3836317135549872,
          0.40581174572390133,
          0.4079523996152064,
          0.42091108368486013,
          0.5421489140232925,
          0.5755991784710041,
          0.5909201509119155,
          0.6587181345102431,
          1.1103035551363138,
          1.7170398634401045,
          4.966904203238609
         ],
         "xaxis": "x",
         "y": [
          "Anatomy",
          "Endocrinology, Diabetes and Metabolism",
          "Complementary and alternative medicine",
          "Psychiatry and Mental health",
          "Epidemiology",
          "Neurology",
          "Oncology",
          "Otorhinolaryngology",
          "Ophthalmology",
          "Family Practice",
          "Radiology, Nuclear Medicine and Imaging"
         ],
         "yaxis": "y"
        },
        {
         "marker": {
          "color": "#BA2EDF",
          "opacity": [
           1,
           0.5,
           0.5,
           0.5,
           0.5,
           0.5,
           0.5,
           0.5,
           0.5,
           0.5,
           1
          ]
         },
         "name": "Bottom 10",
         "orientation": "h",
         "type": "bar",
         "x": [
          0.0016104356228359771,
          0.006680472977486807,
          0.006699269779594024,
          0.007187079684179184,
          0.008641175199827177,
          0.016002133617815707,
          0.028886706337743373,
          0.04049129437171008,
          0.041786609713065276,
          0.04501852685528275,
          0.047078100734907494
         ],
         "xaxis": "x2",
         "y": [
          "Pharmacology",
          "Immunology and Allergy",
          "Internal Medicine",
          "Biochemistry",
          "Urology",
          "Microbiology",
          "Anesthesiology and Pain Medicine",
          "Transplantation",
          "Obstetrics and Gynecology",
          "Rheumatology",
          "Genetics"
         ],
         "yaxis": "y2"
        }
       ],
       "layout": {
        "annotations": [
         {
          "font": {
           "color": "#BA2EDF",
           "size": 12,
           "weight": "bold"
          },
          "showarrow": false,
          "text": "0.0016%",
          "x": 0.0016104356228359771,
          "xanchor": "left",
          "xref": "x2",
          "y": "Pharmacology",
          "yref": "y2"
         },
         {
          "font": {
           "color": "#BA2EDF",
           "size": 12,
           "weight": "bold"
          },
          "showarrow": false,
          "text": "0.05%",
          "x": 0.047078100734907494,
          "xanchor": "left",
          "xref": "x2",
          "y": "Genetics",
          "yref": "y2"
         },
         {
          "ax": 0,
          "ay": 0,
          "font": {
           "color": "white",
           "size": 12,
           "weight": "bold"
          },
          "text": "4.97%",
          "x": 4.466904203238609,
          "xref": "x",
          "y": "Radiology, Nuclear Medicine and Imaging",
          "yref": "y"
         },
         {
          "font": {
           "color": "#29D7FF",
           "size": 12
          },
          "showarrow": false,
          "text": "<b>largest</b> proportion",
          "x": 1.05,
          "xanchor": "left",
          "xref": "paper",
          "y": 0.78,
          "yref": "paper"
         },
         {
          "font": {
           "color": "#BA2EDF",
           "size": 12
          },
          "showarrow": false,
          "text": "<b>smallest</b> proportion",
          "x": 1.05,
          "xanchor": "left",
          "xref": "paper",
          "y": 0.23,
          "yref": "paper"
         },
         {
          "align": "left",
          "ax": 0,
          "ay": 0,
          "font": {
           "size": 9
          },
          "text": "The percentage of papers with AI in each<br>subfield of medicine <b>varies greatly between subfields</b>.<br>The <b><span style=\"color: #29D7FF;\">top</span></b> graph shows the <b>11</b> subfields with the<br><b><span style=\"color: #29D7FF;\">highest proportion</span></b>, while the <b><span style=\"color: #BA2EDF;\">bottom</span></b> graph shows<br>the <b>11</b> subfields with the <b><span style=\"color: #BA2EDF;\">lowest proportion</span></b>.",
          "x": 1,
          "xanchor": "right",
          "xref": "paper",
          "y": 0.1,
          "yref": "paper"
         }
        ],
        "height": 800,
        "margin": {
         "r": 150
        },
        "shapes": [
         {
          "line": {
           "color": "#29D7FF",
           "width": 2
          },
          "type": "line",
          "x0": 1.02,
          "x1": 1.02,
          "xref": "paper",
          "y0": 1,
          "y1": 0.55,
          "yref": "paper"
         },
         {
          "line": {
           "color": "#29D7FF",
           "width": 2
          },
          "type": "line",
          "x0": 1.02,
          "x1": 1,
          "xref": "paper",
          "y0": 1,
          "y1": 1,
          "yref": "paper"
         },
         {
          "line": {
           "color": "#29D7FF",
           "width": 2
          },
          "type": "line",
          "x0": 1.02,
          "x1": 1,
          "xref": "paper",
          "y0": 0.55,
          "y1": 0.55,
          "yref": "paper"
         },
         {
          "line": {
           "color": "#BA2EDF",
           "width": 2
          },
          "type": "line",
          "x0": 1.02,
          "x1": 1.02,
          "xref": "paper",
          "y0": -0.015,
          "y1": 0.45,
          "yref": "paper"
         },
         {
          "line": {
           "color": "#BA2EDF",
           "width": 2
          },
          "type": "line",
          "x0": 1.02,
          "x1": 1,
          "xref": "paper",
          "y0": 0.45,
          "y1": 0.45,
          "yref": "paper"
         },
         {
          "line": {
           "color": "#BA2EDF",
           "width": 2
          },
          "type": "line",
          "x0": 1.02,
          "x1": 1,
          "xref": "paper",
          "y0": -0.015,
          "y1": -0.015,
          "yref": "paper"
         }
        ],
        "showlegend": false,
        "template": {
         "data": {
          "bar": [
           {
            "error_x": {
             "color": "rgb(36,36,36)"
            },
            "error_y": {
             "color": "rgb(36,36,36)"
            },
            "marker": {
             "line": {
              "color": "white",
              "width": 0.5
             },
             "pattern": {
              "fillmode": "overlay",
              "size": 10,
              "solidity": 0.2
             }
            },
            "type": "bar"
           }
          ],
          "barpolar": [
           {
            "marker": {
             "line": {
              "color": "white",
              "width": 0.5
             },
             "pattern": {
              "fillmode": "overlay",
              "size": 10,
              "solidity": 0.2
             }
            },
            "type": "barpolar"
           }
          ],
          "carpet": [
           {
            "aaxis": {
             "endlinecolor": "rgb(36,36,36)",
             "gridcolor": "white",
             "linecolor": "white",
             "minorgridcolor": "white",
             "startlinecolor": "rgb(36,36,36)"
            },
            "baxis": {
             "endlinecolor": "rgb(36,36,36)",
             "gridcolor": "white",
             "linecolor": "white",
             "minorgridcolor": "white",
             "startlinecolor": "rgb(36,36,36)"
            },
            "type": "carpet"
           }
          ],
          "choropleth": [
           {
            "colorbar": {
             "outlinewidth": 1,
             "tickcolor": "rgb(36,36,36)",
             "ticks": "outside"
            },
            "type": "choropleth"
           }
          ],
          "contour": [
           {
            "colorbar": {
             "outlinewidth": 1,
             "tickcolor": "rgb(36,36,36)",
             "ticks": "outside"
            },
            "colorscale": [
             [
              0,
              "#440154"
             ],
             [
              0.1111111111111111,
              "#482878"
             ],
             [
              0.2222222222222222,
              "#3e4989"
             ],
             [
              0.3333333333333333,
              "#31688e"
             ],
             [
              0.4444444444444444,
              "#26828e"
             ],
             [
              0.5555555555555556,
              "#1f9e89"
             ],
             [
              0.6666666666666666,
              "#35b779"
             ],
             [
              0.7777777777777778,
              "#6ece58"
             ],
             [
              0.8888888888888888,
              "#b5de2b"
             ],
             [
              1,
              "#fde725"
             ]
            ],
            "type": "contour"
           }
          ],
          "contourcarpet": [
           {
            "colorbar": {
             "outlinewidth": 1,
             "tickcolor": "rgb(36,36,36)",
             "ticks": "outside"
            },
            "type": "contourcarpet"
           }
          ],
          "heatmap": [
           {
            "colorbar": {
             "outlinewidth": 1,
             "tickcolor": "rgb(36,36,36)",
             "ticks": "outside"
            },
            "colorscale": [
             [
              0,
              "#440154"
             ],
             [
              0.1111111111111111,
              "#482878"
             ],
             [
              0.2222222222222222,
              "#3e4989"
             ],
             [
              0.3333333333333333,
              "#31688e"
             ],
             [
              0.4444444444444444,
              "#26828e"
             ],
             [
              0.5555555555555556,
              "#1f9e89"
             ],
             [
              0.6666666666666666,
              "#35b779"
             ],
             [
              0.7777777777777778,
              "#6ece58"
             ],
             [
              0.8888888888888888,
              "#b5de2b"
             ],
             [
              1,
              "#fde725"
             ]
            ],
            "type": "heatmap"
           }
          ],
          "heatmapgl": [
           {
            "colorbar": {
             "outlinewidth": 1,
             "tickcolor": "rgb(36,36,36)",
             "ticks": "outside"
            },
            "colorscale": [
             [
              0,
              "#440154"
             ],
             [
              0.1111111111111111,
              "#482878"
             ],
             [
              0.2222222222222222,
              "#3e4989"
             ],
             [
              0.3333333333333333,
              "#31688e"
             ],
             [
              0.4444444444444444,
              "#26828e"
             ],
             [
              0.5555555555555556,
              "#1f9e89"
             ],
             [
              0.6666666666666666,
              "#35b779"
             ],
             [
              0.7777777777777778,
              "#6ece58"
             ],
             [
              0.8888888888888888,
              "#b5de2b"
             ],
             [
              1,
              "#fde725"
             ]
            ],
            "type": "heatmapgl"
           }
          ],
          "histogram": [
           {
            "marker": {
             "line": {
              "color": "white",
              "width": 0.6
             }
            },
            "type": "histogram"
           }
          ],
          "histogram2d": [
           {
            "colorbar": {
             "outlinewidth": 1,
             "tickcolor": "rgb(36,36,36)",
             "ticks": "outside"
            },
            "colorscale": [
             [
              0,
              "#440154"
             ],
             [
              0.1111111111111111,
              "#482878"
             ],
             [
              0.2222222222222222,
              "#3e4989"
             ],
             [
              0.3333333333333333,
              "#31688e"
             ],
             [
              0.4444444444444444,
              "#26828e"
             ],
             [
              0.5555555555555556,
              "#1f9e89"
             ],
             [
              0.6666666666666666,
              "#35b779"
             ],
             [
              0.7777777777777778,
              "#6ece58"
             ],
             [
              0.8888888888888888,
              "#b5de2b"
             ],
             [
              1,
              "#fde725"
             ]
            ],
            "type": "histogram2d"
           }
          ],
          "histogram2dcontour": [
           {
            "colorbar": {
             "outlinewidth": 1,
             "tickcolor": "rgb(36,36,36)",
             "ticks": "outside"
            },
            "colorscale": [
             [
              0,
              "#440154"
             ],
             [
              0.1111111111111111,
              "#482878"
             ],
             [
              0.2222222222222222,
              "#3e4989"
             ],
             [
              0.3333333333333333,
              "#31688e"
             ],
             [
              0.4444444444444444,
              "#26828e"
             ],
             [
              0.5555555555555556,
              "#1f9e89"
             ],
             [
              0.6666666666666666,
              "#35b779"
             ],
             [
              0.7777777777777778,
              "#6ece58"
             ],
             [
              0.8888888888888888,
              "#b5de2b"
             ],
             [
              1,
              "#fde725"
             ]
            ],
            "type": "histogram2dcontour"
           }
          ],
          "mesh3d": [
           {
            "colorbar": {
             "outlinewidth": 1,
             "tickcolor": "rgb(36,36,36)",
             "ticks": "outside"
            },
            "type": "mesh3d"
           }
          ],
          "parcoords": [
           {
            "line": {
             "colorbar": {
              "outlinewidth": 1,
              "tickcolor": "rgb(36,36,36)",
              "ticks": "outside"
             }
            },
            "type": "parcoords"
           }
          ],
          "pie": [
           {
            "automargin": true,
            "type": "pie"
           }
          ],
          "scatter": [
           {
            "fillpattern": {
             "fillmode": "overlay",
             "size": 10,
             "solidity": 0.2
            },
            "type": "scatter"
           }
          ],
          "scatter3d": [
           {
            "line": {
             "colorbar": {
              "outlinewidth": 1,
              "tickcolor": "rgb(36,36,36)",
              "ticks": "outside"
             }
            },
            "marker": {
             "colorbar": {
              "outlinewidth": 1,
              "tickcolor": "rgb(36,36,36)",
              "ticks": "outside"
             }
            },
            "type": "scatter3d"
           }
          ],
          "scattercarpet": [
           {
            "marker": {
             "colorbar": {
              "outlinewidth": 1,
              "tickcolor": "rgb(36,36,36)",
              "ticks": "outside"
             }
            },
            "type": "scattercarpet"
           }
          ],
          "scattergeo": [
           {
            "marker": {
             "colorbar": {
              "outlinewidth": 1,
              "tickcolor": "rgb(36,36,36)",
              "ticks": "outside"
             }
            },
            "type": "scattergeo"
           }
          ],
          "scattergl": [
           {
            "marker": {
             "colorbar": {
              "outlinewidth": 1,
              "tickcolor": "rgb(36,36,36)",
              "ticks": "outside"
             }
            },
            "type": "scattergl"
           }
          ],
          "scattermapbox": [
           {
            "marker": {
             "colorbar": {
              "outlinewidth": 1,
              "tickcolor": "rgb(36,36,36)",
              "ticks": "outside"
             }
            },
            "type": "scattermapbox"
           }
          ],
          "scatterpolar": [
           {
            "marker": {
             "colorbar": {
              "outlinewidth": 1,
              "tickcolor": "rgb(36,36,36)",
              "ticks": "outside"
             }
            },
            "type": "scatterpolar"
           }
          ],
          "scatterpolargl": [
           {
            "marker": {
             "colorbar": {
              "outlinewidth": 1,
              "tickcolor": "rgb(36,36,36)",
              "ticks": "outside"
             }
            },
            "type": "scatterpolargl"
           }
          ],
          "scatterternary": [
           {
            "marker": {
             "colorbar": {
              "outlinewidth": 1,
              "tickcolor": "rgb(36,36,36)",
              "ticks": "outside"
             }
            },
            "type": "scatterternary"
           }
          ],
          "surface": [
           {
            "colorbar": {
             "outlinewidth": 1,
             "tickcolor": "rgb(36,36,36)",
             "ticks": "outside"
            },
            "colorscale": [
             [
              0,
              "#440154"
             ],
             [
              0.1111111111111111,
              "#482878"
             ],
             [
              0.2222222222222222,
              "#3e4989"
             ],
             [
              0.3333333333333333,
              "#31688e"
             ],
             [
              0.4444444444444444,
              "#26828e"
             ],
             [
              0.5555555555555556,
              "#1f9e89"
             ],
             [
              0.6666666666666666,
              "#35b779"
             ],
             [
              0.7777777777777778,
              "#6ece58"
             ],
             [
              0.8888888888888888,
              "#b5de2b"
             ],
             [
              1,
              "#fde725"
             ]
            ],
            "type": "surface"
           }
          ],
          "table": [
           {
            "cells": {
             "fill": {
              "color": "rgb(237,237,237)"
             },
             "line": {
              "color": "white"
             }
            },
            "header": {
             "fill": {
              "color": "rgb(217,217,217)"
             },
             "line": {
              "color": "white"
             }
            },
            "type": "table"
           }
          ]
         },
         "layout": {
          "annotationdefaults": {
           "arrowhead": 0,
           "arrowwidth": 1
          },
          "autotypenumbers": "strict",
          "coloraxis": {
           "colorbar": {
            "outlinewidth": 1,
            "tickcolor": "rgb(36,36,36)",
            "ticks": "outside"
           }
          },
          "colorscale": {
           "diverging": [
            [
             0,
             "rgb(103,0,31)"
            ],
            [
             0.1,
             "rgb(178,24,43)"
            ],
            [
             0.2,
             "rgb(214,96,77)"
            ],
            [
             0.3,
             "rgb(244,165,130)"
            ],
            [
             0.4,
             "rgb(253,219,199)"
            ],
            [
             0.5,
             "rgb(247,247,247)"
            ],
            [
             0.6,
             "rgb(209,229,240)"
            ],
            [
             0.7,
             "rgb(146,197,222)"
            ],
            [
             0.8,
             "rgb(67,147,195)"
            ],
            [
             0.9,
             "rgb(33,102,172)"
            ],
            [
             1,
             "rgb(5,48,97)"
            ]
           ],
           "sequential": [
            [
             0,
             "#440154"
            ],
            [
             0.1111111111111111,
             "#482878"
            ],
            [
             0.2222222222222222,
             "#3e4989"
            ],
            [
             0.3333333333333333,
             "#31688e"
            ],
            [
             0.4444444444444444,
             "#26828e"
            ],
            [
             0.5555555555555556,
             "#1f9e89"
            ],
            [
             0.6666666666666666,
             "#35b779"
            ],
            [
             0.7777777777777778,
             "#6ece58"
            ],
            [
             0.8888888888888888,
             "#b5de2b"
            ],
            [
             1,
             "#fde725"
            ]
           ],
           "sequentialminus": [
            [
             0,
             "#440154"
            ],
            [
             0.1111111111111111,
             "#482878"
            ],
            [
             0.2222222222222222,
             "#3e4989"
            ],
            [
             0.3333333333333333,
             "#31688e"
            ],
            [
             0.4444444444444444,
             "#26828e"
            ],
            [
             0.5555555555555556,
             "#1f9e89"
            ],
            [
             0.6666666666666666,
             "#35b779"
            ],
            [
             0.7777777777777778,
             "#6ece58"
            ],
            [
             0.8888888888888888,
             "#b5de2b"
            ],
            [
             1,
             "#fde725"
            ]
           ]
          },
          "colorway": [
           "#1F77B4",
           "#FF7F0E",
           "#2CA02C",
           "#D62728",
           "#9467BD",
           "#8C564B",
           "#E377C2",
           "#7F7F7F",
           "#BCBD22",
           "#17BECF"
          ],
          "font": {
           "color": "rgb(36,36,36)"
          },
          "geo": {
           "bgcolor": "white",
           "lakecolor": "white",
           "landcolor": "white",
           "showlakes": true,
           "showland": true,
           "subunitcolor": "white"
          },
          "hoverlabel": {
           "align": "left"
          },
          "hovermode": "closest",
          "mapbox": {
           "style": "light"
          },
          "paper_bgcolor": "white",
          "plot_bgcolor": "white",
          "polar": {
           "angularaxis": {
            "gridcolor": "rgb(232,232,232)",
            "linecolor": "rgb(36,36,36)",
            "showgrid": false,
            "showline": true,
            "ticks": "outside"
           },
           "bgcolor": "white",
           "radialaxis": {
            "gridcolor": "rgb(232,232,232)",
            "linecolor": "rgb(36,36,36)",
            "showgrid": false,
            "showline": true,
            "ticks": "outside"
           }
          },
          "scene": {
           "xaxis": {
            "backgroundcolor": "white",
            "gridcolor": "rgb(232,232,232)",
            "gridwidth": 2,
            "linecolor": "rgb(36,36,36)",
            "showbackground": true,
            "showgrid": false,
            "showline": true,
            "ticks": "outside",
            "zeroline": false,
            "zerolinecolor": "rgb(36,36,36)"
           },
           "yaxis": {
            "backgroundcolor": "white",
            "gridcolor": "rgb(232,232,232)",
            "gridwidth": 2,
            "linecolor": "rgb(36,36,36)",
            "showbackground": true,
            "showgrid": false,
            "showline": true,
            "ticks": "outside",
            "zeroline": false,
            "zerolinecolor": "rgb(36,36,36)"
           },
           "zaxis": {
            "backgroundcolor": "white",
            "gridcolor": "rgb(232,232,232)",
            "gridwidth": 2,
            "linecolor": "rgb(36,36,36)",
            "showbackground": true,
            "showgrid": false,
            "showline": true,
            "ticks": "outside",
            "zeroline": false,
            "zerolinecolor": "rgb(36,36,36)"
           }
          },
          "shapedefaults": {
           "fillcolor": "black",
           "line": {
            "width": 0
           },
           "opacity": 0.3
          },
          "ternary": {
           "aaxis": {
            "gridcolor": "rgb(232,232,232)",
            "linecolor": "rgb(36,36,36)",
            "showgrid": false,
            "showline": true,
            "ticks": "outside"
           },
           "baxis": {
            "gridcolor": "rgb(232,232,232)",
            "linecolor": "rgb(36,36,36)",
            "showgrid": false,
            "showline": true,
            "ticks": "outside"
           },
           "bgcolor": "white",
           "caxis": {
            "gridcolor": "rgb(232,232,232)",
            "linecolor": "rgb(36,36,36)",
            "showgrid": false,
            "showline": true,
            "ticks": "outside"
           }
          },
          "title": {
           "x": 0.05
          },
          "xaxis": {
           "automargin": true,
           "gridcolor": "rgb(232,232,232)",
           "linecolor": "rgb(36,36,36)",
           "showgrid": false,
           "showline": true,
           "ticks": "outside",
           "title": {
            "standoff": 15
           },
           "zeroline": false,
           "zerolinecolor": "rgb(36,36,36)"
          },
          "yaxis": {
           "automargin": true,
           "gridcolor": "rgb(232,232,232)",
           "linecolor": "rgb(36,36,36)",
           "showgrid": false,
           "showline": true,
           "ticks": "outside",
           "title": {
            "standoff": 15
           },
           "zeroline": false,
           "zerolinecolor": "rgb(36,36,36)"
          }
         }
        },
        "title": {
         "text": "Percentage of Medicine Papers With AI <B>Greatly Varies</B> Between Subfields"
        },
        "width": 800,
        "xaxis": {
         "anchor": "y",
         "domain": [
          0,
          1
         ],
         "matches": "x2",
         "range": [
          0,
          5
         ],
         "showticklabels": false
        },
        "xaxis2": {
         "anchor": "y2",
         "domain": [
          0,
          1
         ],
         "range": [
          0,
          6
         ],
         "title": {
          "text": "Percentage of Papers with AI"
         }
        },
        "yaxis": {
         "anchor": "x",
         "domain": [
          0.575,
          1
         ],
         "ticktext": [
          "<span style=\"opacity:0.5\">Anatomy</span>",
          "<span style=\"opacity:0.5\">Endocrinology, Diabetes and Metabolism</span>",
          "<span style=\"opacity:0.5\">Complementary and alternative medicine</span>",
          "<span style=\"opacity:0.5\">Psychiatry and Mental health</span>",
          "<span style=\"opacity:0.5\">Epidemiology</span>",
          "<span style=\"opacity:0.5\">Neurology</span>",
          "<span style=\"opacity:0.5\">Oncology</span>",
          "<span style=\"opacity:0.5\">Otorhinolaryngology</span>",
          "<span style=\"opacity:0.5\">Ophthalmology</span>",
          "<span style=\"opacity:0.5\">Family Practice</span>",
          "Radiology, Nuclear Medicine and Imaging"
         ],
         "tickvals": [
          "Anatomy",
          "Endocrinology, Diabetes and Metabolism",
          "Complementary and alternative medicine",
          "Psychiatry and Mental health",
          "Epidemiology",
          "Neurology",
          "Oncology",
          "Otorhinolaryngology",
          "Ophthalmology",
          "Family Practice",
          "Radiology, Nuclear Medicine and Imaging"
         ]
        },
        "yaxis2": {
         "anchor": "x2",
         "domain": [
          0,
          0.425
         ],
         "ticktext": [
          "Pharmacology",
          "<span style=\"opacity:0.5\">Immunology and Allergy</span>",
          "<span style=\"opacity:0.5\">Internal Medicine</span>",
          "<span style=\"opacity:0.5\">Biochemistry</span>",
          "<span style=\"opacity:0.5\">Urology</span>",
          "<span style=\"opacity:0.5\">Microbiology</span>",
          "<span style=\"opacity:0.5\">Anesthesiology and Pain Medicine</span>",
          "<span style=\"opacity:0.5\">Transplantation</span>",
          "<span style=\"opacity:0.5\">Obstetrics and Gynecology</span>",
          "<span style=\"opacity:0.5\">Rheumatology</span>",
          "Genetics"
         ],
         "tickvals": [
          "Pharmacology",
          "Immunology and Allergy",
          "Internal Medicine",
          "Biochemistry",
          "Urology",
          "Microbiology",
          "Anesthesiology and Pain Medicine",
          "Transplantation",
          "Obstetrics and Gynecology",
          "Rheumatology",
          "Genetics"
         ]
        }
       }
      }
     },
     "metadata": {},
     "output_type": "display_data"
    }
   ],
   "source": [
    "fig = make_subplots(rows=2, cols=1, shared_xaxes=True)\n",
    "\n",
    "opacities_top = [0.5] * 10 + [1.0]\n",
    "opacities_bottom = [1.0] + [0.5] * 9 + [1.0]\n",
    "fig.add_trace(\n",
    "    go.Bar(\n",
    "        x=df_group_top[\"AI_percentage\"],\n",
    "        y=df_group_top[\"subfields\"],\n",
    "        orientation=\"h\",\n",
    "        name=\"Top 10\",\n",
    "        marker=dict(color=top_color, opacity=opacities_top),\n",
    "    ),\n",
    "    row=1,\n",
    "    col=1,\n",
    ")\n",
    "fig.add_trace(\n",
    "    go.Bar(\n",
    "        x=df_group_bottom[\"AI_percentage\"],\n",
    "        y=df_group_bottom[\"subfields\"],\n",
    "        orientation=\"h\",\n",
    "        name=\"Bottom 10\",\n",
    "        marker=dict(color=bottom_color, opacity=opacities_bottom),\n",
    "    ),\n",
    "    row=2,\n",
    "    col=1,\n",
    ")\n",
    "\n",
    "# Define y-axis labels with some transparency\n",
    "y_labels_top = df_group_top[\"subfields\"].tolist()\n",
    "y_labels_bottom = df_group_bottom[\"subfields\"].tolist()\n",
    "\n",
    "# Make some labels slightly transparent by wrapping them in HTML with CSS\n",
    "transparent_labels_top = [\n",
    "    f'<span style=\"opacity:0.5\">{label}</span>' if condition else label\n",
    "    for label, condition in zip(y_labels_top, [True, True, True, True, True, True, True, True, True, True, False])\n",
    "]\n",
    "transparent_labels_bottom = [\n",
    "    f'<span style=\"opacity:0.5\">{label}</span>' if condition else label\n",
    "    for label, condition in zip(y_labels_bottom, [False, True, True, True, True, True, True, True, True, True, False])\n",
    "]\n",
    "\n",
    "fig.update_yaxes(tickvals=df_group_top[\"subfields\"], ticktext=transparent_labels_top, row=1, col=1)\n",
    "fig.update_yaxes(tickvals=df_group_bottom[\"subfields\"], ticktext=transparent_labels_bottom, row=2, col=1)\n",
    "\n",
    "# define brackets for the top and bottom graph\n",
    "shapes = [\n",
    "    dict(\n",
    "        type=\"line\", x0=1.02, y0=1.0, x1=1.02, y1=0.55, xref=\"paper\", yref=\"paper\", line=dict(color=top_color, width=2)\n",
    "    ),\n",
    "    dict(\n",
    "        type=\"line\", x0=1.02, y0=1.0, x1=1.00, y1=1.0, xref=\"paper\", yref=\"paper\", line=dict(color=top_color, width=2)\n",
    "    ),\n",
    "    dict(\n",
    "        type=\"line\", x0=1.02, y0=0.55, x1=1.00, y1=0.55, xref=\"paper\", yref=\"paper\", line=dict(color=top_color, width=2)\n",
    "    ),\n",
    "    # bottom plot\n",
    "    dict(\n",
    "        type=\"line\",\n",
    "        x0=1.02,\n",
    "        y0=-0.015,\n",
    "        x1=1.02,\n",
    "        y1=0.45,\n",
    "        xref=\"paper\",\n",
    "        yref=\"paper\",\n",
    "        line=dict(color=bottom_color, width=2),\n",
    "    ),\n",
    "    dict(\n",
    "        type=\"line\",\n",
    "        x0=1.02,\n",
    "        y0=0.45,\n",
    "        x1=1.00,\n",
    "        y1=0.45,\n",
    "        xref=\"paper\",\n",
    "        yref=\"paper\",\n",
    "        line=dict(color=bottom_color, width=2),\n",
    "    ),\n",
    "    dict(\n",
    "        type=\"line\",\n",
    "        x0=1.02,\n",
    "        y0=-0.015,\n",
    "        x1=1.00,\n",
    "        y1=-0.015,\n",
    "        xref=\"paper\",\n",
    "        yref=\"paper\",\n",
    "        line=dict(color=bottom_color, width=2),\n",
    "    ),\n",
    "]\n",
    "\n",
    "# define all the annotations\n",
    "annotations = [\n",
    "    dict(\n",
    "        x=df_group_bottom.loc[df_group_bottom[\"subfields\"] == \"Pharmacology\", \"AI_percentage\"].values[0],\n",
    "        y=\"Pharmacology\",\n",
    "        text=f'{df_group_bottom.loc[df_group_bottom[\"subfields\"] == \"Pharmacology\", \"AI_percentage\"].values[0]:.4f}%',\n",
    "        xref=\"x2\",\n",
    "        yref=\"y2\",\n",
    "        showarrow=False,\n",
    "        xanchor=\"left\",\n",
    "        font=dict(size=12, weight=\"bold\", color=bottom_color),\n",
    "    ),\n",
    "    dict(\n",
    "        x=df_group_bottom.loc[df_group_bottom[\"subfields\"] == \"Genetics\", \"AI_percentage\"].values[0],\n",
    "        y=\"Genetics\",\n",
    "        text=f'{df_group_bottom.loc[df_group_bottom[\"subfields\"] == \"Genetics\", \"AI_percentage\"].values[0]:.2f}%',\n",
    "        xref=\"x2\",\n",
    "        yref=\"y2\",\n",
    "        xanchor=\"left\",\n",
    "        showarrow=False,\n",
    "        font=dict(size=12, weight=\"bold\", color=bottom_color),\n",
    "    ),\n",
    "    dict(\n",
    "        x=df_group_top[df_group_top[\"subfields\"] == \"Radiology, Nuclear Medicine and Imaging\"][\"AI_percentage\"].values[\n",
    "            0\n",
    "        ]\n",
    "        - 0.5,\n",
    "        y=\"Radiology, Nuclear Medicine and Imaging\",\n",
    "        text=f'{df_group_top[df_group_top[\"subfields\"] == \"Radiology, Nuclear Medicine and Imaging\"][\"AI_percentage\"].values[0]:.2f}%',\n",
    "        xref=\"x1\",\n",
    "        yref=\"y1\",\n",
    "        ax=0,\n",
    "        ay=0,\n",
    "        # showarrow=False,\n",
    "        font=dict(size=12, weight=\"bold\", color=\"white\"),\n",
    "    ),\n",
    "    dict(\n",
    "        x=1.05,\n",
    "        y=0.78,\n",
    "        xref=\"paper\",\n",
    "        yref=\"paper\",\n",
    "        text=\"<b>largest</b> proportion\",\n",
    "        xanchor=\"left\",\n",
    "        showarrow=False,\n",
    "        font=dict(size=12, color=top_color),\n",
    "    ),\n",
    "    dict(\n",
    "        x=1.05,\n",
    "        y=0.23,\n",
    "        xanchor=\"left\",\n",
    "        xref=\"paper\",\n",
    "        yref=\"paper\",\n",
    "        text=\"<b>smallest</b> proportion\",\n",
    "        showarrow=False,\n",
    "        font=dict(size=12, color=bottom_color),\n",
    "    ),\n",
    "    dict(\n",
    "        xref=\"paper\",\n",
    "        yref=\"paper\",\n",
    "        x=1.0,\n",
    "        y=0.1,\n",
    "        text=f'The percentage of papers with AI in each<br>subfield of medicine <b>varies greatly between subfields</b>.<br>The <b><span style=\"color: {top_color};\">top</span></b> graph shows the <b>11</b> subfields with the<br><b><span style=\"color: {top_color};\">highest proportion</span></b>, while the <b><span style=\"color: {bottom_color};\">bottom</span></b> graph shows<br>the <b>11</b> subfields with the <b><span style=\"color: {bottom_color};\">lowest proportion</span></b>.',\n",
    "        ax=0,\n",
    "        ay=0,\n",
    "        xanchor=\"right\",\n",
    "        align=\"left\",\n",
    "        font=dict(size=9),\n",
    "    ),\n",
    "]\n",
    "\n",
    "fig.update_layout(\n",
    "    width=800,\n",
    "    height=800,\n",
    "    xaxis=dict(range=[0, 5]),\n",
    "    xaxis2=dict(title=\"Percentage of Papers with AI\", range=[0, 6]),\n",
    "    title_text=\"Percentage of Medicine Papers With AI <B>Greatly Varies</B> Between Subfields\",\n",
    "    annotations=annotations,\n",
    "    shapes=shapes,\n",
    ")\n",
    "fig.update_layout(template=\"simple_white\", showlegend=False, margin=dict(r=150))\n",
    "fig.write_image(\"subfields_plot.png\", scale=10)\n",
    "fig.write_image(\"subfields_plot.svg\", scale=10)\n",
    "fig.show()"
   ]
  },
  {
   "cell_type": "markdown",
   "metadata": {},
   "source": [
    "The largest and smallest subfields are clearly separated by space and color. The main takeaway is stated in the title and the main content is explained in the caption, both of which use bold text to emphasize important aspects. Grid lines and background is removed to avoid clutter. \n",
    "Annotations and highlighting are used for the relevant topics mentioned in the main text of the article."
   ]
  },
  {
   "cell_type": "code",
   "execution_count": 18,
   "metadata": {},
   "outputs": [
    {
     "data": {
      "text/html": [
       "<div>\n",
       "<style scoped>\n",
       "    .dataframe tbody tr th:only-of-type {\n",
       "        vertical-align: middle;\n",
       "    }\n",
       "\n",
       "    .dataframe tbody tr th {\n",
       "        vertical-align: top;\n",
       "    }\n",
       "\n",
       "    .dataframe thead th {\n",
       "        text-align: right;\n",
       "    }\n",
       "</style>\n",
       "<table border=\"1\" class=\"dataframe\">\n",
       "  <thead>\n",
       "    <tr style=\"text-align: right;\">\n",
       "      <th></th>\n",
       "      <th>subfields</th>\n",
       "      <th>year</th>\n",
       "      <th>topics</th>\n",
       "      <th>doi</th>\n",
       "      <th>publication_date</th>\n",
       "    </tr>\n",
       "  </thead>\n",
       "  <tbody>\n",
       "    <tr>\n",
       "      <th>0</th>\n",
       "      <td>Anatomy</td>\n",
       "      <td>2019</td>\n",
       "      <td>80</td>\n",
       "      <td>80</td>\n",
       "      <td>80</td>\n",
       "    </tr>\n",
       "    <tr>\n",
       "      <th>1</th>\n",
       "      <td>Anatomy</td>\n",
       "      <td>2020</td>\n",
       "      <td>82</td>\n",
       "      <td>82</td>\n",
       "      <td>82</td>\n",
       "    </tr>\n",
       "    <tr>\n",
       "      <th>2</th>\n",
       "      <td>Anatomy</td>\n",
       "      <td>2021</td>\n",
       "      <td>79</td>\n",
       "      <td>79</td>\n",
       "      <td>79</td>\n",
       "    </tr>\n",
       "    <tr>\n",
       "      <th>3</th>\n",
       "      <td>Anatomy</td>\n",
       "      <td>2022</td>\n",
       "      <td>57</td>\n",
       "      <td>57</td>\n",
       "      <td>57</td>\n",
       "    </tr>\n",
       "    <tr>\n",
       "      <th>4</th>\n",
       "      <td>Anatomy</td>\n",
       "      <td>2023</td>\n",
       "      <td>125</td>\n",
       "      <td>125</td>\n",
       "      <td>125</td>\n",
       "    </tr>\n",
       "    <tr>\n",
       "      <th>5</th>\n",
       "      <td>Anesthesiology and Pain Medicine</td>\n",
       "      <td>2019</td>\n",
       "      <td>3153</td>\n",
       "      <td>3153</td>\n",
       "      <td>3153</td>\n",
       "    </tr>\n",
       "    <tr>\n",
       "      <th>6</th>\n",
       "      <td>Anesthesiology and Pain Medicine</td>\n",
       "      <td>2020</td>\n",
       "      <td>2788</td>\n",
       "      <td>2788</td>\n",
       "      <td>2788</td>\n",
       "    </tr>\n",
       "    <tr>\n",
       "      <th>7</th>\n",
       "      <td>Anesthesiology and Pain Medicine</td>\n",
       "      <td>2021</td>\n",
       "      <td>2017</td>\n",
       "      <td>2017</td>\n",
       "      <td>2017</td>\n",
       "    </tr>\n",
       "    <tr>\n",
       "      <th>8</th>\n",
       "      <td>Anesthesiology and Pain Medicine</td>\n",
       "      <td>2022</td>\n",
       "      <td>1983</td>\n",
       "      <td>1983</td>\n",
       "      <td>1983</td>\n",
       "    </tr>\n",
       "    <tr>\n",
       "      <th>9</th>\n",
       "      <td>Anesthesiology and Pain Medicine</td>\n",
       "      <td>2023</td>\n",
       "      <td>2135</td>\n",
       "      <td>2135</td>\n",
       "      <td>2135</td>\n",
       "    </tr>\n",
       "  </tbody>\n",
       "</table>\n",
       "</div>"
      ],
      "text/plain": [
       "                          subfields  year  topics   doi  publication_date\n",
       "0                           Anatomy  2019      80    80                80\n",
       "1                           Anatomy  2020      82    82                82\n",
       "2                           Anatomy  2021      79    79                79\n",
       "3                           Anatomy  2022      57    57                57\n",
       "4                           Anatomy  2023     125   125               125\n",
       "5  Anesthesiology and Pain Medicine  2019    3153  3153              3153\n",
       "6  Anesthesiology and Pain Medicine  2020    2788  2788              2788\n",
       "7  Anesthesiology and Pain Medicine  2021    2017  2017              2017\n",
       "8  Anesthesiology and Pain Medicine  2022    1983  1983              1983\n",
       "9  Anesthesiology and Pain Medicine  2023    2135  2135              2135"
      ]
     },
     "execution_count": 18,
     "metadata": {},
     "output_type": "execute_result"
    }
   ],
   "source": [
    "df_all_medicine[\"year\"] = [x[:4] for x in df_all_medicine[\"publication_date\"]]\n",
    "subfields_total = (\n",
    "    df_all_medicine[df_all_medicine[\"year\"] != \"2024\"].groupby([\"subfields\", \"year\"]).count().reset_index()\n",
    ")\n",
    "subfields_total.head(10)"
   ]
  },
  {
   "cell_type": "markdown",
   "metadata": {},
   "source": [
    "### Plot 4"
   ]
  },
  {
   "cell_type": "code",
   "execution_count": 20,
   "metadata": {},
   "outputs": [
    {
     "data": {
      "text/html": [
       "<div>\n",
       "<style scoped>\n",
       "    .dataframe tbody tr th:only-of-type {\n",
       "        vertical-align: middle;\n",
       "    }\n",
       "\n",
       "    .dataframe tbody tr th {\n",
       "        vertical-align: top;\n",
       "    }\n",
       "\n",
       "    .dataframe thead th {\n",
       "        text-align: right;\n",
       "    }\n",
       "</style>\n",
       "<table border=\"1\" class=\"dataframe\">\n",
       "  <thead>\n",
       "    <tr style=\"text-align: right;\">\n",
       "      <th></th>\n",
       "      <th>title</th>\n",
       "      <th>doi</th>\n",
       "      <th>publication_date</th>\n",
       "      <th>citations</th>\n",
       "      <th>topics</th>\n",
       "    </tr>\n",
       "  </thead>\n",
       "  <tbody>\n",
       "    <tr>\n",
       "      <th>0</th>\n",
       "      <td>Can AI Help Reduce Disparities in General Medi...</td>\n",
       "      <td>https://doi.org/10.1001/amajethics.2019.167</td>\n",
       "      <td>2019-02-01</td>\n",
       "      <td>268</td>\n",
       "      <td>Deep Learning Applications in Healthcare</td>\n",
       "    </tr>\n",
       "    <tr>\n",
       "      <th>1</th>\n",
       "      <td>Can AI Help Reduce Disparities in General Medi...</td>\n",
       "      <td>https://doi.org/10.1001/amajethics.2019.167</td>\n",
       "      <td>2019-02-01</td>\n",
       "      <td>268</td>\n",
       "      <td>Strategies to Reduce Low-Value Health Care Ser...</td>\n",
       "    </tr>\n",
       "    <tr>\n",
       "      <th>2</th>\n",
       "      <td>Can AI Help Reduce Disparities in General Medi...</td>\n",
       "      <td>https://doi.org/10.1001/amajethics.2019.167</td>\n",
       "      <td>2019-02-01</td>\n",
       "      <td>268</td>\n",
       "      <td>Epidemiology and Implications of Multimorbidit...</td>\n",
       "    </tr>\n",
       "    <tr>\n",
       "      <th>3</th>\n",
       "      <td>What Are Important Ethical Implications of Usi...</td>\n",
       "      <td>https://doi.org/10.1001/amajethics.2019.180</td>\n",
       "      <td>2019-02-01</td>\n",
       "      <td>56</td>\n",
       "      <td>Artificial Intelligence in Medicine</td>\n",
       "    </tr>\n",
       "    <tr>\n",
       "      <th>4</th>\n",
       "      <td>What Are Important Ethical Implications of Usi...</td>\n",
       "      <td>https://doi.org/10.1001/amajethics.2019.180</td>\n",
       "      <td>2019-02-01</td>\n",
       "      <td>56</td>\n",
       "      <td>Ethical Considerations in Medical Research Par...</td>\n",
       "    </tr>\n",
       "  </tbody>\n",
       "</table>\n",
       "</div>"
      ],
      "text/plain": [
       "                                               title  \\\n",
       "0  Can AI Help Reduce Disparities in General Medi...   \n",
       "1  Can AI Help Reduce Disparities in General Medi...   \n",
       "2  Can AI Help Reduce Disparities in General Medi...   \n",
       "3  What Are Important Ethical Implications of Usi...   \n",
       "4  What Are Important Ethical Implications of Usi...   \n",
       "\n",
       "                                           doi publication_date  citations  \\\n",
       "0  https://doi.org/10.1001/amajethics.2019.167       2019-02-01        268   \n",
       "1  https://doi.org/10.1001/amajethics.2019.167       2019-02-01        268   \n",
       "2  https://doi.org/10.1001/amajethics.2019.167       2019-02-01        268   \n",
       "3  https://doi.org/10.1001/amajethics.2019.180       2019-02-01         56   \n",
       "4  https://doi.org/10.1001/amajethics.2019.180       2019-02-01         56   \n",
       "\n",
       "                                              topics  \n",
       "0           Deep Learning Applications in Healthcare  \n",
       "1  Strategies to Reduce Low-Value Health Care Ser...  \n",
       "2  Epidemiology and Implications of Multimorbidit...  \n",
       "3                Artificial Intelligence in Medicine  \n",
       "4  Ethical Considerations in Medical Research Par...  "
      ]
     },
     "execution_count": 20,
     "metadata": {},
     "output_type": "execute_result"
    }
   ],
   "source": [
    "query = f\"\"\"\n",
    "    SELECT title, main.doi, publication_date, citations, topics\n",
    "    FROM main\n",
    "    LEFT JOIN topics\n",
    "        ON main.doi = topics.doi\n",
    "    WHERE main.doi IN {dios_med_ai};\n",
    "    \"\"\"\n",
    "\n",
    "main_medicine_ai = pd.read_sql_query(query, conn)\n",
    "main_medicine_ai.head()"
   ]
  },
  {
   "cell_type": "code",
   "execution_count": 21,
   "metadata": {},
   "outputs": [],
   "source": [
    "topics = []\n",
    "# transform the topics into more general topics\n",
    "for topic, title in zip(main_medicine_ai[\"topics\"], main_medicine_ai[\"title\"]):\n",
    "    if \"Language\" in topic:\n",
    "        topics.append(\"NLP and LLM\")\n",
    "    elif \"language\" in topic:\n",
    "        topics.append(\"NLP and LLM\")\n",
    "    # LLMs are not used as a topic which is why the title is checked (for all the relevant papers GPT is used in the context of LLMs)\n",
    "    elif \"GPT\" in title:\n",
    "        topics.append(\"NLP and LLM\")\n",
    "    elif \"Images\" in topic:\n",
    "        topics.append(\"Computer Vision\")\n",
    "    elif \"Image\" in topic:\n",
    "        topics.append(\"Computer Vision\")\n",
    "    elif \"Imaging\" in topic:\n",
    "        topics.append(\"Computer Vision\")\n",
    "\n",
    "    elif \"Explainable\" in topic:\n",
    "        topics.append(\"Explainable\")\n",
    "    else:\n",
    "        topics.append(\"Rest\")\n",
    "\n",
    "main_medicine_ai_edit = main_medicine_ai.copy()\n",
    "main_medicine_ai_edit[\"topics\"] = topics\n",
    "\n",
    "main_medicine_ai_edit = (\n",
    "    main_medicine_ai_edit.drop_duplicates().sort_values(\"topics\").groupby(\"doi\").first().reset_index()\n",
    ")"
   ]
  },
  {
   "cell_type": "markdown",
   "metadata": {},
   "source": [
    "Sorting and selecting the first ensures that the 'Rest' group is only used when none of the other topics are used in a paper. "
   ]
  },
  {
   "cell_type": "code",
   "execution_count": 37,
   "metadata": {},
   "outputs": [
    {
     "data": {
      "application/vnd.plotly.v1+json": {
       "config": {
        "plotlyServerURL": "https://plot.ly"
       },
       "data": [
        {
         "customdata": [
          [
           "Stop explaining black box machine learning models for high stakes decisions and use interpretable models instead"
          ],
          [
           "Explainable Artificial Intelligence (XAI): Concepts, taxonomies, opportunities and challenges toward responsible AI"
          ],
          [
           "A Survey on Explainable Artificial Intelligence (XAI): Toward Medical XAI"
          ],
          [
           "Explainability for artificial intelligence in healthcare: a multidisciplinary perspective"
          ],
          [
           "DARPA's Explainable Artificial Intelligence Program"
          ],
          [
           "Explainable AI: from black box to glass box"
          ],
          [
           "Designing Theory-Driven User-Centric Explainable AI"
          ],
          [
           "The effects of explainability and causability on perception, trust, and acceptance: Implications for explainable AI"
          ],
          [
           "Bias in data‐driven artificial intelligence systems—An introductory survey"
          ]
         ],
         "hovertemplate": "topics=Explainable<br>publication_date=%{x}<br>citations=%{y}<br>title=%{customdata[0]}<extra></extra>",
         "legendgroup": "Explainable",
         "marker": {
          "color": "#409FFF",
          "symbol": "circle"
         },
         "mode": "markers",
         "name": "Explainable",
         "orientation": "v",
         "showlegend": true,
         "type": "scatter",
         "x": [
          "2019-05-13",
          "2019-12-26",
          "2020-10-21",
          "2020-11-30",
          "2019-06-01",
          "2019-12-17",
          "2019-04-29",
          "2020-10-16",
          "2020-02-03"
         ],
         "xaxis": "x",
         "y": [
          5084,
          5054,
          1234,
          839,
          738,
          687,
          587,
          564,
          545
         ],
         "yaxis": "y"
        },
        {
         "customdata": [
          [
           "Review of deep learning: concepts, CNN architectures, challenges, applications, future directions"
          ],
          [
           "Distance-IoU Loss: Faster and Better Learning for Bounding Box Regression"
          ],
          [
           "The Image Biomarker Standardization Initiative: Standardized Quantitative Radiomics for High-Throughput Image-based Phenotyping"
          ],
          [
           "UNet++: Redesigning Skip Connections to Exploit Multiscale Features in Image Segmentation"
          ],
          [
           "Automated detection of COVID-19 cases using deep neural networks with X-ray images"
          ],
          [
           "Covid-19: automatic detection from X-ray images utilizing transfer learning with convolutional neural networks"
          ],
          [
           "International evaluation of an AI system for breast cancer screening"
          ],
          [
           "CheXpert: A Large Chest Radiograph Dataset with Uncertainty Labels and Expert Comparison"
          ],
          [
           "Can AI Help in Screening Viral and COVID-19 Pneumonia?"
          ],
          [
           "MultiResUNet : Rethinking the U-Net architecture for multimodal biomedical image segmentation"
          ],
          [
           "UNet 3+: A Full-Scale Connected UNet for Medical Image Segmentation"
          ],
          [
           "Coronavirus Pandemic (COVID-19)"
          ],
          [
           "NAS-FPN: Learning Scalable Feature Pyramid Architecture for Object Detection"
          ],
          [
           "Attention gated networks: Learning to leverage salient regions in medical images"
          ],
          [
           "Digital technology and COVID-19"
          ],
          [
           "Automatic detection of coronavirus disease (COVID-19) using X-ray images and deep convolutional neural networks"
          ],
          [
           "UNETR: Transformers for 3D Medical Image Segmentation"
          ],
          [
           "CoroNet: A deep neural network for detection and diagnosis of COVID-19 from chest x-ray images"
          ],
          [
           "Object detection in optical remote sensing images: A survey and a new benchmark"
          ],
          [
           "Do Better ImageNet Models Transfer Better?"
          ],
          [
           "Scaled-YOLOv4: Scaling Cross Stage Partial Network"
          ],
          [
           "Inf-Net: Automatic COVID-19 Lung Infection Segmentation From CT Images"
          ],
          [
           "Dataset of breast ultrasound images"
          ],
          [
           "Data-efficient and weakly supervised computational pathology on whole-slide images"
          ],
          [
           "Machine learning in medicine: a practical introduction"
          ],
          [
           "Classification of COVID-19 in chest X-ray images using DeTraC deep convolutional neural network"
          ],
          [
           "Deep convolutional neural network based medical image classification for disease diagnosis"
          ],
          [
           "Hover-Net: Simultaneous segmentation and classification of nuclei in multi-tissue histology images"
          ],
          [
           "A Survey of Deep Learning and Its Applications: A New Paradigm to Machine Learning"
          ],
          [
           "Learning a Unified Classifier Incrementally via Rebalancing"
          ],
          [
           "COVID-19 Image Data Collection: Prospective Predictions are the Future"
          ],
          [
           "Exploring the effect of image enhancement techniques on COVID-19 detection using chest X-ray images"
          ],
          [
           "Deep Learning to Improve Breast Cancer Detection on Screening Mammography"
          ],
          [
           "Deep Learning Enables Accurate Diagnosis of Novel Coronavirus (COVID-19) With CT Images"
          ],
          [
           "Predicting survival from colorectal cancer histology slides using deep learning: A retrospective multicenter study"
          ],
          [
           "Secure, privacy-preserving and federated machine learning in medical imaging"
          ],
          [
           "COVIDiagnosis-Net: Deep Bayes-SqueezeNet based diagnosis of the coronavirus disease 2019 (COVID-19) from X-ray images"
          ],
          [
           "ResUNet++: An Advanced Architecture for Medical Image Segmentation"
          ],
          [
           "M2Det: A Single-Shot Object Detector Based on Multi-Level Feature Pyramid Network"
          ],
          [
           "Federated learning in medicine: facilitating multi-institutional collaborations without sharing patient data"
          ],
          [
           "Improved Knowledge Distillation via Teacher Assistant"
          ],
          [
           "A Deep Learning System to Screen Novel Coronavirus Disease 2019 Pneumonia"
          ],
          [
           "DUNet: A deformable network for retinal vessel segmentation"
          ],
          [
           "CovidGAN: Data Augmentation Using Auxiliary Classifier GAN for Improved Covid-19 Detection"
          ],
          [
           "BBN: Bilateral-Branch Network With Cumulative Learning for Long-Tailed Visual Recognition"
          ],
          [
           "Real-time automatic detection system increases colonoscopic polyp and adenoma detection rates: a prospective randomised controlled study"
          ],
          [
           "VoxelMorph: A Learning Framework for Deformable Medical Image Registration"
          ],
          [
           "Deep learning approaches for COVID-19 detection based on chest X-ray images"
          ],
          [
           "A Novel Focal Tversky Loss Function With Improved Attention U-Net for Lesion Segmentation"
          ],
          [
           "Few-Shot Object Detection via Feature Reweighting"
          ],
          [
           "Classification of COVID-19 patients from chest CT images using multi-objective differential evolution–based convolutional neural networks"
          ],
          [
           "A Weakly-Supervised Framework for COVID-19 Classification and Lesion Localization From Chest CT"
          ],
          [
           "The Liver Tumor Segmentation Benchmark (LiTS)"
          ],
          [
           "Recurrent residual U-Net for medical image segmentation"
          ],
          [
           "Study on artificial intelligence: The state of the art and future prospects"
          ],
          [
           "CE-Net: Context Encoder Network for 2D Medical Image Segmentation"
          ],
          [
           "A Novel Transfer Learning Based Approach for Pneumonia Detection in Chest X-ray Images"
          ],
          [
           "Application of deep learning for fast detection of COVID-19 in X-Rays using nCOVnet"
          ],
          [
           "The Medical Segmentation Decathlon"
          ],
          [
           "On instabilities of deep learning in image reconstruction and the potential costs of AI"
          ],
          [
           "Explainable Deep Learning for Pulmonary Disease and Coronavirus COVID-19 Detection from X-rays"
          ],
          [
           "The impact of artificial intelligence in medicine on the future role of the physician"
          ],
          [
           "Accurate 3D Face Reconstruction With Weakly-Supervised Learning: From Single Image to Image Set"
          ],
          [
           "COVID-19 detection using deep learning models to exploit Social Mimic Optimization and structured chest X-ray images using fuzzy color and stacking approaches"
          ],
          [
           "Estimation of COVID-19 prevalence in Italy, Spain, and France"
          ],
          [
           "Pseudo-Labeling and Confirmation Bias in Deep Semi-Supervised Learning"
          ],
          [
           "Swarm Learning for decentralized and confidential clinical machine learning"
          ],
          [
           "A combined deep CNN-LSTM network for the detection of novel coronavirus (COVID-19) using X-ray images"
          ]
         ],
         "hovertemplate": "topics=Computer Vision<br>publication_date=%{x}<br>citations=%{y}<br>title=%{customdata[0]}<extra></extra>",
         "legendgroup": "Computer Vision",
         "marker": {
          "color": "#9940FF",
          "symbol": "diamond"
         },
         "mode": "markers",
         "name": "Computer Vision",
         "orientation": "v",
         "showlegend": true,
         "type": "scatter",
         "x": [
          "2021-03-31",
          "2020-04-03",
          "2020-03-10",
          "2019-12-13",
          "2020-04-28",
          "2020-04-03",
          "2020-01-01",
          "2019-07-17",
          "2020-01-01",
          "2019-09-04",
          "2020-04-09",
          "2021-04-01",
          "2019-06-01",
          "2019-02-05",
          "2020-03-27",
          "2021-05-09",
          "2022-01-01",
          "2020-06-05",
          "2019-12-05",
          "2019-06-01",
          "2021-06-01",
          "2020-05-22",
          "2019-11-21",
          "2021-03-01",
          "2019-03-19",
          "2020-09-05",
          "2019-12-01",
          "2019-09-18",
          "2019-06-01",
          "2019-06-01",
          "2020-12-15",
          "2021-03-11",
          "2019-08-29",
          "2021-03-11",
          "2019-01-24",
          "2020-06-08",
          "2020-04-23",
          "2019-12-01",
          "2019-07-17",
          "2020-07-28",
          "2020-04-03",
          "2020-06-27",
          "2019-05-03",
          "2020-01-01",
          "2020-06-01",
          "2019-02-27",
          "2019-02-04",
          "2020-09-28",
          "2019-04-01",
          "2019-10-01",
          "2020-04-27",
          "2020-05-20",
          "2022-11-17",
          "2019-03-27",
          "2021-05-08",
          "2019-03-07",
          "2020-01-12",
          "2020-05-27",
          "2022-07-15",
          "2020-05-11",
          "2020-06-21",
          "2019-10-04",
          "2019-06-01",
          "2020-05-06",
          "2020-04-22",
          "2020-07-01",
          "2021-05-26",
          "2020-01-01"
         ],
         "xaxis": "x",
         "y": [
          3894,
          2593,
          2496,
          2425,
          2408,
          2206,
          2048,
          1577,
          1568,
          1539,
          1529,
          1459,
          1402,
          1341,
          1324,
          1219,
          1205,
          1186,
          1177,
          1049,
          1020,
          977,
          941,
          904,
          877,
          815,
          801,
          796,
          790,
          786,
          784,
          782,
          781,
          761,
          724,
          721,
          718,
          716,
          715,
          703,
          697,
          671,
          670,
          667,
          653,
          640,
          634,
          629,
          616,
          615,
          608,
          604,
          600,
          595,
          595,
          590,
          586,
          578,
          562,
          559,
          551,
          549,
          549,
          548,
          543,
          536,
          535,
          532
         ],
         "yaxis": "y"
        },
        {
         "customdata": [
          [
           "The potential for artificial intelligence in healthcare"
          ],
          [
           "Systematic review of research on artificial intelligence applications in higher education – where are the educators?"
          ],
          [
           "Key challenges for delivering clinical impact with artificial intelligence"
          ],
          [
           "The “All of Us” Research Program"
          ],
          [
           "Coronavirus Disease 2019: Tinjauan Literatur Terkini"
          ],
          [
           "f-AnoGAN: Fast unsupervised anomaly detection with generative adversarial networks"
          ],
          [
           "Intelligent Clinical Documentation: Harnessing Generative AI for Patient-Centric Clinical Note Generation"
          ],
          [
           "Derivation, Validation, and Potential Treatment Implications of Novel Clinical Phenotypes for Sepsis"
          ],
          [
           "A clinically applicable approach to continuous prediction of future acute kidney injury"
          ],
          [
           "Adversarial attacks on medical machine learning"
          ],
          [
           "A hybrid deep transfer learning model with machine learning methods for face mask detection in the era of the COVID-19 pandemic"
          ],
          [
           "Skeleton-Based Action Recognition With Shift Graph Convolutional Network"
          ],
          [
           "Learning Memory-Guided Normality for Anomaly Detection"
          ]
         ],
         "hovertemplate": "topics=Rest<br>publication_date=%{x}<br>citations=%{y}<br>title=%{customdata[0]}<extra></extra>",
         "legendgroup": "Rest",
         "marker": {
          "color": "#CBD2FF",
          "symbol": "square"
         },
         "mode": "markers",
         "name": "Rest",
         "orientation": "v",
         "showlegend": true,
         "type": "scatter",
         "x": [
          "2019-06-01",
          "2019-10-28",
          "2019-10-29",
          "2019-08-14",
          "2020-04-01",
          "2019-01-31",
          "2024-05-28",
          "2019-05-19",
          "2019-07-31",
          "2019-03-21",
          "2020-07-28",
          "2020-06-01",
          "2020-06-01"
         ],
         "xaxis": "x",
         "y": [
          2295,
          1656,
          1354,
          1297,
          1167,
          1022,
          968,
          925,
          785,
          759,
          673,
          647,
          598
         ],
         "yaxis": "y"
        },
        {
         "customdata": [
          [
           "Performance of ChatGPT on USMLE: Potential for AI-assisted medical education using large language models"
          ],
          [
           "ChatGPT for good? On opportunities and challenges of large language models for education"
          ],
          [
           "Opinion Paper: “So what if ChatGPT wrote it?” Multidisciplinary perspectives on opportunities, challenges and implications of generative conversational AI for research, practice and policy"
          ],
          [
           "How Does ChatGPT Perform on the United States Medical Licensing Examination (USMLE)? The Implications of Large Language Models for Medical Education and Knowledge Assessment"
          ],
          [
           "ChatGPT: five priorities for research"
          ],
          [
           "Large language models encode clinical knowledge"
          ],
          [
           "ChatGPT: Bullshit spewer or the end of traditional assessments in higher education?"
          ],
          [
           "What if the devil is my guardian angel: ChatGPT as a case study of using chatbots in education"
          ],
          [
           "Chatting about ChatGPT: how may AI and GPT impact academia and libraries?"
          ],
          [
           "ChatGPT listed as author on research papers: many scientists disapprove"
          ]
         ],
         "hovertemplate": "topics=NLP and LLM<br>publication_date=%{x}<br>citations=%{y}<br>title=%{customdata[0]}<extra></extra>",
         "legendgroup": "NLP and LLM",
         "marker": {
          "color": "#5A40FF",
          "symbol": "x"
         },
         "mode": "markers",
         "name": "NLP and LLM",
         "orientation": "v",
         "showlegend": true,
         "type": "scatter",
         "x": [
          "2023-02-09",
          "2023-03-09",
          "2023-03-11",
          "2023-02-08",
          "2023-02-03",
          "2023-07-12",
          "2023-01-25",
          "2023-02-22",
          "2023-02-13",
          "2023-01-18"
         ],
         "xaxis": "x",
         "y": [
          1995,
          1617,
          1614,
          1163,
          1072,
          928,
          884,
          788,
          646,
          596
         ],
         "yaxis": "y"
        }
       ],
       "layout": {
        "annotations": [
         {
          "ax": 0,
          "ay": 0,
          "font": {
           "color": "#409FFF",
           "size": 16,
           "weight": "bold"
          },
          "text": "Explainable AI",
          "x": "2019-09-13",
          "y": 5500
         },
         {
          "ax": 0,
          "ay": 0,
          "font": {
           "color": "#9940FF",
           "size": 16,
           "weight": "bold"
          },
          "text": "Computer Vision",
          "x": "2020-12-15",
          "y": 2500
         },
         {
          "ax": 0,
          "ay": 0,
          "font": {
           "color": "#5A40FF",
           "size": 16,
           "weight": "bold"
          },
          "text": "NLP and LLMs",
          "x": "2023-08-15",
          "y": 2000
         },
         {
          "ax": 0,
          "ay": 0,
          "font": {
           "color": "#CBD2FF",
           "size": 16,
           "weight": "bold"
          },
          "text": "Other",
          "x": "2019-03-15",
          "y": 2500
         },
         {
          "align": "left",
          "ax": 0,
          "ay": 0,
          "text": "The two <b>most cited papers</b> in Medicine with AI since 2019 are<br>related to <b><span style=\"color: #409FFF;\">Explainable AI</span></b>. <b><span style=\"color: #5A40FF;\">Large Language Models</span></b> and NLP<br>seems to be an <b>emerging trend</b>, with papers published<br>in 2023 already having a high number of citations.",
          "x": 1,
          "xanchor": "right",
          "xref": "paper",
          "y": 1,
          "yanchor": "top",
          "yref": "paper"
         }
        ],
        "height": 600,
        "legend": {
         "title": {
          "text": "topics"
         },
         "tracegroupgap": 0
        },
        "margin": {
         "l": 120
        },
        "showlegend": false,
        "template": {
         "data": {
          "bar": [
           {
            "error_x": {
             "color": "rgb(36,36,36)"
            },
            "error_y": {
             "color": "rgb(36,36,36)"
            },
            "marker": {
             "line": {
              "color": "white",
              "width": 0.5
             },
             "pattern": {
              "fillmode": "overlay",
              "size": 10,
              "solidity": 0.2
             }
            },
            "type": "bar"
           }
          ],
          "barpolar": [
           {
            "marker": {
             "line": {
              "color": "white",
              "width": 0.5
             },
             "pattern": {
              "fillmode": "overlay",
              "size": 10,
              "solidity": 0.2
             }
            },
            "type": "barpolar"
           }
          ],
          "carpet": [
           {
            "aaxis": {
             "endlinecolor": "rgb(36,36,36)",
             "gridcolor": "white",
             "linecolor": "white",
             "minorgridcolor": "white",
             "startlinecolor": "rgb(36,36,36)"
            },
            "baxis": {
             "endlinecolor": "rgb(36,36,36)",
             "gridcolor": "white",
             "linecolor": "white",
             "minorgridcolor": "white",
             "startlinecolor": "rgb(36,36,36)"
            },
            "type": "carpet"
           }
          ],
          "choropleth": [
           {
            "colorbar": {
             "outlinewidth": 1,
             "tickcolor": "rgb(36,36,36)",
             "ticks": "outside"
            },
            "type": "choropleth"
           }
          ],
          "contour": [
           {
            "colorbar": {
             "outlinewidth": 1,
             "tickcolor": "rgb(36,36,36)",
             "ticks": "outside"
            },
            "colorscale": [
             [
              0,
              "#440154"
             ],
             [
              0.1111111111111111,
              "#482878"
             ],
             [
              0.2222222222222222,
              "#3e4989"
             ],
             [
              0.3333333333333333,
              "#31688e"
             ],
             [
              0.4444444444444444,
              "#26828e"
             ],
             [
              0.5555555555555556,
              "#1f9e89"
             ],
             [
              0.6666666666666666,
              "#35b779"
             ],
             [
              0.7777777777777778,
              "#6ece58"
             ],
             [
              0.8888888888888888,
              "#b5de2b"
             ],
             [
              1,
              "#fde725"
             ]
            ],
            "type": "contour"
           }
          ],
          "contourcarpet": [
           {
            "colorbar": {
             "outlinewidth": 1,
             "tickcolor": "rgb(36,36,36)",
             "ticks": "outside"
            },
            "type": "contourcarpet"
           }
          ],
          "heatmap": [
           {
            "colorbar": {
             "outlinewidth": 1,
             "tickcolor": "rgb(36,36,36)",
             "ticks": "outside"
            },
            "colorscale": [
             [
              0,
              "#440154"
             ],
             [
              0.1111111111111111,
              "#482878"
             ],
             [
              0.2222222222222222,
              "#3e4989"
             ],
             [
              0.3333333333333333,
              "#31688e"
             ],
             [
              0.4444444444444444,
              "#26828e"
             ],
             [
              0.5555555555555556,
              "#1f9e89"
             ],
             [
              0.6666666666666666,
              "#35b779"
             ],
             [
              0.7777777777777778,
              "#6ece58"
             ],
             [
              0.8888888888888888,
              "#b5de2b"
             ],
             [
              1,
              "#fde725"
             ]
            ],
            "type": "heatmap"
           }
          ],
          "heatmapgl": [
           {
            "colorbar": {
             "outlinewidth": 1,
             "tickcolor": "rgb(36,36,36)",
             "ticks": "outside"
            },
            "colorscale": [
             [
              0,
              "#440154"
             ],
             [
              0.1111111111111111,
              "#482878"
             ],
             [
              0.2222222222222222,
              "#3e4989"
             ],
             [
              0.3333333333333333,
              "#31688e"
             ],
             [
              0.4444444444444444,
              "#26828e"
             ],
             [
              0.5555555555555556,
              "#1f9e89"
             ],
             [
              0.6666666666666666,
              "#35b779"
             ],
             [
              0.7777777777777778,
              "#6ece58"
             ],
             [
              0.8888888888888888,
              "#b5de2b"
             ],
             [
              1,
              "#fde725"
             ]
            ],
            "type": "heatmapgl"
           }
          ],
          "histogram": [
           {
            "marker": {
             "line": {
              "color": "white",
              "width": 0.6
             }
            },
            "type": "histogram"
           }
          ],
          "histogram2d": [
           {
            "colorbar": {
             "outlinewidth": 1,
             "tickcolor": "rgb(36,36,36)",
             "ticks": "outside"
            },
            "colorscale": [
             [
              0,
              "#440154"
             ],
             [
              0.1111111111111111,
              "#482878"
             ],
             [
              0.2222222222222222,
              "#3e4989"
             ],
             [
              0.3333333333333333,
              "#31688e"
             ],
             [
              0.4444444444444444,
              "#26828e"
             ],
             [
              0.5555555555555556,
              "#1f9e89"
             ],
             [
              0.6666666666666666,
              "#35b779"
             ],
             [
              0.7777777777777778,
              "#6ece58"
             ],
             [
              0.8888888888888888,
              "#b5de2b"
             ],
             [
              1,
              "#fde725"
             ]
            ],
            "type": "histogram2d"
           }
          ],
          "histogram2dcontour": [
           {
            "colorbar": {
             "outlinewidth": 1,
             "tickcolor": "rgb(36,36,36)",
             "ticks": "outside"
            },
            "colorscale": [
             [
              0,
              "#440154"
             ],
             [
              0.1111111111111111,
              "#482878"
             ],
             [
              0.2222222222222222,
              "#3e4989"
             ],
             [
              0.3333333333333333,
              "#31688e"
             ],
             [
              0.4444444444444444,
              "#26828e"
             ],
             [
              0.5555555555555556,
              "#1f9e89"
             ],
             [
              0.6666666666666666,
              "#35b779"
             ],
             [
              0.7777777777777778,
              "#6ece58"
             ],
             [
              0.8888888888888888,
              "#b5de2b"
             ],
             [
              1,
              "#fde725"
             ]
            ],
            "type": "histogram2dcontour"
           }
          ],
          "mesh3d": [
           {
            "colorbar": {
             "outlinewidth": 1,
             "tickcolor": "rgb(36,36,36)",
             "ticks": "outside"
            },
            "type": "mesh3d"
           }
          ],
          "parcoords": [
           {
            "line": {
             "colorbar": {
              "outlinewidth": 1,
              "tickcolor": "rgb(36,36,36)",
              "ticks": "outside"
             }
            },
            "type": "parcoords"
           }
          ],
          "pie": [
           {
            "automargin": true,
            "type": "pie"
           }
          ],
          "scatter": [
           {
            "fillpattern": {
             "fillmode": "overlay",
             "size": 10,
             "solidity": 0.2
            },
            "type": "scatter"
           }
          ],
          "scatter3d": [
           {
            "line": {
             "colorbar": {
              "outlinewidth": 1,
              "tickcolor": "rgb(36,36,36)",
              "ticks": "outside"
             }
            },
            "marker": {
             "colorbar": {
              "outlinewidth": 1,
              "tickcolor": "rgb(36,36,36)",
              "ticks": "outside"
             }
            },
            "type": "scatter3d"
           }
          ],
          "scattercarpet": [
           {
            "marker": {
             "colorbar": {
              "outlinewidth": 1,
              "tickcolor": "rgb(36,36,36)",
              "ticks": "outside"
             }
            },
            "type": "scattercarpet"
           }
          ],
          "scattergeo": [
           {
            "marker": {
             "colorbar": {
              "outlinewidth": 1,
              "tickcolor": "rgb(36,36,36)",
              "ticks": "outside"
             }
            },
            "type": "scattergeo"
           }
          ],
          "scattergl": [
           {
            "marker": {
             "colorbar": {
              "outlinewidth": 1,
              "tickcolor": "rgb(36,36,36)",
              "ticks": "outside"
             }
            },
            "type": "scattergl"
           }
          ],
          "scattermapbox": [
           {
            "marker": {
             "colorbar": {
              "outlinewidth": 1,
              "tickcolor": "rgb(36,36,36)",
              "ticks": "outside"
             }
            },
            "type": "scattermapbox"
           }
          ],
          "scatterpolar": [
           {
            "marker": {
             "colorbar": {
              "outlinewidth": 1,
              "tickcolor": "rgb(36,36,36)",
              "ticks": "outside"
             }
            },
            "type": "scatterpolar"
           }
          ],
          "scatterpolargl": [
           {
            "marker": {
             "colorbar": {
              "outlinewidth": 1,
              "tickcolor": "rgb(36,36,36)",
              "ticks": "outside"
             }
            },
            "type": "scatterpolargl"
           }
          ],
          "scatterternary": [
           {
            "marker": {
             "colorbar": {
              "outlinewidth": 1,
              "tickcolor": "rgb(36,36,36)",
              "ticks": "outside"
             }
            },
            "type": "scatterternary"
           }
          ],
          "surface": [
           {
            "colorbar": {
             "outlinewidth": 1,
             "tickcolor": "rgb(36,36,36)",
             "ticks": "outside"
            },
            "colorscale": [
             [
              0,
              "#440154"
             ],
             [
              0.1111111111111111,
              "#482878"
             ],
             [
              0.2222222222222222,
              "#3e4989"
             ],
             [
              0.3333333333333333,
              "#31688e"
             ],
             [
              0.4444444444444444,
              "#26828e"
             ],
             [
              0.5555555555555556,
              "#1f9e89"
             ],
             [
              0.6666666666666666,
              "#35b779"
             ],
             [
              0.7777777777777778,
              "#6ece58"
             ],
             [
              0.8888888888888888,
              "#b5de2b"
             ],
             [
              1,
              "#fde725"
             ]
            ],
            "type": "surface"
           }
          ],
          "table": [
           {
            "cells": {
             "fill": {
              "color": "rgb(237,237,237)"
             },
             "line": {
              "color": "white"
             }
            },
            "header": {
             "fill": {
              "color": "rgb(217,217,217)"
             },
             "line": {
              "color": "white"
             }
            },
            "type": "table"
           }
          ]
         },
         "layout": {
          "annotationdefaults": {
           "arrowhead": 0,
           "arrowwidth": 1
          },
          "autotypenumbers": "strict",
          "coloraxis": {
           "colorbar": {
            "outlinewidth": 1,
            "tickcolor": "rgb(36,36,36)",
            "ticks": "outside"
           }
          },
          "colorscale": {
           "diverging": [
            [
             0,
             "rgb(103,0,31)"
            ],
            [
             0.1,
             "rgb(178,24,43)"
            ],
            [
             0.2,
             "rgb(214,96,77)"
            ],
            [
             0.3,
             "rgb(244,165,130)"
            ],
            [
             0.4,
             "rgb(253,219,199)"
            ],
            [
             0.5,
             "rgb(247,247,247)"
            ],
            [
             0.6,
             "rgb(209,229,240)"
            ],
            [
             0.7,
             "rgb(146,197,222)"
            ],
            [
             0.8,
             "rgb(67,147,195)"
            ],
            [
             0.9,
             "rgb(33,102,172)"
            ],
            [
             1,
             "rgb(5,48,97)"
            ]
           ],
           "sequential": [
            [
             0,
             "#440154"
            ],
            [
             0.1111111111111111,
             "#482878"
            ],
            [
             0.2222222222222222,
             "#3e4989"
            ],
            [
             0.3333333333333333,
             "#31688e"
            ],
            [
             0.4444444444444444,
             "#26828e"
            ],
            [
             0.5555555555555556,
             "#1f9e89"
            ],
            [
             0.6666666666666666,
             "#35b779"
            ],
            [
             0.7777777777777778,
             "#6ece58"
            ],
            [
             0.8888888888888888,
             "#b5de2b"
            ],
            [
             1,
             "#fde725"
            ]
           ],
           "sequentialminus": [
            [
             0,
             "#440154"
            ],
            [
             0.1111111111111111,
             "#482878"
            ],
            [
             0.2222222222222222,
             "#3e4989"
            ],
            [
             0.3333333333333333,
             "#31688e"
            ],
            [
             0.4444444444444444,
             "#26828e"
            ],
            [
             0.5555555555555556,
             "#1f9e89"
            ],
            [
             0.6666666666666666,
             "#35b779"
            ],
            [
             0.7777777777777778,
             "#6ece58"
            ],
            [
             0.8888888888888888,
             "#b5de2b"
            ],
            [
             1,
             "#fde725"
            ]
           ]
          },
          "colorway": [
           "#1F77B4",
           "#FF7F0E",
           "#2CA02C",
           "#D62728",
           "#9467BD",
           "#8C564B",
           "#E377C2",
           "#7F7F7F",
           "#BCBD22",
           "#17BECF"
          ],
          "font": {
           "color": "rgb(36,36,36)"
          },
          "geo": {
           "bgcolor": "white",
           "lakecolor": "white",
           "landcolor": "white",
           "showlakes": true,
           "showland": true,
           "subunitcolor": "white"
          },
          "hoverlabel": {
           "align": "left"
          },
          "hovermode": "closest",
          "mapbox": {
           "style": "light"
          },
          "paper_bgcolor": "white",
          "plot_bgcolor": "white",
          "polar": {
           "angularaxis": {
            "gridcolor": "rgb(232,232,232)",
            "linecolor": "rgb(36,36,36)",
            "showgrid": false,
            "showline": true,
            "ticks": "outside"
           },
           "bgcolor": "white",
           "radialaxis": {
            "gridcolor": "rgb(232,232,232)",
            "linecolor": "rgb(36,36,36)",
            "showgrid": false,
            "showline": true,
            "ticks": "outside"
           }
          },
          "scene": {
           "xaxis": {
            "backgroundcolor": "white",
            "gridcolor": "rgb(232,232,232)",
            "gridwidth": 2,
            "linecolor": "rgb(36,36,36)",
            "showbackground": true,
            "showgrid": false,
            "showline": true,
            "ticks": "outside",
            "zeroline": false,
            "zerolinecolor": "rgb(36,36,36)"
           },
           "yaxis": {
            "backgroundcolor": "white",
            "gridcolor": "rgb(232,232,232)",
            "gridwidth": 2,
            "linecolor": "rgb(36,36,36)",
            "showbackground": true,
            "showgrid": false,
            "showline": true,
            "ticks": "outside",
            "zeroline": false,
            "zerolinecolor": "rgb(36,36,36)"
           },
           "zaxis": {
            "backgroundcolor": "white",
            "gridcolor": "rgb(232,232,232)",
            "gridwidth": 2,
            "linecolor": "rgb(36,36,36)",
            "showbackground": true,
            "showgrid": false,
            "showline": true,
            "ticks": "outside",
            "zeroline": false,
            "zerolinecolor": "rgb(36,36,36)"
           }
          },
          "shapedefaults": {
           "fillcolor": "black",
           "line": {
            "width": 0
           },
           "opacity": 0.3
          },
          "ternary": {
           "aaxis": {
            "gridcolor": "rgb(232,232,232)",
            "linecolor": "rgb(36,36,36)",
            "showgrid": false,
            "showline": true,
            "ticks": "outside"
           },
           "baxis": {
            "gridcolor": "rgb(232,232,232)",
            "linecolor": "rgb(36,36,36)",
            "showgrid": false,
            "showline": true,
            "ticks": "outside"
           },
           "bgcolor": "white",
           "caxis": {
            "gridcolor": "rgb(232,232,232)",
            "linecolor": "rgb(36,36,36)",
            "showgrid": false,
            "showline": true,
            "ticks": "outside"
           }
          },
          "title": {
           "x": 0.05
          },
          "xaxis": {
           "automargin": true,
           "gridcolor": "rgb(232,232,232)",
           "linecolor": "rgb(36,36,36)",
           "showgrid": false,
           "showline": true,
           "ticks": "outside",
           "title": {
            "standoff": 15
           },
           "zeroline": false,
           "zerolinecolor": "rgb(36,36,36)"
          },
          "yaxis": {
           "automargin": true,
           "gridcolor": "rgb(232,232,232)",
           "linecolor": "rgb(36,36,36)",
           "showgrid": false,
           "showline": true,
           "ticks": "outside",
           "title": {
            "standoff": 15
           },
           "zeroline": false,
           "zerolinecolor": "rgb(36,36,36)"
          }
         }
        },
        "title": {
         "text": "<b>Most Cited Papers</b> in Medicine with AI"
        },
        "width": 1000,
        "xaxis": {
         "anchor": "y",
         "domain": [
          0,
          1
         ],
         "title": {
          "text": ""
         }
        },
        "yaxis": {
         "anchor": "x",
         "domain": [
          0,
          1
         ],
         "range": [
          0,
          6000
         ],
         "title": {
          "text": "Citations"
         }
        }
       }
      }
     },
     "metadata": {},
     "output_type": "display_data"
    }
   ],
   "source": [
    "import plotly.express as px\n",
    "\n",
    "# take the top 100 papers (each paper appears 3 times so we actually take the top 34 papers)\n",
    "main_medicine_ai_edit = main_medicine_ai_edit.sort_values(by=\"citations\", ascending=False).head(100)\n",
    "\n",
    "\n",
    "color_map = {\n",
    "    \"Computer Vision\": image_color[0],\n",
    "    \"NLP and LLM\": nlp_color[0],\n",
    "    \"Explainable\": explainable_color[0],\n",
    "    \"Rest\": color_rest[0],\n",
    "}\n",
    "\n",
    "# create scatter plot\n",
    "fig = px.scatter(\n",
    "    data_frame=main_medicine_ai_edit,\n",
    "    x=\"publication_date\",\n",
    "    y=\"citations\",\n",
    "    color=\"topics\",\n",
    "    symbol=\"topics\",\n",
    "    hover_data={\"title\": True},\n",
    "    title=\"<b>Most Cited Papers</b> in Medicine with AI\",\n",
    "    color_discrete_map=color_map,\n",
    ")\n",
    "\n",
    "\n",
    "# Add anotations as legend replacement\n",
    "fig.add_annotation(\n",
    "    x=\"2019-09-13\",\n",
    "    y=5500,\n",
    "    text=\"Explainable AI\",\n",
    "    ax=0,\n",
    "    ay=0,\n",
    "    font=dict(size=16, color=explainable_color[0], weight=\"bold\"),\n",
    ")\n",
    "\n",
    "fig.add_annotation(\n",
    "    x=\"2020-12-15\", y=2500, text=\"Computer Vision\", ax=0, ay=0, font=dict(size=16, color=image_color[0], weight=\"bold\")\n",
    ")\n",
    "fig.add_annotation(\n",
    "    x=\"2023-08-15\", y=2000, text=\"NLP and LLMs\", ax=0, ay=0, font=dict(size=16, color=nlp_color[0], weight=\"bold\")\n",
    ")\n",
    "\n",
    "fig.add_annotation(\n",
    "    x=\"2019-03-15\", y=2500, text=\"Other\", ax=0, ay=0, font=dict(size=16, color=color_rest[0], weight=\"bold\")\n",
    ")\n",
    "\n",
    "# add caption\n",
    "fig.add_annotation(\n",
    "    xref=\"paper\",\n",
    "    yref=\"paper\",\n",
    "    xanchor=\"right\",\n",
    "    yanchor=\"top\",\n",
    "    x=1.0,\n",
    "    y=1.0,\n",
    "    ax=0,\n",
    "    ay=0,\n",
    "    align=\"left\",\n",
    "    text=f'The two <b>most cited papers</b> in Medicine with AI since 2019 are<br>related to <b><span style=\"color: {explainable_color[0]};\">Explainable AI</span></b>. <b><span style=\"color: {nlp_color[0]};\">Large Language Models</span></b> and NLP<br>seems to be an <b>emerging trend</b>, with papers published<br>in 2023 already having a high number of citations.',\n",
    ")\n",
    "\n",
    "\n",
    "fig.update_layout(\n",
    "    template=\"simple_white\",\n",
    "    showlegend=False,\n",
    "    xaxis_title=\"\",\n",
    "    yaxis_title=\"Citations\",\n",
    "    width=1000,\n",
    "    height=600,\n",
    "    margin=dict(l=120),\n",
    "    yaxis=dict(range=[0, 6000]),\n",
    ")\n",
    "fig.write_image(\"citations_plot.png\", scale=10)\n",
    "fig.write_image(\"citations_plot.svg\", scale=10)\n",
    "fig.show()"
   ]
  },
  {
   "cell_type": "markdown",
   "metadata": {},
   "source": [
    "The legend is removed and replaced with annotations that appear close to the actual data points, making the plot easier to understand. Again, the grid lines and background are removed to create a cohesive, uncluttered visualization. The main takeaway is explained in the caption, and the headline is kept simple to improve comprehension, as placing relevant information and the main takeaway in the title would make it too heavy. "
   ]
  }
 ],
 "metadata": {
  "kernelspec": {
   "display_name": "Python 3",
   "language": "python",
   "name": "python3"
  },
  "language_info": {
   "codemirror_mode": {
    "name": "ipython",
    "version": 3
   },
   "file_extension": ".py",
   "mimetype": "text/x-python",
   "name": "python",
   "nbconvert_exporter": "python",
   "pygments_lexer": "ipython3",
   "version": "3.11.8"
  }
 },
 "nbformat": 4,
 "nbformat_minor": 2
}
